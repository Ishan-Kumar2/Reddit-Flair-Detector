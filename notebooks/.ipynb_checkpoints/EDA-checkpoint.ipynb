{
 "cells": [
  {
   "cell_type": "code",
   "execution_count": 1,
   "metadata": {},
   "outputs": [],
   "source": [
    "import numpy as np\n",
    "import matplotlib.pyplot as plt\n",
    "import pandas as pd\n",
    "plt.style.use('ggplot')\n",
    "colors=['goldenrod','mediumseagreen','cornflowerblue','cadetblue','tan']"
   ]
  },
  {
   "cell_type": "code",
   "execution_count": 2,
   "metadata": {},
   "outputs": [],
   "source": [
    "train_data=pd.read_csv('../dataset/Dataset.csv')"
   ]
  },
  {
   "cell_type": "code",
   "execution_count": 3,
   "metadata": {
    "scrolled": true
   },
   "outputs": [
    {
     "data": {
      "text/html": [
       "<div>\n",
       "<style scoped>\n",
       "    .dataframe tbody tr th:only-of-type {\n",
       "        vertical-align: middle;\n",
       "    }\n",
       "\n",
       "    .dataframe tbody tr th {\n",
       "        vertical-align: top;\n",
       "    }\n",
       "\n",
       "    .dataframe thead th {\n",
       "        text-align: right;\n",
       "    }\n",
       "</style>\n",
       "<table border=\"1\" class=\"dataframe\">\n",
       "  <thead>\n",
       "    <tr style=\"text-align: right;\">\n",
       "      <th></th>\n",
       "      <th>Unnamed: 0</th>\n",
       "      <th>Title</th>\n",
       "      <th>Score</th>\n",
       "      <th>ID</th>\n",
       "      <th>Image</th>\n",
       "      <th>NUM_Comments</th>\n",
       "      <th>Created</th>\n",
       "      <th>Body</th>\n",
       "      <th>Coronavirus</th>\n",
       "      <th>Politics</th>\n",
       "      <th>...</th>\n",
       "      <th>Scheduled</th>\n",
       "      <th>| Stickied Topic |</th>\n",
       "      <th>| Unverified Content / Disreputed Source |</th>\n",
       "      <th>Science/Technology</th>\n",
       "      <th>Food</th>\n",
       "      <th>| Not Original/Relevant Title |</th>\n",
       "      <th>| Social Media Rules |</th>\n",
       "      <th>CAA-NRC-NPR</th>\n",
       "      <th>Megathread</th>\n",
       "      <th>🥳</th>\n",
       "    </tr>\n",
       "  </thead>\n",
       "  <tbody>\n",
       "    <tr>\n",
       "      <th>0</th>\n",
       "      <td>0</td>\n",
       "      <td>Coronavirus (COVID-19) Megathread - News and U...</td>\n",
       "      <td>287</td>\n",
       "      <td>fqqdsg</td>\n",
       "      <td>https://www.reddit.com/r/india/comments/fqqdsg...</td>\n",
       "      <td>6834</td>\n",
       "      <td>1.585451e+09</td>\n",
       "      <td>**Central thread for sharing coronavirus News ...</td>\n",
       "      <td>1</td>\n",
       "      <td>0</td>\n",
       "      <td>...</td>\n",
       "      <td>0</td>\n",
       "      <td>0</td>\n",
       "      <td>0</td>\n",
       "      <td>0</td>\n",
       "      <td>0</td>\n",
       "      <td>0</td>\n",
       "      <td>0</td>\n",
       "      <td>0</td>\n",
       "      <td>0</td>\n",
       "      <td>0</td>\n",
       "    </tr>\n",
       "    <tr>\n",
       "      <th>1</th>\n",
       "      <td>1</td>\n",
       "      <td>Firozabad police fact-checking zee news (trans...</td>\n",
       "      <td>680</td>\n",
       "      <td>fwcz7h</td>\n",
       "      <td>https://i.redd.it/jbal4gxocbr41.jpg</td>\n",
       "      <td>62</td>\n",
       "      <td>1.586258e+09</td>\n",
       "      <td>NaN</td>\n",
       "      <td>0</td>\n",
       "      <td>1</td>\n",
       "      <td>...</td>\n",
       "      <td>0</td>\n",
       "      <td>0</td>\n",
       "      <td>0</td>\n",
       "      <td>0</td>\n",
       "      <td>0</td>\n",
       "      <td>0</td>\n",
       "      <td>0</td>\n",
       "      <td>0</td>\n",
       "      <td>0</td>\n",
       "      <td>0</td>\n",
       "    </tr>\n",
       "    <tr>\n",
       "      <th>2</th>\n",
       "      <td>2</td>\n",
       "      <td>Donald Trump talks of ‘retaliation’ if India t...</td>\n",
       "      <td>371</td>\n",
       "      <td>fwclvi</td>\n",
       "      <td>https://economictimes.indiatimes.com/industry/...</td>\n",
       "      <td>135</td>\n",
       "      <td>1.586257e+09</td>\n",
       "      <td>NaN</td>\n",
       "      <td>1</td>\n",
       "      <td>0</td>\n",
       "      <td>...</td>\n",
       "      <td>0</td>\n",
       "      <td>0</td>\n",
       "      <td>0</td>\n",
       "      <td>0</td>\n",
       "      <td>0</td>\n",
       "      <td>0</td>\n",
       "      <td>0</td>\n",
       "      <td>0</td>\n",
       "      <td>0</td>\n",
       "      <td>0</td>\n",
       "    </tr>\n",
       "    <tr>\n",
       "      <th>3</th>\n",
       "      <td>3</td>\n",
       "      <td>Mom came up with this impressive idea to celeb...</td>\n",
       "      <td>3129</td>\n",
       "      <td>fvz69t</td>\n",
       "      <td>https://i.redd.it/gurfdfd1e7r41.jpg</td>\n",
       "      <td>183</td>\n",
       "      <td>1.586210e+09</td>\n",
       "      <td>NaN</td>\n",
       "      <td>0</td>\n",
       "      <td>0</td>\n",
       "      <td>...</td>\n",
       "      <td>0</td>\n",
       "      <td>0</td>\n",
       "      <td>0</td>\n",
       "      <td>0</td>\n",
       "      <td>0</td>\n",
       "      <td>0</td>\n",
       "      <td>0</td>\n",
       "      <td>0</td>\n",
       "      <td>0</td>\n",
       "      <td>0</td>\n",
       "    </tr>\n",
       "    <tr>\n",
       "      <th>4</th>\n",
       "      <td>4</td>\n",
       "      <td>9 PM 9 Minutes: House Catches Fire In Bihar; G...</td>\n",
       "      <td>181</td>\n",
       "      <td>fwdysc</td>\n",
       "      <td>https://news.abplive.com/news/india/coronaviru...</td>\n",
       "      <td>14</td>\n",
       "      <td>1.586262e+09</td>\n",
       "      <td>NaN</td>\n",
       "      <td>0</td>\n",
       "      <td>0</td>\n",
       "      <td>...</td>\n",
       "      <td>0</td>\n",
       "      <td>0</td>\n",
       "      <td>0</td>\n",
       "      <td>0</td>\n",
       "      <td>0</td>\n",
       "      <td>0</td>\n",
       "      <td>0</td>\n",
       "      <td>0</td>\n",
       "      <td>0</td>\n",
       "      <td>0</td>\n",
       "    </tr>\n",
       "  </tbody>\n",
       "</table>\n",
       "<p>5 rows × 28 columns</p>\n",
       "</div>"
      ],
      "text/plain": [
       "   Unnamed: 0                                              Title  Score  \\\n",
       "0           0  Coronavirus (COVID-19) Megathread - News and U...    287   \n",
       "1           1  Firozabad police fact-checking zee news (trans...    680   \n",
       "2           2  Donald Trump talks of ‘retaliation’ if India t...    371   \n",
       "3           3  Mom came up with this impressive idea to celeb...   3129   \n",
       "4           4  9 PM 9 Minutes: House Catches Fire In Bihar; G...    181   \n",
       "\n",
       "       ID                                              Image  NUM_Comments  \\\n",
       "0  fqqdsg  https://www.reddit.com/r/india/comments/fqqdsg...          6834   \n",
       "1  fwcz7h                https://i.redd.it/jbal4gxocbr41.jpg            62   \n",
       "2  fwclvi  https://economictimes.indiatimes.com/industry/...           135   \n",
       "3  fvz69t                https://i.redd.it/gurfdfd1e7r41.jpg           183   \n",
       "4  fwdysc  https://news.abplive.com/news/india/coronaviru...            14   \n",
       "\n",
       "        Created                                               Body  \\\n",
       "0  1.585451e+09  **Central thread for sharing coronavirus News ...   \n",
       "1  1.586258e+09                                                NaN   \n",
       "2  1.586257e+09                                                NaN   \n",
       "3  1.586210e+09                                                NaN   \n",
       "4  1.586262e+09                                                NaN   \n",
       "\n",
       "   Coronavirus  Politics  ...  Scheduled  | Stickied Topic |  \\\n",
       "0            1         0  ...          0                   0   \n",
       "1            0         1  ...          0                   0   \n",
       "2            1         0  ...          0                   0   \n",
       "3            0         0  ...          0                   0   \n",
       "4            0         0  ...          0                   0   \n",
       "\n",
       "   | Unverified Content / Disreputed Source |  Science/Technology  Food  \\\n",
       "0                                           0                   0     0   \n",
       "1                                           0                   0     0   \n",
       "2                                           0                   0     0   \n",
       "3                                           0                   0     0   \n",
       "4                                           0                   0     0   \n",
       "\n",
       "   | Not Original/Relevant Title |  | Social Media Rules |  CAA-NRC-NPR  \\\n",
       "0                                0                       0            0   \n",
       "1                                0                       0            0   \n",
       "2                                0                       0            0   \n",
       "3                                0                       0            0   \n",
       "4                                0                       0            0   \n",
       "\n",
       "   Megathread  🥳  \n",
       "0           0  0  \n",
       "1           0  0  \n",
       "2           0  0  \n",
       "3           0  0  \n",
       "4           0  0  \n",
       "\n",
       "[5 rows x 28 columns]"
      ]
     },
     "execution_count": 3,
     "metadata": {},
     "output_type": "execute_result"
    }
   ],
   "source": [
    "train_data.head()"
   ]
  },
  {
   "cell_type": "markdown",
   "metadata": {},
   "source": [
    "# Column Names\n",
    "Renaming the Names so that they can  be accessed more easily"
   ]
  },
  {
   "cell_type": "code",
   "execution_count": 4,
   "metadata": {},
   "outputs": [
    {
     "data": {
      "text/plain": [
       "Index(['idx', 'Title', 'Score', 'ID', 'Image', 'Num_Comments', 'Created',\n",
       "       'Body', 'Label1Coronovirus', 'Label2Politics', 'Label3Non-Political',\n",
       "       'Label4None', 'Label5Repost', 'Label6Unverified',\n",
       "       'Label7Policy/Economy', 'Label8Photography', 'Label9Buisness/Finance',\n",
       "       'Label10AskIndia', 'Label11Scheduled', 'Label12Stickied-Topic',\n",
       "       'Label13Unverified-Content', 'Label14Science/Technology', 'Label15Food',\n",
       "       'Label16Not Original', 'Label17Social Media', 'Label18CAA/NRC',\n",
       "       'Label19Megathread', 'Label20Unk'],\n",
       "      dtype='object')"
      ]
     },
     "execution_count": 4,
     "metadata": {},
     "output_type": "execute_result"
    }
   ],
   "source": [
    "train_data=train_data.rename(columns={\n",
    "    'Unnamed: 0':'idx', \n",
    "    'NUM_Comments':'Num_Comments',\n",
    "    'Coronavirus':'Label1Coronovirus', \n",
    "    'Politics':'Label2Politics', \n",
    "    'Non-Political':'Label3Non-Political',\n",
    "    'Unnamed: 11':'Label4None', \n",
    "    '| Repost |':'Label5Repost', \n",
    "    'Unverified':'Label6Unverified', \n",
    "    'Policy/Economy':'Label7Policy/Economy',\n",
    "    'Photography':'Label8Photography', \n",
    "    'Business/Finance':'Label9Buisness/Finance', \n",
    "    'AskIndia':'Label10AskIndia',\n",
    "    'Scheduled':'Label11Scheduled',\n",
    "    '| Stickied Topic |':'Label12Stickied-Topic', \n",
    "    '| Unverified Content / Disreputed Source |':'Label13Unverified-Content',\n",
    "    'Science/Technology':'Label14Science/Technology', \n",
    "    'Food':'Label15Food', \n",
    "    '| Not Original/Relevant Title |':'Label16Not Original',\n",
    "    '| Social Media Rules |':'Label17Social Media', \n",
    "    'CAA-NRC-NPR':'Label18CAA/NRC', \n",
    "    'Megathread':'Label19Megathread', \n",
    "    '🥳':'Label20Unk'})\n",
    "\n",
    "\n",
    "train_data.columns"
   ]
  },
  {
   "cell_type": "code",
   "execution_count": 5,
   "metadata": {},
   "outputs": [
    {
     "data": {
      "text/plain": [
       "Index(['Label1Coronovirus', 'Label2Politics', 'Label3Non-Political',\n",
       "       'Label4None', 'Label5Repost', 'Label6Unverified',\n",
       "       'Label7Policy/Economy', 'Label8Photography', 'Label9Buisness/Finance',\n",
       "       'Label10AskIndia', 'Label11Scheduled', 'Label12Stickied-Topic',\n",
       "       'Label13Unverified-Content', 'Label14Science/Technology', 'Label15Food',\n",
       "       'Label16Not Original', 'Label17Social Media', 'Label18CAA/NRC',\n",
       "       'Label19Megathread', 'Label20Unk'],\n",
       "      dtype='object')"
      ]
     },
     "execution_count": 5,
     "metadata": {},
     "output_type": "execute_result"
    }
   ],
   "source": [
    "labels=train_data.columns[8:]\n",
    "labels"
   ]
  },
  {
   "cell_type": "code",
   "execution_count": 6,
   "metadata": {},
   "outputs": [],
   "source": [
    "vals=[]\n",
    "\n",
    "for i in labels:\n",
    "    vals.append(train_data[i].value_counts()[1])"
   ]
  },
  {
   "cell_type": "code",
   "execution_count": 7,
   "metadata": {},
   "outputs": [
    {
     "data": {
      "image/png": "[encoded data removed]",
      "text/plain": [
       "<Figure size 432x288 with 1 Axes>"
      ]
     },
     "metadata": {
      "needs_background": "light"
     },
     "output_type": "display_data"
    }
   ],
   "source": [
    "fig=plt.figure()\n",
    "ax=fig.add_axes([4,4,4,4])\n",
    "ax.bar(labels,vals,color='b')\n",
    "plt.show()"
   ]
  },
  {
   "cell_type": "markdown",
   "metadata": {},
   "source": [
    "#Analysis\n",
    "The Dataset is highly imbalanced Posts of Coronavirus are highest by a margin and some flairs like MegaThread and Not Original have barely 1-2 posts. If the data is fed untreated like this the model is mostly to predict each post as 0 (Coronavirus)\n",
    "\n",
    "I decided to make the Dataset a bit more even by seperating the flairs into some groups\n",
    "\n",
    "### Dropping Columns\n",
    "- ### 'Unknown', 'Megathread', 'CAA/NRC', 'Social Media', 'Not Original','Unverified-Content','Stickied-Topic',\n",
    "These flairs have very little posts and cant be used as a feature.\n",
    "\n",
    "### Others Flair\n",
    "- ### 'Policy/Economy', 'Photography', 'Buisness/Finance', 'Science/Technology', 'Food'\n",
    "These dont have many posts independently but collectively have enough, Hence I made a flair called Objects to denote these flairs collectively. Further another model can be trained to further classify these Object posts into the respective categories\n",
    "    \n",
    "### Test Set\n",
    "- ### 'None', 'Repost', 'Unverified', 'Scheduled'\n",
    "These flairs dont have enough posts in them and their flair is not conclusively telling what they are about either. Hence I decided to use them as a test set and let the trained model identify their flairs"
   ]
  },
  {
   "cell_type": "code",
   "execution_count": 8,
   "metadata": {},
   "outputs": [],
   "source": [
    "dropping_cols=['Label20Unk','Label19Megathread','Label18CAA/NRC','Label17Social Media',\n",
    "              'Label16Not Original','Label13Unverified-Content','Label12Stickied-Topic',\n",
    "              ]"
   ]
  },
  {
   "cell_type": "code",
   "execution_count": 9,
   "metadata": {},
   "outputs": [],
   "source": [
    "other=['Label7Policy/Economy',\n",
    "      'Label8Photography',\n",
    "      'Label9Buisness/Finance',\n",
    "       'Label14Science/Technology',\n",
    "       'Label15Food',\n",
    "       ]"
   ]
  },
  {
   "cell_type": "code",
   "execution_count": 10,
   "metadata": {},
   "outputs": [],
   "source": [
    "test_set=['Label4None',\n",
    "         'Label5Repost',\n",
    "         'Label6Unverified',\n",
    "         'Label11Scheduled']"
   ]
  },
  {
   "cell_type": "code",
   "execution_count": 11,
   "metadata": {},
   "outputs": [],
   "source": [
    "train_data=train_data.drop(dropping_cols,axis=1)"
   ]
  },
  {
   "cell_type": "code",
   "execution_count": 12,
   "metadata": {},
   "outputs": [
    {
     "data": {
      "text/plain": [
       "(692, 21)"
      ]
     },
     "execution_count": 12,
     "metadata": {},
     "output_type": "execute_result"
    }
   ],
   "source": [
    "train_data.shape"
   ]
  },
  {
   "cell_type": "code",
   "execution_count": 13,
   "metadata": {},
   "outputs": [],
   "source": [
    "\"\"\"New Column for Objects Flair\"\"\"\n",
    "train_data['Label4Objects']=0"
   ]
  },
  {
   "cell_type": "code",
   "execution_count": 14,
   "metadata": {},
   "outputs": [],
   "source": [
    "for i in range(len(train_data)):\n",
    "    for nam in other:\n",
    "        if (train_data.loc[i,nam]==1):\n",
    "            train_data.loc[i,'Label4Objects']=1\n",
    "    \n",
    "    "
   ]
  },
  {
   "cell_type": "code",
   "execution_count": 15,
   "metadata": {},
   "outputs": [
    {
     "data": {
      "text/html": [
       "<div>\n",
       "<style scoped>\n",
       "    .dataframe tbody tr th:only-of-type {\n",
       "        vertical-align: middle;\n",
       "    }\n",
       "\n",
       "    .dataframe tbody tr th {\n",
       "        vertical-align: top;\n",
       "    }\n",
       "\n",
       "    .dataframe thead th {\n",
       "        text-align: right;\n",
       "    }\n",
       "</style>\n",
       "<table border=\"1\" class=\"dataframe\">\n",
       "  <thead>\n",
       "    <tr style=\"text-align: right;\">\n",
       "      <th></th>\n",
       "      <th>idx</th>\n",
       "      <th>Title</th>\n",
       "      <th>Score</th>\n",
       "      <th>ID</th>\n",
       "      <th>Image</th>\n",
       "      <th>Num_Comments</th>\n",
       "      <th>Created</th>\n",
       "      <th>Body</th>\n",
       "      <th>Label1Coronovirus</th>\n",
       "      <th>Label2Politics</th>\n",
       "      <th>...</th>\n",
       "      <th>Label5Repost</th>\n",
       "      <th>Label6Unverified</th>\n",
       "      <th>Label7Policy/Economy</th>\n",
       "      <th>Label8Photography</th>\n",
       "      <th>Label9Buisness/Finance</th>\n",
       "      <th>Label10AskIndia</th>\n",
       "      <th>Label11Scheduled</th>\n",
       "      <th>Label14Science/Technology</th>\n",
       "      <th>Label15Food</th>\n",
       "      <th>Label4Objects</th>\n",
       "    </tr>\n",
       "  </thead>\n",
       "  <tbody>\n",
       "    <tr>\n",
       "      <th>23</th>\n",
       "      <td>23</td>\n",
       "      <td>Covid-19 lockdown impact: Unemployment rate ri...</td>\n",
       "      <td>28</td>\n",
       "      <td>fweqm5</td>\n",
       "      <td>https://www.livemint.com/news/india/covid-19-l...</td>\n",
       "      <td>1</td>\n",
       "      <td>1.586266e+09</td>\n",
       "      <td>NaN</td>\n",
       "      <td>0</td>\n",
       "      <td>0</td>\n",
       "      <td>...</td>\n",
       "      <td>0</td>\n",
       "      <td>0</td>\n",
       "      <td>1</td>\n",
       "      <td>0</td>\n",
       "      <td>0</td>\n",
       "      <td>0</td>\n",
       "      <td>0</td>\n",
       "      <td>0</td>\n",
       "      <td>0</td>\n",
       "      <td>1</td>\n",
       "    </tr>\n",
       "    <tr>\n",
       "      <th>27</th>\n",
       "      <td>27</td>\n",
       "      <td>Starry timelapse from my roof. 600 photos{f/3....</td>\n",
       "      <td>33</td>\n",
       "      <td>fwctr4</td>\n",
       "      <td>https://v.redd.it/a3y5judnabr41</td>\n",
       "      <td>2</td>\n",
       "      <td>1.586258e+09</td>\n",
       "      <td>NaN</td>\n",
       "      <td>0</td>\n",
       "      <td>0</td>\n",
       "      <td>...</td>\n",
       "      <td>0</td>\n",
       "      <td>0</td>\n",
       "      <td>0</td>\n",
       "      <td>1</td>\n",
       "      <td>0</td>\n",
       "      <td>0</td>\n",
       "      <td>0</td>\n",
       "      <td>0</td>\n",
       "      <td>0</td>\n",
       "      <td>1</td>\n",
       "    </tr>\n",
       "    <tr>\n",
       "      <th>31</th>\n",
       "      <td>31</td>\n",
       "      <td>Isn't it just fucking great how companies like...</td>\n",
       "      <td>242</td>\n",
       "      <td>fw14l3</td>\n",
       "      <td>https://www.reddit.com/r/india/comments/fw14l3...</td>\n",
       "      <td>52</td>\n",
       "      <td>1.586217e+09</td>\n",
       "      <td>And I know that a lot of upper management in t...</td>\n",
       "      <td>0</td>\n",
       "      <td>0</td>\n",
       "      <td>...</td>\n",
       "      <td>0</td>\n",
       "      <td>0</td>\n",
       "      <td>0</td>\n",
       "      <td>0</td>\n",
       "      <td>1</td>\n",
       "      <td>0</td>\n",
       "      <td>0</td>\n",
       "      <td>0</td>\n",
       "      <td>0</td>\n",
       "      <td>1</td>\n",
       "    </tr>\n",
       "    <tr>\n",
       "      <th>44</th>\n",
       "      <td>44</td>\n",
       "      <td>India’s richest man lost $300 million a day in...</td>\n",
       "      <td>12</td>\n",
       "      <td>fwfkf8</td>\n",
       "      <td>https://qz.com/india/1833510/coronavirus-wipes...</td>\n",
       "      <td>5</td>\n",
       "      <td>1.586270e+09</td>\n",
       "      <td>NaN</td>\n",
       "      <td>0</td>\n",
       "      <td>0</td>\n",
       "      <td>...</td>\n",
       "      <td>0</td>\n",
       "      <td>0</td>\n",
       "      <td>0</td>\n",
       "      <td>0</td>\n",
       "      <td>1</td>\n",
       "      <td>0</td>\n",
       "      <td>0</td>\n",
       "      <td>0</td>\n",
       "      <td>0</td>\n",
       "      <td>1</td>\n",
       "    </tr>\n",
       "    <tr>\n",
       "      <th>70</th>\n",
       "      <td>70</td>\n",
       "      <td>How the 2020 Stock Market Crash is Different f...</td>\n",
       "      <td>6</td>\n",
       "      <td>fwf01u</td>\n",
       "      <td>https://www.financereads.in/how-the-2020-stock...</td>\n",
       "      <td>0</td>\n",
       "      <td>1.586267e+09</td>\n",
       "      <td>NaN</td>\n",
       "      <td>0</td>\n",
       "      <td>0</td>\n",
       "      <td>...</td>\n",
       "      <td>0</td>\n",
       "      <td>0</td>\n",
       "      <td>0</td>\n",
       "      <td>0</td>\n",
       "      <td>1</td>\n",
       "      <td>0</td>\n",
       "      <td>0</td>\n",
       "      <td>0</td>\n",
       "      <td>0</td>\n",
       "      <td>1</td>\n",
       "    </tr>\n",
       "  </tbody>\n",
       "</table>\n",
       "<p>5 rows × 22 columns</p>\n",
       "</div>"
      ],
      "text/plain": [
       "    idx                                              Title  Score      ID  \\\n",
       "23   23  Covid-19 lockdown impact: Unemployment rate ri...     28  fweqm5   \n",
       "27   27  Starry timelapse from my roof. 600 photos{f/3....     33  fwctr4   \n",
       "31   31  Isn't it just fucking great how companies like...    242  fw14l3   \n",
       "44   44  India’s richest man lost $300 million a day in...     12  fwfkf8   \n",
       "70   70  How the 2020 Stock Market Crash is Different f...      6  fwf01u   \n",
       "\n",
       "                                                Image  Num_Comments  \\\n",
       "23  https://www.livemint.com/news/india/covid-19-l...             1   \n",
       "27                    https://v.redd.it/a3y5judnabr41             2   \n",
       "31  https://www.reddit.com/r/india/comments/fw14l3...            52   \n",
       "44  https://qz.com/india/1833510/coronavirus-wipes...             5   \n",
       "70  https://www.financereads.in/how-the-2020-stock...             0   \n",
       "\n",
       "         Created                                               Body  \\\n",
       "23  1.586266e+09                                                NaN   \n",
       "27  1.586258e+09                                                NaN   \n",
       "31  1.586217e+09  And I know that a lot of upper management in t...   \n",
       "44  1.586270e+09                                                NaN   \n",
       "70  1.586267e+09                                                NaN   \n",
       "\n",
       "    Label1Coronovirus  Label2Politics  ...  Label5Repost  Label6Unverified  \\\n",
       "23                  0               0  ...             0                 0   \n",
       "27                  0               0  ...             0                 0   \n",
       "31                  0               0  ...             0                 0   \n",
       "44                  0               0  ...             0                 0   \n",
       "70                  0               0  ...             0                 0   \n",
       "\n",
       "    Label7Policy/Economy  Label8Photography  Label9Buisness/Finance  \\\n",
       "23                     1                  0                       0   \n",
       "27                     0                  1                       0   \n",
       "31                     0                  0                       1   \n",
       "44                     0                  0                       1   \n",
       "70                     0                  0                       1   \n",
       "\n",
       "    Label10AskIndia  Label11Scheduled  Label14Science/Technology  Label15Food  \\\n",
       "23                0                 0                          0            0   \n",
       "27                0                 0                          0            0   \n",
       "31                0                 0                          0            0   \n",
       "44                0                 0                          0            0   \n",
       "70                0                 0                          0            0   \n",
       "\n",
       "    Label4Objects  \n",
       "23              1  \n",
       "27              1  \n",
       "31              1  \n",
       "44              1  \n",
       "70              1  \n",
       "\n",
       "[5 rows x 22 columns]"
      ]
     },
     "execution_count": 15,
     "metadata": {},
     "output_type": "execute_result"
    }
   ],
   "source": [
    "train_data[train_data['Label4Objects']==1].head()"
   ]
  },
  {
   "cell_type": "code",
   "execution_count": 16,
   "metadata": {},
   "outputs": [],
   "source": [
    "\"\"\"Dropping the Original Contents of Others\"\"\"\n",
    "train_data=train_data.drop(other,axis=1)"
   ]
  },
  {
   "cell_type": "code",
   "execution_count": 17,
   "metadata": {},
   "outputs": [
    {
     "data": {
      "text/plain": [
       "['Label4None', 'Label5Repost', 'Label6Unverified', 'Label11Scheduled']"
      ]
     },
     "execution_count": 17,
     "metadata": {},
     "output_type": "execute_result"
    }
   ],
   "source": [
    "\"\"\"Making the Test Set\"\"\"\n",
    "test_set"
   ]
  },
  {
   "cell_type": "code",
   "execution_count": 18,
   "metadata": {},
   "outputs": [],
   "source": [
    "test_dat=train_data[train_data['Label4None']==1]"
   ]
  },
  {
   "cell_type": "code",
   "execution_count": 19,
   "metadata": {},
   "outputs": [],
   "source": [
    "test_dat=test_dat.append(train_data[train_data['Label5Repost']==1])\n",
    "test_dat=test_dat.append(train_data[train_data['Label6Unverified']==1])\n",
    "test_dat=test_dat.append(train_data[train_data['Label11Scheduled']==1])\n"
   ]
  },
  {
   "cell_type": "code",
   "execution_count": 20,
   "metadata": {},
   "outputs": [
    {
     "data": {
      "text/plain": [
       "(22, 17)"
      ]
     },
     "execution_count": 20,
     "metadata": {},
     "output_type": "execute_result"
    }
   ],
   "source": [
    "test_dat.shape"
   ]
  },
  {
   "cell_type": "code",
   "execution_count": 21,
   "metadata": {},
   "outputs": [],
   "source": [
    "train_data=train_data.drop(test_set,axis=1)"
   ]
  },
  {
   "cell_type": "code",
   "execution_count": 22,
   "metadata": {},
   "outputs": [],
   "source": [
    "train_data['Label5AskIndia']=train_data['Label10AskIndia']"
   ]
  },
  {
   "cell_type": "code",
   "execution_count": 23,
   "metadata": {},
   "outputs": [
    {
     "data": {
      "text/html": [
       "<div>\n",
       "<style scoped>\n",
       "    .dataframe tbody tr th:only-of-type {\n",
       "        vertical-align: middle;\n",
       "    }\n",
       "\n",
       "    .dataframe tbody tr th {\n",
       "        vertical-align: top;\n",
       "    }\n",
       "\n",
       "    .dataframe thead th {\n",
       "        text-align: right;\n",
       "    }\n",
       "</style>\n",
       "<table border=\"1\" class=\"dataframe\">\n",
       "  <thead>\n",
       "    <tr style=\"text-align: right;\">\n",
       "      <th></th>\n",
       "      <th>idx</th>\n",
       "      <th>Title</th>\n",
       "      <th>Score</th>\n",
       "      <th>ID</th>\n",
       "      <th>Image</th>\n",
       "      <th>Num_Comments</th>\n",
       "      <th>Created</th>\n",
       "      <th>Body</th>\n",
       "      <th>Label1Coronovirus</th>\n",
       "      <th>Label2Politics</th>\n",
       "      <th>Label3Non-Political</th>\n",
       "      <th>Label10AskIndia</th>\n",
       "      <th>Label4Objects</th>\n",
       "      <th>Label5AskIndia</th>\n",
       "    </tr>\n",
       "  </thead>\n",
       "  <tbody>\n",
       "    <tr>\n",
       "      <th>0</th>\n",
       "      <td>0</td>\n",
       "      <td>Coronavirus (COVID-19) Megathread - News and U...</td>\n",
       "      <td>287</td>\n",
       "      <td>fqqdsg</td>\n",
       "      <td>https://www.reddit.com/r/india/comments/fqqdsg...</td>\n",
       "      <td>6834</td>\n",
       "      <td>1.585451e+09</td>\n",
       "      <td>**Central thread for sharing coronavirus News ...</td>\n",
       "      <td>1</td>\n",
       "      <td>0</td>\n",
       "      <td>0</td>\n",
       "      <td>0</td>\n",
       "      <td>0</td>\n",
       "      <td>0</td>\n",
       "    </tr>\n",
       "    <tr>\n",
       "      <th>1</th>\n",
       "      <td>1</td>\n",
       "      <td>Firozabad police fact-checking zee news (trans...</td>\n",
       "      <td>680</td>\n",
       "      <td>fwcz7h</td>\n",
       "      <td>https://i.redd.it/jbal4gxocbr41.jpg</td>\n",
       "      <td>62</td>\n",
       "      <td>1.586258e+09</td>\n",
       "      <td>NaN</td>\n",
       "      <td>0</td>\n",
       "      <td>1</td>\n",
       "      <td>0</td>\n",
       "      <td>0</td>\n",
       "      <td>0</td>\n",
       "      <td>0</td>\n",
       "    </tr>\n",
       "    <tr>\n",
       "      <th>2</th>\n",
       "      <td>2</td>\n",
       "      <td>Donald Trump talks of ‘retaliation’ if India t...</td>\n",
       "      <td>371</td>\n",
       "      <td>fwclvi</td>\n",
       "      <td>https://economictimes.indiatimes.com/industry/...</td>\n",
       "      <td>135</td>\n",
       "      <td>1.586257e+09</td>\n",
       "      <td>NaN</td>\n",
       "      <td>1</td>\n",
       "      <td>0</td>\n",
       "      <td>0</td>\n",
       "      <td>0</td>\n",
       "      <td>0</td>\n",
       "      <td>0</td>\n",
       "    </tr>\n",
       "    <tr>\n",
       "      <th>3</th>\n",
       "      <td>3</td>\n",
       "      <td>Mom came up with this impressive idea to celeb...</td>\n",
       "      <td>3129</td>\n",
       "      <td>fvz69t</td>\n",
       "      <td>https://i.redd.it/gurfdfd1e7r41.jpg</td>\n",
       "      <td>183</td>\n",
       "      <td>1.586210e+09</td>\n",
       "      <td>NaN</td>\n",
       "      <td>0</td>\n",
       "      <td>0</td>\n",
       "      <td>1</td>\n",
       "      <td>0</td>\n",
       "      <td>0</td>\n",
       "      <td>0</td>\n",
       "    </tr>\n",
       "    <tr>\n",
       "      <th>4</th>\n",
       "      <td>4</td>\n",
       "      <td>9 PM 9 Minutes: House Catches Fire In Bihar; G...</td>\n",
       "      <td>181</td>\n",
       "      <td>fwdysc</td>\n",
       "      <td>https://news.abplive.com/news/india/coronaviru...</td>\n",
       "      <td>14</td>\n",
       "      <td>1.586262e+09</td>\n",
       "      <td>NaN</td>\n",
       "      <td>0</td>\n",
       "      <td>0</td>\n",
       "      <td>1</td>\n",
       "      <td>0</td>\n",
       "      <td>0</td>\n",
       "      <td>0</td>\n",
       "    </tr>\n",
       "  </tbody>\n",
       "</table>\n",
       "</div>"
      ],
      "text/plain": [
       "   idx                                              Title  Score      ID  \\\n",
       "0    0  Coronavirus (COVID-19) Megathread - News and U...    287  fqqdsg   \n",
       "1    1  Firozabad police fact-checking zee news (trans...    680  fwcz7h   \n",
       "2    2  Donald Trump talks of ‘retaliation’ if India t...    371  fwclvi   \n",
       "3    3  Mom came up with this impressive idea to celeb...   3129  fvz69t   \n",
       "4    4  9 PM 9 Minutes: House Catches Fire In Bihar; G...    181  fwdysc   \n",
       "\n",
       "                                               Image  Num_Comments  \\\n",
       "0  https://www.reddit.com/r/india/comments/fqqdsg...          6834   \n",
       "1                https://i.redd.it/jbal4gxocbr41.jpg            62   \n",
       "2  https://economictimes.indiatimes.com/industry/...           135   \n",
       "3                https://i.redd.it/gurfdfd1e7r41.jpg           183   \n",
       "4  https://news.abplive.com/news/india/coronaviru...            14   \n",
       "\n",
       "        Created                                               Body  \\\n",
       "0  1.585451e+09  **Central thread for sharing coronavirus News ...   \n",
       "1  1.586258e+09                                                NaN   \n",
       "2  1.586257e+09                                                NaN   \n",
       "3  1.586210e+09                                                NaN   \n",
       "4  1.586262e+09                                                NaN   \n",
       "\n",
       "   Label1Coronovirus  Label2Politics  Label3Non-Political  Label10AskIndia  \\\n",
       "0                  1               0                    0                0   \n",
       "1                  0               1                    0                0   \n",
       "2                  1               0                    0                0   \n",
       "3                  0               0                    1                0   \n",
       "4                  0               0                    1                0   \n",
       "\n",
       "   Label4Objects  Label5AskIndia  \n",
       "0              0               0  \n",
       "1              0               0  \n",
       "2              0               0  \n",
       "3              0               0  \n",
       "4              0               0  "
      ]
     },
     "execution_count": 23,
     "metadata": {},
     "output_type": "execute_result"
    }
   ],
   "source": [
    "train_data.head()"
   ]
  },
  {
   "cell_type": "code",
   "execution_count": 24,
   "metadata": {},
   "outputs": [],
   "source": [
    "train_data=train_data.drop('Label10AskIndia',axis=1)"
   ]
  },
  {
   "cell_type": "code",
   "execution_count": 25,
   "metadata": {},
   "outputs": [
    {
     "data": {
      "text/plain": [
       "Index(['Label1Coronovirus', 'Label2Politics', 'Label3Non-Political',\n",
       "       'Label4Objects', 'Label5AskIndia'],\n",
       "      dtype='object')"
      ]
     },
     "execution_count": 25,
     "metadata": {},
     "output_type": "execute_result"
    }
   ],
   "source": [
    "labels=train_data.columns[8:]\n",
    "labels"
   ]
  },
  {
   "cell_type": "markdown",
   "metadata": {},
   "source": [
    "# Analysis\n",
    "The Rest of the Dataset is farily evenly divided except for the Coronavirus class which is about 3 times the other\n",
    "Taking some out from the corona Virus class and adding them to the test set\n"
   ]
  },
  {
   "cell_type": "code",
   "execution_count": 26,
   "metadata": {},
   "outputs": [
    {
     "data": {
      "image/png": "[encoded data removed]",
      "text/plain": [
       "<Figure size 432x288 with 1 Axes>"
      ]
     },
     "metadata": {
      "needs_background": "light"
     },
     "output_type": "display_data"
    }
   ],
   "source": [
    "vals=[]\n",
    "\n",
    "for i in labels:\n",
    "    vals.append(train_data[i].value_counts()[1])\n",
    "    \n",
    "fig=plt.figure()\n",
    "ax=fig.add_axes([0,0,1,1])\n",
    "ax.bar(labels,vals)\n",
    "plt.show()"
   ]
  },
  {
   "cell_type": "code",
   "execution_count": 27,
   "metadata": {},
   "outputs": [],
   "source": [
    "dropping_list=list(train_data[train_data['Label1Coronovirus']==1][120:].index)"
   ]
  },
  {
   "cell_type": "code",
   "execution_count": 28,
   "metadata": {},
   "outputs": [],
   "source": [
    "train_data=train_data.drop(dropping_list)"
   ]
  },
  {
   "cell_type": "code",
   "execution_count": 29,
   "metadata": {},
   "outputs": [
    {
     "data": {
      "text/plain": [
       "(506, 13)"
      ]
     },
     "execution_count": 29,
     "metadata": {},
     "output_type": "execute_result"
    }
   ],
   "source": [
    "train_data.shape"
   ]
  },
  {
   "cell_type": "code",
   "execution_count": 30,
   "metadata": {},
   "outputs": [
    {
     "data": {
      "image/png": "[encoded data removed]",
      "text/plain": [
       "<Figure size 432x288 with 1 Axes>"
      ]
     },
     "metadata": {
      "needs_background": "light"
     },
     "output_type": "display_data"
    }
   ],
   "source": [
    "vals=[]\n",
    "\n",
    "for i in labels:\n",
    "    vals.append(train_data[i].value_counts()[1])\n",
    "    \n",
    "fig=plt.figure()\n",
    "ax=fig.add_axes([0,0,1,1])\n",
    "ax.bar(labels,vals)\n",
    "plt.show()"
   ]
  },
  {
   "cell_type": "code",
   "execution_count": 31,
   "metadata": {},
   "outputs": [],
   "source": [
    "\"\"\"Saving the processed Dataset to updated_csv\"\"\"\n",
    "train_data.to_csv('updated_train.csv')"
   ]
  },
  {
   "cell_type": "code",
   "execution_count": 32,
   "metadata": {},
   "outputs": [],
   "source": [
    "\"\"\"Saving the Test set\"\"\"\n",
    "test_dat.to_csv('Test_data.csv')"
   ]
  },
  {
   "cell_type": "code",
   "execution_count": 33,
   "metadata": {},
   "outputs": [
    {
     "data": {
      "text/plain": [
       "(506, 13)"
      ]
     },
     "execution_count": 33,
     "metadata": {},
     "output_type": "execute_result"
    }
   ],
   "source": [
    "train_data.shape"
   ]
  },
  {
   "cell_type": "code",
   "execution_count": 34,
   "metadata": {},
   "outputs": [],
   "source": [
    "train_data=train_data.fillna(0)"
   ]
  },
  {
   "cell_type": "code",
   "execution_count": 35,
   "metadata": {},
   "outputs": [],
   "source": [
    "train_data=train_data.reset_index()\n"
   ]
  },
  {
   "cell_type": "markdown",
   "metadata": {},
   "source": [
    "# Image Data\n",
    "\n",
    "For the extractable images the Image link should be to a picture. To identify that I compared last 4 elements of Image ID and saw whether they were of the format .jpg or .png"
   ]
  },
  {
   "cell_type": "code",
   "execution_count": 36,
   "metadata": {},
   "outputs": [
    {
     "data": {
      "text/plain": [
       "(30, 8)"
      ]
     },
     "execution_count": 36,
     "metadata": {},
     "output_type": "execute_result"
    }
   ],
   "source": [
    "png=0\n",
    "jpg=0\n",
    "\n",
    "for i in range(len(train_data)):\n",
    "    a=train_data.loc[i,'Image']\n",
    "    if a[-4:]=='.png':\n",
    "        png+=1\n",
    "        \n",
    "    if a[-4:]=='.jpg':\n",
    "        jpg+=1\n",
    "        \n",
    "jpg,png\n",
    "    "
   ]
  },
  {
   "cell_type": "markdown",
   "metadata": {},
   "source": [
    "Since only 30 pngs and 8 jpg images are available, there is not enough data to use the images as a feature"
   ]
  },
  {
   "cell_type": "code",
   "execution_count": null,
   "metadata": {},
   "outputs": [],
   "source": [
    "train[train['Body'].notnull()]"
   ]
  },
  {
   "cell_type": "markdown",
   "metadata": {},
   "source": [
    "## Unrequired Datapoints\n",
    "After removing the test set columns some rows are such that they correspond to none of the existing flairs. They have to be removed.\n",
    "\n",
    "A temporary Column Sum is created which has the sum of all labels and ideally since each post belongs to a single flair it should be 1 for all values"
   ]
  },
  {
   "cell_type": "code",
   "execution_count": 38,
   "metadata": {},
   "outputs": [],
   "source": [
    "train_data['Sum']=train_data['Label1Coronovirus']+train_data['Label2Politics']+train_data['Label3Non-Political']+train_data['Label4Objects']+train_data['Label5AskIndia']"
   ]
  },
  {
   "cell_type": "code",
   "execution_count": 39,
   "metadata": {},
   "outputs": [],
   "source": [
    "\"\"\"Indexes of those data points which don't belong to any specific flairs\"\"\"\n",
    "output_less=train_data[train_data['Sum']!=1].index"
   ]
  },
  {
   "cell_type": "code",
   "execution_count": 40,
   "metadata": {},
   "outputs": [],
   "source": [
    "train_data.drop(output_less,inplace=True)"
   ]
  },
  {
   "cell_type": "code",
   "execution_count": 41,
   "metadata": {},
   "outputs": [
    {
     "data": {
      "text/plain": [
       "((473, 15), 473)"
      ]
     },
     "execution_count": 41,
     "metadata": {},
     "output_type": "execute_result"
    }
   ],
   "source": [
    "\"\"\"Now each data point has a flair value\"\"\"\n",
    "train_data.shape, train_data['Sum'].sum()"
   ]
  },
  {
   "cell_type": "code",
   "execution_count": 42,
   "metadata": {},
   "outputs": [],
   "source": [
    "\"\"\"The Sum column is no longer required\"\"\"\n",
    "del train_data['Sum']"
   ]
  },
  {
   "cell_type": "code",
   "execution_count": 43,
   "metadata": {},
   "outputs": [],
   "source": [
    "train_data.to_csv('updated_train.csv')"
   ]
  },
  {
   "cell_type": "markdown",
   "metadata": {},
   "source": [
    "# Statistical Anlysis of the Textual Data of the Titles\n",
    "\n",
    "I decided to try and find some other features which can be used as variables aiding in the classification process.\n",
    "\n",
    "To analyse the data instead oof using pandas grouping each time instead I decided to make different temporary datasets for the flairs"
   ]
  },
  {
   "cell_type": "code",
   "execution_count": 44,
   "metadata": {},
   "outputs": [],
   "source": [
    "Coronadb=train_data[train_data['Label1Coronovirus']==1]\n",
    "Politicsdb=train_data[train_data['Label2Politics']==1]\n",
    "NonPoliticaldb=train_data[train_data['Label3Non-Political']==1]\n",
    "Objectsdb=train_data[train_data['Label4Objects']==1]\n",
    "AskIndiadb=train_data[train_data['Label5AskIndia']==1]"
   ]
  },
  {
   "cell_type": "code",
   "execution_count": 45,
   "metadata": {},
   "outputs": [
    {
     "name": "stdout",
     "output_type": "stream",
     "text": [
      "120\n",
      "111\n",
      "94\n",
      "66\n",
      "82\n"
     ]
    }
   ],
   "source": [
    "print(len(Coronadb))\n",
    "print(len(Politicsdb))\n",
    "print(len(NonPoliticaldb))\n",
    "print(len(Objectsdb))\n",
    "print(len(AskIndiadb))"
   ]
  },
  {
   "cell_type": "markdown",
   "metadata": {},
   "source": [
    "# Features\n",
    "\n",
    "### 1. Word Count\n",
    "Comparing the number of words in the posts. This feature is also necessary for using as a denominator in other features\n",
    "\n",
    "### 2. Character Count\n",
    "Comparing the number of characters. This feature is also necessary to normalize/ use as a denominator for other features\n",
    "\n",
    "### 3. Punctuation Count\n",
    "Comparing the ratio of Punctuation to characters in the datasets. It is divided by number of characters in order to remove the factor of length of post. I am guessing polar posts like those of Politics and Coronavirus use more punctuation like '!' compared to objective posts like Non political\n",
    "\n",
    "### 4. Capital Letters\n",
    "Comparing the ratio of Capital letters to words. Ideally this should be less than one. Here also I think polar posts will have more explanatory statements thereby more usage of capital letters."
   ]
  },
  {
   "cell_type": "code",
   "execution_count": 46,
   "metadata": {},
   "outputs": [],
   "source": [
    "import string\n",
    "punc=string.punctuation"
   ]
  },
  {
   "cell_type": "code",
   "execution_count": 47,
   "metadata": {},
   "outputs": [],
   "source": [
    "def features(dataframe):\n",
    "    dataframe.loc[:,'word_count']=dataframe.loc[:,'Title'].apply(lambda x:len(x.split()))\n",
    "    dataframe['char_count']=dataframe['Title'].apply(lambda x:len(x.replace(\" \",\"\")))\n",
    "    dataframe['punc_count']=(dataframe['Title'].apply(lambda x : len([a for a in x if a in punc])))/dataframe['word_count']\n",
    "    dataframe['capitals'] = (dataframe['Title'].apply(lambda comment: sum(1 for c in comment if c.isupper())))/dataframe['word_count']\n",
    "    \n",
    "    return dataframe"
   ]
  },
  {
   "cell_type": "code",
   "execution_count": null,
   "metadata": {},
   "outputs": [],
   "source": [
    "\"\"\"Calling the Function on all indiviual flair datasets\"\"\"\n",
    "\n",
    "features(Coronadb)\n",
    "features(Politicsdb)\n",
    "features(NonPoliticaldb)\n",
    "features(Objectsdb)\n",
    "features(AskIndiadb)\n",
    "Coronadb.head()"
   ]
  },
  {
   "cell_type": "markdown",
   "metadata": {},
   "source": [
    "# Word Count\n",
    "\n",
    "They are approximately similar for all the databases hence can't be used as a feature to distinguish"
   ]
  },
  {
   "cell_type": "code",
   "execution_count": 49,
   "metadata": {},
   "outputs": [],
   "source": [
    "datasets=[Coronadb,Politicsdb,NonPoliticaldb,Objectsdb,AskIndiadb]\n",
    "dataset_names=['Coronadb','Politicsdb','NonPoliticaldb','Objectsdb','AskIndiadb']"
   ]
  },
  {
   "cell_type": "code",
   "execution_count": 50,
   "metadata": {},
   "outputs": [
    {
     "name": "stdout",
     "output_type": "stream",
     "text": [
      "13.866666666666667\n",
      "13.495495495495495\n",
      "12.01063829787234\n",
      "13.287878787878787\n",
      "11.975609756097562\n"
     ]
    },
    {
     "data": {
      "image/png": "[encoded data removed]",
      "text/plain": [
       "<Figure size 432x288 with 1 Axes>"
      ]
     },
     "metadata": {
      "needs_background": "light"
     },
     "output_type": "display_data"
    }
   ],
   "source": [
    "\n",
    "print(Coronadb['word_count'].mean())\n",
    "print(Politicsdb['word_count'].mean())\n",
    "print(NonPoliticaldb['word_count'].mean())\n",
    "print(Objectsdb['word_count'].mean())\n",
    "print(AskIndiadb['word_count'].mean())\n",
    "\n",
    "vals=[]\n",
    "\n",
    "for i in datasets:\n",
    "    vals.append(i['word_count'].mean())\n",
    "    \n",
    "fig=plt.figure()\n",
    "ax=fig.add_axes([0,0,1,1])\n",
    "ax.bar(dataset_names,vals,color=colors)\n",
    "plt.show()"
   ]
  },
  {
   "cell_type": "markdown",
   "metadata": {},
   "source": [
    "# Char Count\n",
    "These are higher for Corona and Politics than the other, but not very significantly. Not sure if this will be very useful in isolation"
   ]
  },
  {
   "cell_type": "code",
   "execution_count": 51,
   "metadata": {},
   "outputs": [
    {
     "name": "stdout",
     "output_type": "stream",
     "text": [
      "73.30833333333334\n",
      "70.57657657657657\n",
      "61.191489361702125\n",
      "68.43939393939394\n",
      "56.53658536585366\n"
     ]
    },
    {
     "data": {
      "image/png": "[encoded data removed]",
      "text/plain": [
       "<Figure size 432x288 with 1 Axes>"
      ]
     },
     "metadata": {
      "needs_background": "light"
     },
     "output_type": "display_data"
    }
   ],
   "source": [
    "\n",
    "print(Coronadb['char_count'].mean())\n",
    "print(Politicsdb['char_count'].mean())\n",
    "print(NonPoliticaldb['char_count'].mean())\n",
    "print(Objectsdb['char_count'].mean())\n",
    "print(AskIndiadb['char_count'].mean())\n",
    "\n",
    "vals=[]\n",
    "for i in datasets:\n",
    "    vals.append(i['char_count'].mean())\n",
    "    \n",
    "fig=plt.figure()\n",
    "ax=fig.add_axes([0,0,1,1])\n",
    "ax.bar(dataset_names,vals,color=colors)\n",
    "plt.show()"
   ]
  },
  {
   "cell_type": "markdown",
   "metadata": {},
   "source": [
    "# Capital Count\n",
    "Similar to char count, slightly more for the first 2. Can be used as feature"
   ]
  },
  {
   "cell_type": "code",
   "execution_count": 52,
   "metadata": {},
   "outputs": [
    {
     "name": "stdout",
     "output_type": "stream",
     "text": [
      "0.582331691358032\n",
      "0.5327189176972292\n",
      "0.46970095457061073\n",
      "0.47886904638241534\n",
      "0.31410931101067224\n"
     ]
    },
    {
     "data": {
      "image/png": "[encoded data removed]",
      "text/plain": [
       "<Figure size 432x288 with 1 Axes>"
      ]
     },
     "metadata": {
      "needs_background": "light"
     },
     "output_type": "display_data"
    }
   ],
   "source": [
    "\n",
    "print(Coronadb['capitals'].mean())\n",
    "print(Politicsdb['capitals'].mean())\n",
    "print(NonPoliticaldb['capitals'].mean())\n",
    "print(Objectsdb['capitals'].mean())\n",
    "print(AskIndiadb['capitals'].mean())\n",
    "\n",
    "vals=[]\n",
    "for i in datasets:\n",
    "    vals.append(i['capitals'].mean())\n",
    "    \n",
    "fig=plt.figure()\n",
    "ax=fig.add_axes([0,0,1,1])\n",
    "ax.bar(dataset_names,vals,color=colors)\n",
    "plt.show()"
   ]
  },
  {
   "cell_type": "markdown",
   "metadata": {},
   "source": [
    "# Punctuation Count\n",
    "Highest for Objects flair. Can use as a feature not sure about relevance"
   ]
  },
  {
   "cell_type": "code",
   "execution_count": 53,
   "metadata": {},
   "outputs": [
    {
     "name": "stdout",
     "output_type": "stream",
     "text": [
      "0.15440033953275828\n",
      "0.17254359584734405\n",
      "0.17159482669618692\n",
      "0.21863789145429066\n",
      "0.14696565789217278\n"
     ]
    },
    {
     "data": {
      "image/png": "[encoded data removed]",
      "text/plain": [
       "<Figure size 432x288 with 1 Axes>"
      ]
     },
     "metadata": {
      "needs_background": "light"
     },
     "output_type": "display_data"
    }
   ],
   "source": [
    "\n",
    "print(Coronadb['punc_count'].mean())\n",
    "print(Politicsdb['punc_count'].mean())\n",
    "print(NonPoliticaldb['punc_count'].mean())\n",
    "print(Objectsdb['punc_count'].mean())\n",
    "print(AskIndiadb['punc_count'].mean())\n",
    "\n",
    "vals=[]\n",
    "for i in datasets:\n",
    "    vals.append(i['punc_count'].mean())\n",
    "    \n",
    "fig=plt.figure()\n",
    "ax=fig.add_axes([0,0,1,1])\n",
    "ax.bar(dataset_names,vals,color=colors)\n",
    "plt.show()"
   ]
  },
  {
   "cell_type": "markdown",
   "metadata": {},
   "source": [
    "# Most Common Words\n",
    "Seeing most common word occurences in different flairs. Not sure how to use this as a flair"
   ]
  },
  {
   "cell_type": "code",
   "execution_count": null,
   "metadata": {},
   "outputs": [],
   "source": [
    "Corona_sents=[]\n",
    "for i in range(Coronadb.shape[0]):\n",
    "    Corona_sents.extend(Coronadb.loc[i,'Title'].split())"
   ]
  },
  {
   "cell_type": "code",
   "execution_count": 55,
   "metadata": {},
   "outputs": [],
   "source": [
    "from collections import Counter\n",
    "counterLists=Counter(Corona_sents)"
   ]
  },
  {
   "cell_type": "code",
   "execution_count": 56,
   "metadata": {},
   "outputs": [
    {
     "data": {
      "text/plain": [
       "[('-', 2),\n",
       " ('Coronavirus', 1),\n",
       " ('(COVID-19)', 1),\n",
       " ('Megathread', 1),\n",
       " ('News', 1),\n",
       " ('and', 1),\n",
       " ('Updates', 1),\n",
       " ('3', 1)]"
      ]
     },
     "execution_count": 56,
     "metadata": {},
     "output_type": "execute_result"
    }
   ],
   "source": [
    "\"\"\"Most of the Top used words are stop words only\"\"\"\n",
    "counterLists.most_common(10)"
   ]
  },
  {
   "cell_type": "markdown",
   "metadata": {},
   "source": [
    "# Score\n",
    "Score works as in Upvotes - Downvotes. So here I think the polar flairs like Coronavirus and Politics should have a low score, as they have as many people disagreeing as those who agree. \n",
    "\n",
    "### Results-\n",
    "On analysis it is found that this is not the case nonpolitical has the highest average score. The spectrum is fairly varied and can act as a good feature. "
   ]
  },
  {
   "cell_type": "code",
   "execution_count": 57,
   "metadata": {},
   "outputs": [
    {
     "name": "stdout",
     "output_type": "stream",
     "text": [
      "117.69166666666666\n",
      "141.44144144144144\n",
      "154.46808510638297\n",
      "50.25757575757576\n",
      "19.670731707317074\n"
     ]
    },
    {
     "data": {
      "image/png": "[encoded data removed]",
      "text/plain": [
       "<Figure size 432x288 with 1 Axes>"
      ]
     },
     "metadata": {
      "needs_background": "light"
     },
     "output_type": "display_data"
    }
   ],
   "source": [
    "print(Coronadb['Score'].sum()/len(Coronadb))\n",
    "print(Politicsdb['Score'].sum()/len(Politicsdb))\n",
    "print(NonPoliticaldb['Score'].sum()/len(NonPoliticaldb))\n",
    "print(Objectsdb['Score'].sum()/len(Objectsdb))\n",
    "print(AskIndiadb['Score'].sum()/len(AskIndiadb))\n",
    "\n",
    "vals=[]\n",
    "for i in datasets:\n",
    "    vals.append(i['Score'].sum()/len(i))\n",
    "    \n",
    "fig=plt.figure()\n",
    "ax=fig.add_axes([0,0,1,1])\n",
    "ax.bar(dataset_names,vals,color=colors)\n",
    "plt.show()\n"
   ]
  },
  {
   "cell_type": "markdown",
   "metadata": {},
   "source": [
    "# Number of Comments\n",
    "Here I think there will definitely be more discussion on posts of politics and coronavirus as they are more debatable. \n",
    "\n",
    "### Results-\n",
    "The hypothesis was correct and the feature is well spread out, hence would be helpfull to the main model."
   ]
  },
  {
   "cell_type": "code",
   "execution_count": 58,
   "metadata": {},
   "outputs": [
    {
     "name": "stdout",
     "output_type": "stream",
     "text": [
      "70.05\n",
      "21.882882882882882\n",
      "19.393617021276597\n",
      "11.257575757575758\n",
      "14.71951219512195\n"
     ]
    },
    {
     "data": {
      "image/png": "[encoded data removed]",
      "text/plain": [
       "<Figure size 432x288 with 1 Axes>"
      ]
     },
     "metadata": {
      "needs_background": "light"
     },
     "output_type": "display_data"
    }
   ],
   "source": [
    "print(Coronadb['Num_Comments'].sum()/len(Coronadb))\n",
    "print(Politicsdb['Num_Comments'].sum()/len(Politicsdb))\n",
    "print(NonPoliticaldb['Num_Comments'].sum()/len(NonPoliticaldb))\n",
    "print(Objectsdb['Num_Comments'].sum()/len(Objectsdb))\n",
    "print(AskIndiadb['Num_Comments'].sum()/len(AskIndiadb))\n",
    "\n",
    "\n",
    "vals=[]\n",
    "for i in datasets:\n",
    "    vals.append(i['Num_Comments'].sum()/len(i))\n",
    "    \n",
    "fig=plt.figure()\n",
    "ax=fig.add_axes([0,0,1,1])\n",
    "ax.bar(dataset_names,vals,color=colors)\n",
    "plt.show()\n"
   ]
  },
  {
   "cell_type": "code",
   "execution_count": null,
   "metadata": {},
   "outputs": [],
   "source": []
  }
 ],
 "metadata": {
  "kernelspec": {
   "display_name": "Python 3",
   "language": "python",
   "name": "python3"
  },
  "language_info": {
   "codemirror_mode": {
    "name": "ipython",
    "version": 3
   },
   "file_extension": ".py",
   "mimetype": "text/x-python",
   "name": "python",
   "nbconvert_exporter": "python",
   "pygments_lexer": "ipython3",
   "version": "3.7.3"
  }
 },
 "nbformat": 4,
 "nbformat_minor": 2
}
