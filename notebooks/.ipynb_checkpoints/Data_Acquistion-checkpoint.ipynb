{
 "cells": [
  {
   "cell_type": "code",
   "execution_count": null,
   "metadata": {
    "scrolled": true
   },
   "outputs": [],
   "source": [
    "#!pip install praw"
   ]
  },
  {
   "cell_type": "markdown",
   "metadata": {},
   "source": [
    "# Praw API\n",
    "I decided to use the PRAW API from reddit itself and save the features extracted from it into a csv file for further analysis"
   ]
  },
  {
   "cell_type": "code",
   "execution_count": null,
   "metadata": {},
   "outputs": [],
   "source": [
    "import praw"
   ]
  },
  {
   "cell_type": "code",
   "execution_count": null,
   "metadata": {},
   "outputs": [],
   "source": [
    "reddit = praw.Reddit(client_id='CLIENT ID', \n",
    "                     client_secret='CLIENT SECRET', \n",
    "                     user_agent='USER AGENT')\n"
   ]
  },
  {
   "cell_type": "code",
   "execution_count": null,
   "metadata": {
    "scrolled": true
   },
   "outputs": [],
   "source": [
    "\"\"\"Preview of the posts\"\"\"\n",
    "\n",
    "hot_posts=reddit.subreddit('India').hot(limit=5)\n",
    "for post in hot_posts:\n",
    "    print(f\"Title {post.title}\")\n",
    "    print(f\"Upvotes {post.score}\")\n",
    "    print(f\"Unique ID {post.id}\")\n",
    "    print(f\"Image {post.url}\")\n",
    "    print(f\"Number of Comments {post.num_comments}\")\n",
    "    print(f\"Created {post.created}\")\n",
    "    print(f\"Body {post.selftext}\")"
   ]
  },
  {
   "cell_type": "code",
   "execution_count": null,
   "metadata": {},
   "outputs": [],
   "source": [
    "\"\"\"Saving the posts in a pandas dataframe\"\"\"\n",
    "import pandas as pd\n",
    "posts=[]\n",
    "\n",
    "india_subreddit=reddit.subreddit('India')\n",
    "for post in india_subreddit.hot(limit=10000):\n",
    "    posts.append([post.title,\n",
    "                 post.score,\n",
    "                 post.id,\n",
    "                 post.url,\n",
    "                 post.num_comments,\n",
    "                post.created,\n",
    "                post.selftext])\n",
    "posts=pd.DataFrame(posts,columns=['Title','Score',\n",
    "                                 \"ID\",\"Image\",\"NUM_Comments\",\n",
    "                                 \"Created\",\"Body\"])"
   ]
  },
  {
   "cell_type": "code",
   "execution_count": null,
   "metadata": {},
   "outputs": [],
   "source": [
    "posts.shape"
   ]
  },
  {
   "cell_type": "code",
   "execution_count": null,
   "metadata": {
    "scrolled": true
   },
   "outputs": [],
   "source": [
    "posts.head()"
   ]
  },
  {
   "cell_type": "markdown",
   "metadata": {},
   "source": [
    "# Flair Columns\n",
    "The flair is currently in the form of ids given to each post. These can be extracted by creating onehot columns for the flairs. Praw gives a dictionary of flair id to text using link_flair_text"
   ]
  },
  {
   "cell_type": "code",
   "execution_count": null,
   "metadata": {
    "scrolled": false
   },
   "outputs": [],
   "source": [
    "\"\"\"The flair is in the form of idx, convert\"\"\"\n",
    "\n",
    "for i in range(posts.shape[0]):\n",
    "    idx=posts.loc[i,'ID']\n",
    "    submission=reddit.submission(id=idx)\n",
    "    #print(i,idx)\n",
    "    flair=submission.link_flair_text\n",
    "    #print(flair)\n",
    "    if flair in posts:\n",
    "        posts.loc[i,flair]=1\n",
    "        \n",
    "    else:\n",
    "        posts[flair]=0\n",
    "        posts.loc[i,flair]=1"
   ]
  },
  {
   "cell_type": "markdown",
   "metadata": {},
   "source": [
    "# Dataframe to CSV"
   ]
  },
  {
   "cell_type": "code",
   "execution_count": null,
   "metadata": {},
   "outputs": [],
   "source": [
    "posts.to_csv('../dataset/dataset.csv')"
   ]
  },
  {
   "cell_type": "markdown",
   "metadata": {},
   "source": [
    "# Other features PRAW API provides"
   ]
  },
  {
   "cell_type": "code",
   "execution_count": null,
   "metadata": {},
   "outputs": [],
   "source": [
    "submission=reddit.submission(id=\"fwdn4o\")\n",
    "\n",
    "for top_level_comment in submission.comments:\n",
    "    print(top_level_comment.body)\n",
    "    \n",
    "print(submission.link_flair_text)\n",
    "submission.upvote_ratio\n",
    "submission.link_flair_text"
   ]
  }
 ],
 "metadata": {
  "kernelspec": {
   "display_name": "Python 3",
   "language": "python",
   "name": "python3"
  },
  "language_info": {
   "codemirror_mode": {
    "name": "ipython",
    "version": 3
   },
   "file_extension": ".py",
   "mimetype": "text/x-python",
   "name": "python",
   "nbconvert_exporter": "python",
   "pygments_lexer": "ipython3",
   "version": "3.7.3"
  }
 },
 "nbformat": 4,
 "nbformat_minor": 2
}
