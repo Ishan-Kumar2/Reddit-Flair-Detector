{
 "cells": [
  {
   "cell_type": "code",
   "execution_count": 1,
   "metadata": {},
   "outputs": [],
   "source": [
    "import pandas as pd\n",
    "import numpy as np\n",
    "import matplotlib.pyplot as plt\n",
    "import torch\n",
    "import torch.nn as nn\n",
    "import torch.nn.functional as F\n",
    "import torch.optim as optim\n",
    "from tqdm import tqdm, tqdm_notebook\n",
    "from torch.utils.data import DataLoader,Dataset\n",
    "from sklearn.feature_extraction.text import CountVectorizer"
   ]
  },
  {
   "cell_type": "code",
   "execution_count": 2,
   "metadata": {},
   "outputs": [],
   "source": [
    "train_data=pd.read_csv('./dataset/updated_train.csv')"
   ]
  },
  {
   "cell_type": "code",
   "execution_count": 3,
   "metadata": {},
   "outputs": [],
   "source": [
    "\"\"\"The posts which dont have a body have nan token replacing that with 0\"\"\"\n",
    "train_data=train_data.fillna(0)"
   ]
  },
  {
   "cell_type": "markdown",
   "metadata": {},
   "source": [
    "## Body\n",
    "Checking the Size of The body of Posts\n",
    "\n",
    "Posts analysis it is found that the average(429.07) and largest(14750) are extremely large passing it through a RNN Model or LSTM would be extremely expensive. So either it needs to be truncated or Linear models like fastText needs to be used"
   ]
  },
  {
   "cell_type": "code",
   "execution_count": 4,
   "metadata": {},
   "outputs": [
    {
     "name": "stdout",
     "output_type": "stream",
     "text": [
      "14750 429.0718816067653\n"
     ]
    }
   ],
   "source": [
    "\"\"\"Checking the length of body size\"\"\"\n",
    "lenr=[]\n",
    "for i in range(train_data.shape[0]):\n",
    "    if train_data.loc[i,'Body']!=0:\n",
    "        #print(train.loc[i,'Body'])\n",
    "        lenr.append(len(train_data.loc[i,'Body']))\n",
    "print(max(lenr),sum(lenr)/len(lenr))"
   ]
  },
  {
   "cell_type": "code",
   "execution_count": 5,
   "metadata": {},
   "outputs": [
    {
     "data": {
      "text/html": [
       "<div>\n",
       "<style scoped>\n",
       "    .dataframe tbody tr th:only-of-type {\n",
       "        vertical-align: middle;\n",
       "    }\n",
       "\n",
       "    .dataframe tbody tr th {\n",
       "        vertical-align: top;\n",
       "    }\n",
       "\n",
       "    .dataframe thead th {\n",
       "        text-align: right;\n",
       "    }\n",
       "</style>\n",
       "<table border=\"1\" class=\"dataframe\">\n",
       "  <thead>\n",
       "    <tr style=\"text-align: right;\">\n",
       "      <th></th>\n",
       "      <th>Unnamed: 0</th>\n",
       "      <th>index</th>\n",
       "      <th>idx</th>\n",
       "      <th>Title</th>\n",
       "      <th>Score</th>\n",
       "      <th>ID</th>\n",
       "      <th>Image</th>\n",
       "      <th>Num_Comments</th>\n",
       "      <th>Created</th>\n",
       "      <th>Body</th>\n",
       "      <th>Label1Coronovirus</th>\n",
       "      <th>Label2Politics</th>\n",
       "      <th>Label3Non-Political</th>\n",
       "      <th>Label4Objects</th>\n",
       "      <th>Label5AskIndia</th>\n",
       "    </tr>\n",
       "  </thead>\n",
       "  <tbody>\n",
       "    <tr>\n",
       "      <th>0</th>\n",
       "      <td>0</td>\n",
       "      <td>0</td>\n",
       "      <td>0</td>\n",
       "      <td>Coronavirus (COVID-19) Megathread - News and U...</td>\n",
       "      <td>287</td>\n",
       "      <td>fqqdsg</td>\n",
       "      <td>https://www.reddit.com/r/india/comments/fqqdsg...</td>\n",
       "      <td>6834</td>\n",
       "      <td>1.585451e+09</td>\n",
       "      <td>**Central thread for sharing coronavirus News ...</td>\n",
       "      <td>1</td>\n",
       "      <td>0</td>\n",
       "      <td>0</td>\n",
       "      <td>0</td>\n",
       "      <td>0</td>\n",
       "    </tr>\n",
       "    <tr>\n",
       "      <th>1</th>\n",
       "      <td>1</td>\n",
       "      <td>1</td>\n",
       "      <td>1</td>\n",
       "      <td>Firozabad police fact-checking zee news (trans...</td>\n",
       "      <td>680</td>\n",
       "      <td>fwcz7h</td>\n",
       "      <td>https://i.redd.it/jbal4gxocbr41.jpg</td>\n",
       "      <td>62</td>\n",
       "      <td>1.586258e+09</td>\n",
       "      <td>0</td>\n",
       "      <td>0</td>\n",
       "      <td>1</td>\n",
       "      <td>0</td>\n",
       "      <td>0</td>\n",
       "      <td>0</td>\n",
       "    </tr>\n",
       "    <tr>\n",
       "      <th>2</th>\n",
       "      <td>2</td>\n",
       "      <td>2</td>\n",
       "      <td>2</td>\n",
       "      <td>Donald Trump talks of ‘retaliation’ if India t...</td>\n",
       "      <td>371</td>\n",
       "      <td>fwclvi</td>\n",
       "      <td>https://economictimes.indiatimes.com/industry/...</td>\n",
       "      <td>135</td>\n",
       "      <td>1.586257e+09</td>\n",
       "      <td>0</td>\n",
       "      <td>1</td>\n",
       "      <td>0</td>\n",
       "      <td>0</td>\n",
       "      <td>0</td>\n",
       "      <td>0</td>\n",
       "    </tr>\n",
       "    <tr>\n",
       "      <th>3</th>\n",
       "      <td>3</td>\n",
       "      <td>3</td>\n",
       "      <td>3</td>\n",
       "      <td>Mom came up with this impressive idea to celeb...</td>\n",
       "      <td>3129</td>\n",
       "      <td>fvz69t</td>\n",
       "      <td>https://i.redd.it/gurfdfd1e7r41.jpg</td>\n",
       "      <td>183</td>\n",
       "      <td>1.586210e+09</td>\n",
       "      <td>0</td>\n",
       "      <td>0</td>\n",
       "      <td>0</td>\n",
       "      <td>1</td>\n",
       "      <td>0</td>\n",
       "      <td>0</td>\n",
       "    </tr>\n",
       "    <tr>\n",
       "      <th>4</th>\n",
       "      <td>4</td>\n",
       "      <td>4</td>\n",
       "      <td>4</td>\n",
       "      <td>9 PM 9 Minutes: House Catches Fire In Bihar; G...</td>\n",
       "      <td>181</td>\n",
       "      <td>fwdysc</td>\n",
       "      <td>https://news.abplive.com/news/india/coronaviru...</td>\n",
       "      <td>14</td>\n",
       "      <td>1.586262e+09</td>\n",
       "      <td>0</td>\n",
       "      <td>0</td>\n",
       "      <td>0</td>\n",
       "      <td>1</td>\n",
       "      <td>0</td>\n",
       "      <td>0</td>\n",
       "    </tr>\n",
       "  </tbody>\n",
       "</table>\n",
       "</div>"
      ],
      "text/plain": [
       "   Unnamed: 0  index  idx                                              Title  \\\n",
       "0           0      0    0  Coronavirus (COVID-19) Megathread - News and U...   \n",
       "1           1      1    1  Firozabad police fact-checking zee news (trans...   \n",
       "2           2      2    2  Donald Trump talks of ‘retaliation’ if India t...   \n",
       "3           3      3    3  Mom came up with this impressive idea to celeb...   \n",
       "4           4      4    4  9 PM 9 Minutes: House Catches Fire In Bihar; G...   \n",
       "\n",
       "   Score      ID                                              Image  \\\n",
       "0    287  fqqdsg  https://www.reddit.com/r/india/comments/fqqdsg...   \n",
       "1    680  fwcz7h                https://i.redd.it/jbal4gxocbr41.jpg   \n",
       "2    371  fwclvi  https://economictimes.indiatimes.com/industry/...   \n",
       "3   3129  fvz69t                https://i.redd.it/gurfdfd1e7r41.jpg   \n",
       "4    181  fwdysc  https://news.abplive.com/news/india/coronaviru...   \n",
       "\n",
       "   Num_Comments       Created  \\\n",
       "0          6834  1.585451e+09   \n",
       "1            62  1.586258e+09   \n",
       "2           135  1.586257e+09   \n",
       "3           183  1.586210e+09   \n",
       "4            14  1.586262e+09   \n",
       "\n",
       "                                                Body  Label1Coronovirus  \\\n",
       "0  **Central thread for sharing coronavirus News ...                  1   \n",
       "1                                                  0                  0   \n",
       "2                                                  0                  1   \n",
       "3                                                  0                  0   \n",
       "4                                                  0                  0   \n",
       "\n",
       "   Label2Politics  Label3Non-Political  Label4Objects  Label5AskIndia  \n",
       "0               0                    0              0               0  \n",
       "1               1                    0              0               0  \n",
       "2               0                    0              0               0  \n",
       "3               0                    1              0               0  \n",
       "4               0                    1              0               0  "
      ]
     },
     "execution_count": 5,
     "metadata": {},
     "output_type": "execute_result"
    }
   ],
   "source": [
    "train_data.head()"
   ]
  },
  {
   "cell_type": "markdown",
   "metadata": {},
   "source": [
    "# Title and Body Data\n",
    "The CountVectorizer takes in data in the format list(list())  "
   ]
  },
  {
   "cell_type": "code",
   "execution_count": 6,
   "metadata": {},
   "outputs": [],
   "source": [
    "title=list(train_data['Title'])\n",
    "body=list(train_data['Body'])\n",
    "#score=list((train_data['Num_Comments'],train_data['Score']))\n",
    "#label=list([train_data['Label1Coronovirus'],train_data['Label2Politics'],train_data['Label3Non-Political'],train_data['Label4Objects'],train_data['Label5AskIndia']])"
   ]
  },
  {
   "cell_type": "markdown",
   "metadata": {},
   "source": [
    "## Score and Label Data\n",
    "### Number of Comments and Score\n",
    "In addition to  body and title, I decided to use the number of comments and score, as seen in the EDA file, there is significant variation amongst the different flairs for these variables.\n",
    "These to are in the form a list for each point hence forming a list of lists\n",
    "\n",
    "### Label\n",
    "The labels are also converted in the form of a list of list"
   ]
  },
  {
   "cell_type": "code",
   "execution_count": 7,
   "metadata": {
    "scrolled": true
   },
   "outputs": [],
   "source": [
    "scores=[]\n",
    "labels=[]\n",
    "for i in range(train_data.shape[0]):\n",
    "    scores.append((train_data.loc[i,'Num_Comments'],train_data.loc[i,'Score']))\n",
    "    labels.append([train_data.loc[i,'Label1Coronovirus'],train_data.loc[i,'Label2Politics'],train_data.loc[i,'Label3Non-Political'],train_data.loc[i,'Label4Objects'],train_data.loc[i,'Label5AskIndia']])"
   ]
  },
  {
   "cell_type": "markdown",
   "metadata": {},
   "source": [
    "# Preprocessing Applied\n",
    "The Text has to preprocessed and broken into indiviual tokens from sentences before they can be embedded or sent to a model\n",
    "## 1. Tokenisation\n",
    "-Done using spacy tokeniser. Better to use this rather than normal .split() method\n",
    "as it seperates punctuation attached to words like the what is (what?) and (what)\n",
    "would have been treated differently in .split method, but not with spacy\n",
    "## 2. Lemmatisation\n",
    "-Also using Spacy, basically converts some word which are derived from otherwords to their root word. Like sleeping is converted to sleep.\n",
    "## 3. Punctuation Removal\n",
    "-String class of python provides a list of all punctuations. Insteead of removing all punctuations, I decided to keep '?' as I think it does add some value in deciding the flair "
   ]
  },
  {
   "cell_type": "code",
   "execution_count": 8,
   "metadata": {},
   "outputs": [],
   "source": [
    "import string\n",
    "k=string.punctuation\n",
    "\n",
    "punct=[]\n",
    "for i in range(len(k)):\n",
    "    if(k[i]=='?'):\n",
    "        continue\n",
    "    else: \n",
    "        punct.append(k[i])"
   ]
  },
  {
   "cell_type": "code",
   "execution_count": 9,
   "metadata": {},
   "outputs": [],
   "source": [
    "#!pip install unidecode\n",
    "import nltk\n",
    "import spacy\n",
    "import unidecode\n",
    "from nltk.corpus import stopwords\n",
    "stop=set(stopwords.words('english'))"
   ]
  },
  {
   "cell_type": "code",
   "execution_count": 10,
   "metadata": {},
   "outputs": [],
   "source": [
    "spacy_eng=spacy.load('en')\n",
    "nlp=spacy.load(\"en_core_web_sm\")\n",
    "def tokenize_eng(text):\n",
    "    sent=[]\n",
    "    lema=nlp(text)\n",
    "    for tok in spacy_eng.tokenizer(text):\n",
    "        \n",
    "        word=tok.lemma_\n",
    "        #word=tok.text\n",
    "        \n",
    "        if word not in punct:\n",
    "            if word not in stop:\n",
    "                word=unidecode.unidecode(word)\n",
    "                if(word!=word.split('_')[0]):\n",
    "                    sent.extend(word.split('_'))\n",
    "                else:\n",
    "                    sent.append(word)\n",
    "    \n",
    "    return sent"
   ]
  },
  {
   "cell_type": "code",
   "execution_count": 11,
   "metadata": {},
   "outputs": [
    {
     "name": "stdout",
     "output_type": "stream",
     "text": [
      "covid19gujarate\n"
     ]
    }
   ],
   "source": [
    "a='covid19gujarate'\n",
    "c=[]\n",
    "d=[]\n",
    "for word in a.split():\n",
    "    c.append(word)\n",
    "    print(word.split('_')[0])\n",
    "    \n",
    "    d.extend(word.split('_'))"
   ]
  },
  {
   "cell_type": "code",
   "execution_count": 12,
   "metadata": {},
   "outputs": [
    {
     "data": {
      "text/plain": [
       "(['covid19gujarate'], ['covid19gujarate'])"
      ]
     },
     "execution_count": 12,
     "metadata": {},
     "output_type": "execute_result"
    }
   ],
   "source": [
    "c,d"
   ]
  },
  {
   "cell_type": "code",
   "execution_count": 13,
   "metadata": {},
   "outputs": [
    {
     "data": {
      "text/plain": [
       "['covid', '19', 'gujarate']"
      ]
     },
     "execution_count": 13,
     "metadata": {},
     "output_type": "execute_result"
    }
   ],
   "source": [
    "tokenize_eng('covid 19 gujarate')"
   ]
  },
  {
   "cell_type": "markdown",
   "metadata": {},
   "source": [
    "Passing the Body and Title through the tokenization function. They are not done in one step as it exceeds the memory."
   ]
  },
  {
   "cell_type": "code",
   "execution_count": 14,
   "metadata": {},
   "outputs": [],
   "source": [
    "for i in range(len(body)):\n",
    "    \n",
    "    body[i]=' '.join(tokenize_eng(body[i]))"
   ]
  },
  {
   "cell_type": "code",
   "execution_count": 15,
   "metadata": {},
   "outputs": [],
   "source": [
    "for i in range(len(title)):\n",
    "    \n",
    "    title[i]=' '.join(tokenize_eng(title[i]))"
   ]
  },
  {
   "cell_type": "markdown",
   "metadata": {},
   "source": [
    "Example of Tokenised Data"
   ]
  },
  {
   "cell_type": "code",
   "execution_count": 16,
   "metadata": {},
   "outputs": [
    {
     "name": "stdout",
     "output_type": "stream",
     "text": [
      "Tokenised ['Donald', 'Trump', 'talk', \"'\", 'retaliation', \"'\", 'India', 'turn', 'Covid', 'drug', 'request']\n",
      "Original  ['Donald Trump talks of ‘retaliation’ if India turns down Covid drug request']\n"
     ]
    }
   ],
   "source": [
    "sent=train_data.loc[2,'Title']\n",
    "sent_=tokenize_eng(sent)\n",
    "print(f\"Tokenised {sent_}\")\n",
    "print(f\"Original  {[sent]}\")"
   ]
  },
  {
   "cell_type": "markdown",
   "metadata": {},
   "source": [
    "# Dataset Class\n",
    "To pass data through an iterator/convert to batches the dataset needs to be converted into this format. \n",
    "\n",
    "\n",
    "Takes the title data,body data, score data and labels\n",
    "The text datasets (context and title) need to be in the format list(list())\n",
    "\n",
    "A vocabulary is created using Countvectorizer method of PyTorch.\n",
    "Using this vocab, each word is numericalised\n",
    "\n",
    "Returns numericalised numpy arrays for all inputs in the form of tuple.\n",
    "\n"
   ]
  },
  {
   "cell_type": "code",
   "execution_count": 17,
   "metadata": {},
   "outputs": [],
   "source": [
    "class Dataset(Dataset):\n",
    "    def __init__(self,data_title,data_context,data_score,labels):\n",
    "        \n",
    "        self.vectorizer=CountVectorizer()\n",
    "        \n",
    "        self.vectorizer.fit_transform(data_context+data_title)\n",
    "        \n",
    "        self.token2idx=self.vectorizer.vocabulary_\n",
    "        \n",
    "        #Numericalising Titles\n",
    "        self.sequences=[]\n",
    "        self.sequences_context=[]\n",
    "        for sent in data_title:\n",
    "            sent_brok=[]\n",
    "            \n",
    "            for word in sent.split():\n",
    "                try:\n",
    "                \n",
    "                    sent_brok.append(self.token2idx[word])\n",
    "                except KeyError:\n",
    "                    sent_brok.append('0')\n",
    "            self.sequences.append(sent_brok)\n",
    "        \n",
    "        #Same for Context\n",
    "        for sent in data_context:\n",
    "            sent_brok=[]\n",
    "            \n",
    "            for word in sent.split():\n",
    "                try:\n",
    "                    \n",
    "                    sent_brok.append(self.token2idx[word])\n",
    "                except KeyError:\n",
    "                    sent_brok.append('0')\n",
    "            self.sequences_context.append(sent_brok)\n",
    "        \n",
    "        #self.sequences_context=[self.token2idx[word] for word in data_context]\n",
    "        self.score=data_score\n",
    "        self.labels=labels\n",
    "        \n",
    "        \n",
    "        self.idx2token={idx:token for token,idx in self.token2idx.items()}\n",
    "        \n",
    "    def __getitem__(self,i):\n",
    "        return np.array(self.sequences[i],dtype=int),np.array(self.sequences_context[i],dtype=int),np.array(self.score[i],dtype=int),np.array(self.labels[i],dtype=int)\n",
    "    \n",
    "    def __len__(self):\n",
    "        return len(self.sequences)"
   ]
  },
  {
   "cell_type": "code",
   "execution_count": 19,
   "metadata": {},
   "outputs": [],
   "source": [
    "dataset=Dataset(data_title=title,\n",
    "               data_context=body,\n",
    "               data_score=scores,\n",
    "               labels=labels)"
   ]
  },
  {
   "cell_type": "code",
   "execution_count": 20,
   "metadata": {},
   "outputs": [
    {
     "data": {
      "text/plain": [
       "(912,)"
      ]
     },
     "execution_count": 20,
     "metadata": {},
     "output_type": "execute_result"
    }
   ],
   "source": [
    "dataset[0][1].shape"
   ]
  },
  {
   "cell_type": "code",
   "execution_count": 21,
   "metadata": {},
   "outputs": [
    {
     "data": {
      "text/plain": [
       "5731"
      ]
     },
     "execution_count": 21,
     "metadata": {},
     "output_type": "execute_result"
    }
   ],
   "source": [
    "len(dataset.vectorizer.vocabulary_)"
   ]
  },
  {
   "cell_type": "markdown",
   "metadata": {},
   "source": [
    "# Vocabulary\n",
    "The vocab of sklearn vectorizer can be accessed as vectorizer.vocabulary_\n",
    "It is a dictionary mapping words to numerical value\n",
    "Saving the Pretrained vocab to be used for testing also "
   ]
  },
  {
   "cell_type": "code",
   "execution_count": 22,
   "metadata": {},
   "outputs": [],
   "source": [
    "torch.save(dataset.vectorizer.vocabulary_,'vocab_')"
   ]
  },
  {
   "cell_type": "markdown",
   "metadata": {},
   "source": [
    "# Word Embedding\n",
    "Here I decided to use GloVe 50d embedding as the 300d dim is a bit to large and the embedding matrix may become too large to upload on cloud.\n",
    "\n",
    "The GloVe file has a structure of word followed by its embedding matrix. \n",
    "Since the vocabulary has 400,000 words I decided to bcolz to store array of vectors. Since it is based on numpy only there is no need to interconvert.  \n",
    "\n",
    "\n",
    "### Bcolz \n",
    "It is a form of storing data in columnar,chunked format in containers. It is based on numpy only\n",
    "https://github.com/Blosc/bcolz"
   ]
  },
  {
   "cell_type": "code",
   "execution_count": 23,
   "metadata": {},
   "outputs": [],
   "source": [
    "#!pip install bcolz\n",
    "import bcolz"
   ]
  },
  {
   "cell_type": "code",
   "execution_count": 24,
   "metadata": {},
   "outputs": [],
   "source": [
    "words=[]\n",
    "idx=0\n",
    "word2idx={}\n",
    "import pickle\n",
    "vectors=bcolz.carray(np.zeros(1),rootdir=f'../glove.6B.50d.dat',mode='w')\n",
    "with open(f'../glove.6B.50d.txt', 'rb') as f:\n",
    "    for l in f:\n",
    "        line = l.decode().split()\n",
    "        word = line[0]\n",
    "        words.append(word)\n",
    "        word2idx[word] = idx\n",
    "        idx += 1\n",
    "        vect = np.array(line[1:]).astype(np.float)\n",
    "        vectors.append(vect)\n",
    "\n",
    "vectors = bcolz.carray(vectors[1:].reshape((400000, 50)), rootdir=f'../glove.6B.50.dat', mode='w')\n",
    "vectors.flush()\n",
    "pickle.dump(words,open(f'../glove.pkl','wb'))\n",
    "pickle.dump(word2idx,open(f'../glove_dict.pkl','wb'))\n"
   ]
  },
  {
   "cell_type": "markdown",
   "metadata": {},
   "source": [
    "# Dictionary\n",
    "Using those objects we can now create a dictionary to reference word given word"
   ]
  },
  {
   "cell_type": "code",
   "execution_count": 25,
   "metadata": {},
   "outputs": [],
   "source": [
    "vectors = bcolz.open(f'../glove.6B.50.dat')[:]\n",
    "words = pickle.load(open(f'../glove.pkl', 'rb'))\n",
    "word2idx = pickle.load(open(f'../glove_dict.pkl', 'rb'))\n",
    "\n",
    "glove = {w: vectors[word2idx[w]] for w in words}"
   ]
  },
  {
   "cell_type": "code",
   "execution_count": 26,
   "metadata": {},
   "outputs": [
    {
     "data": {
      "text/plain": [
       "'The original word to token matching dictionary can be accessed like this'"
      ]
     },
     "execution_count": 26,
     "metadata": {},
     "output_type": "execute_result"
    }
   ],
   "source": [
    "\"\"\"The original word to token matching dictionary can be accessed like this\"\"\"\n",
    "#dataset.vectorizer.vocabulary_"
   ]
  },
  {
   "cell_type": "markdown",
   "metadata": {},
   "source": [
    "# Applying the Dataset\n",
    "For all the words present in dictionary converting them to their embedding, and for those not present inserting a row of normally distributed random numbers instead of zeros. These values can change during backprop if weights not frozen."
   ]
  },
  {
   "cell_type": "code",
   "execution_count": 27,
   "metadata": {},
   "outputs": [],
   "source": [
    "matrix_len=len(dataset.vectorizer.vocabulary_)\n",
    "weight_matrix=np.zeros((matrix_len,50))\n",
    "words_found=0\n",
    "\n",
    "for i, word in enumerate(dataset.vectorizer.vocabulary_):\n",
    "    try:\n",
    "        weight_matrix[i]=glove[word]\n",
    "        words_found+=1\n",
    "        \n",
    "    except KeyError:\n",
    "        weight_matrix[i]=np.random.normal(scale=0.6,size=(50,))"
   ]
  },
  {
   "cell_type": "code",
   "execution_count": 28,
   "metadata": {},
   "outputs": [
    {
     "data": {
      "text/plain": [
       "(5731, 50)"
      ]
     },
     "execution_count": 28,
     "metadata": {},
     "output_type": "execute_result"
    }
   ],
   "source": [
    "\"\"\"This matrix (Embedding matrix) should have a shape [Vocab_size , Emebedding_dim]\"\"\"\n",
    "weight_matrix.shape"
   ]
  },
  {
   "cell_type": "markdown",
   "metadata": {},
   "source": [
    "## Pretrained vectors of Embedding\n",
    "The weights of embedding will be copied to nn.Embedding layer and weights will be frozen"
   ]
  },
  {
   "cell_type": "code",
   "execution_count": 29,
   "metadata": {},
   "outputs": [],
   "source": [
    "#pretrained_vecs=torch.load('pretrained_wts')\n",
    "pretrained_vecs=torch.tensor(weight_matrix)"
   ]
  },
  {
   "cell_type": "code",
   "execution_count": 30,
   "metadata": {},
   "outputs": [],
   "source": [
    "torch.save(pretrained_vecs,'pretrained_wts')"
   ]
  },
  {
   "cell_type": "markdown",
   "metadata": {},
   "source": [
    "# Model\n",
    "\n",
    "### Title Model\n",
    "In this model I have used a BiLSTM for the Title and applied self attention(attention between last hidden state and each hidden state of the encoder)\n",
    "To give importance to the usefull key words. This output is concatenated with the actual final hidden state as that is sort of the summary of the whole sentence.\n",
    "\n",
    "### Number of Comments and Score\n",
    "In addition to this the number of comments and score are also passed through a feed forward network and concatenated with the output of Title model\n",
    "\n",
    "### Body\n",
    "The output of the FastText model for Body is also conatenated with the output of the above 2 after using self attention with the final hidden state, to extract key parts in the context, as the entire context is usually not usefull\n",
    "\n",
    "Concatenation of all these is passed through the output layer and then Probabilities of flair is found using Softmax\n",
    "To use NLL Loss Log Softmax is used instead of regular softmax\n",
    "\n",
    "## Embedding Weights\n",
    "The embedding layer is basically a look up table, gets its weights from the pretrained vectors. Here usually the weights are frozen and not finetuned. \n",
    "\n",
    "## Finetuning Weights\n",
    "Since many words related to coronavirus like covid corona didn't exist during making of vocab, hence their vectors are zeros at start. Hence to make the model learn their weights I allowed finetuning. This helped model to recognize the similarity between such words and not treat them as 0s."
   ]
  },
  {
   "cell_type": "code",
   "execution_count": 31,
   "metadata": {},
   "outputs": [],
   "source": [
    "import torch.nn as nn\n",
    "import torch.nn.functional as F\n",
    "import torch.optim as optim\n",
    "from torch.autograd import Variable\n",
    "\n",
    "class Model(nn.Module):\n",
    "    def __init__(self,n_vocab,\n",
    "                 pretrained_vec,\n",
    "                batch_size=16,\n",
    "                embedding_dim=50,\n",
    "                hidden_dim=64,\n",
    "                num_layer=2,\n",
    "                 dropout=0.3,\n",
    "                 output_dims=5,\n",
    "                 second_output=16,\n",
    "                bidirectional=True):\n",
    "        super(Model,self).__init__()\n",
    "        self.n_vocab=n_vocab\n",
    "        self.batch_size=batch_size\n",
    "        self.embedding_dim=embedding_dim\n",
    "        self.hidden_dim=hidden_dim\n",
    "        self.num_layer=num_layer\n",
    "        self.bidirectional=bidirectional\n",
    "        self.dropout=dropout\n",
    "        \n",
    "        self.output_dims=output_dims\n",
    "        \n",
    "        self.embedding=nn.Embedding(n_vocab,embedding_dim)\n",
    "        self.embedding.weight.data.copy_(pretrained_vec)\n",
    "        #self.embedding.weight.requires_grad=False\n",
    "        \n",
    "        self.second_output=nn.Linear(2,16)\n",
    "        \n",
    "        self.rnn=nn.LSTM(self.embedding_dim, self.hidden_dim,\n",
    "                       num_layers=self.num_layer,\n",
    "                       batch_first=True,bidirectional=self.bidirectional,\n",
    "                        dropout=0.5)\n",
    "        \n",
    "       \n",
    "        self.fc1=nn.Linear(hidden_dim*6+16,self.output_dims)\n",
    "        \n",
    "        self.dropout=nn.Dropout(dropout)\n",
    "        self.logsoftmax=nn.LogSoftmax()\n",
    "        \n",
    "    def apply_attention(self,final_hid, all_hid):\n",
    "    #final hid dim [batch,seqlen]\n",
    "        final_hid=final_hid.unsqueeze(2)\n",
    "    \n",
    "    #Final hid_dim [batch,1,SeqLen]\n",
    "        attention_scores=torch.bmm(all_hid,final_hid).squeeze(2)\n",
    "        soft_attention_weights=F.softmax(attention_scores).unsqueeze(2)\n",
    "        \n",
    "        attention_output=torch.bmm(all_hid.permute(0,2,1),soft_attention_weights).squeeze(2)\n",
    "   \n",
    "        return attention_output\n",
    "    \n",
    "    def forward(self,data,num_data,context=None):\n",
    "        \n",
    "        embedded=self.embedding(data)\n",
    "        output,(hidden_,_)=self.rnn(embedded)\n",
    "        hidden_=torch.cat((hidden_[-1,:,:],hidden_[-2,:,:]),dim=1)\n",
    "        \n",
    "        attention_output=self.apply_attention(final_hid=hidden_,all_hid=output)\n",
    "        \n",
    "        concat_vec=torch.cat([hidden_,attention_output],dim=1)\n",
    "        hidden=self.dropout(concat_vec)\n",
    "        \n",
    "        num_output=self.dropout(self.second_output(num_data))\n",
    "        hidden=torch.cat([hidden,num_output],dim=1)\n",
    "        \n",
    "        context=self.apply_attention(final_hid=hidden_,all_hid=context)\n",
    "        hidden=self.dropout(torch.cat([hidden,context],dim=1))\n",
    "        \n",
    "        output=self.fc1(hidden)\n",
    "        \n",
    "        return output"
   ]
  },
  {
   "cell_type": "code",
   "execution_count": 32,
   "metadata": {},
   "outputs": [],
   "source": [
    "class fastText(nn.Module):\n",
    "    def __init__(self,vocab_size,embedding_dim,\n",
    "                 hidden_size,output_size,pretrained_wv):\n",
    "        super(fastText,self).__init__()\n",
    "        self.embedding_dim=embedding_dim\n",
    "        self.pretrainedwts=pretrained_wv\n",
    "        self.output_size=output_size\n",
    "        self.hidden_size=hidden_size\n",
    "        self.dropout=nn.Dropout(0.4)\n",
    "        \n",
    "        \n",
    "        #Embedding Layer\n",
    "        self.embedding=nn.Embedding(vocab_size,embedding_dim)\n",
    "        self.embedding.weight.data.copy_(self.pretrainedwts)\n",
    "        self.embedding.weight.requires_grad=False\n",
    "        \n",
    "        self.fc1=nn.Linear(self.embedding_dim,self.hidden_size)\n",
    "        \n",
    "        self.fc2=nn.Linear(self.hidden_size,self.output_size)\n",
    "        self.softmax=nn.Softmax()\n",
    "\n",
    "    def forward(self,x):\n",
    "        embedded=self.embedding(x)\n",
    "        h=self.dropout(self.fc1(embedded))\n",
    "        z=self.dropout(self.fc2(h))\n",
    "        return self.softmax(z,)"
   ]
  },
  {
   "cell_type": "code",
   "execution_count": 33,
   "metadata": {},
   "outputs": [
    {
     "name": "stdout",
     "output_type": "stream",
     "text": [
      "fastText(\n",
      "  (dropout): Dropout(p=0.4, inplace=False)\n",
      "  (embedding): Embedding(5731, 50)\n",
      "  (fc1): Linear(in_features=50, out_features=128, bias=True)\n",
      "  (fc2): Linear(in_features=128, out_features=256, bias=True)\n",
      "  (softmax): Softmax(dim=None)\n",
      ")\n"
     ]
    }
   ],
   "source": [
    "embedding_dim=50\n",
    "Input_Vocab=pretrained_vecs.shape[0]\n",
    "model_context=fastText(vocab_size=Input_Vocab,\n",
    "        embedding_dim=embedding_dim,\n",
    "        hidden_size=128,\n",
    "        output_size=256,\n",
    "        pretrained_wv=pretrained_vecs)\n",
    "print(model_context)"
   ]
  },
  {
   "cell_type": "code",
   "execution_count": 34,
   "metadata": {},
   "outputs": [
    {
     "name": "stdout",
     "output_type": "stream",
     "text": [
      "Model(\n",
      "  (embedding): Embedding(5731, 50)\n",
      "  (second_output): Linear(in_features=2, out_features=16, bias=True)\n",
      "  (rnn): LSTM(50, 128, num_layers=2, batch_first=True, dropout=0.5, bidirectional=True)\n",
      "  (fc1): Linear(in_features=784, out_features=5, bias=True)\n",
      "  (dropout): Dropout(p=0.5, inplace=False)\n",
      "  (logsoftmax): LogSoftmax()\n",
      ")\n"
     ]
    }
   ],
   "source": [
    "embedding_dim=50\n",
    "hidden_dim=128\n",
    "enc_dropout=0.5\n",
    "\n",
    "Input_Vocab=pretrained_vecs.shape[0]\n",
    "\n",
    "model=Model(n_vocab=Input_Vocab,pretrained_vec=pretrained_vecs,\n",
    "            embedding_dim=embedding_dim,hidden_dim=hidden_dim,\n",
    "            dropout=enc_dropout)\n",
    "\n",
    "print(model)"
   ]
  },
  {
   "cell_type": "markdown",
   "metadata": {},
   "source": [
    "# Training Loop\n",
    "\n",
    "### Optimizer-\n",
    "Adam- Combines advantages of Adaptive Gradient Algorithm and RMSProp\n",
    "### Loss Function-\n",
    "CrossEntropy loss with logsoftmax which is basically NLL Loss, which is on experimentation found to be better than BCE or BCEWithLogitsLoss"
   ]
  },
  {
   "cell_type": "code",
   "execution_count": 35,
   "metadata": {},
   "outputs": [],
   "source": [
    "import tqdm\n",
    "import torch.optim as optim\n",
    "optimizer=optim.Adam(model.parameters())\n",
    "\n",
    "optimizer_context=optim.Adam(model_context.parameters())\n",
    "#criterion=nn.BCEWithLogitsLoss()\n",
    "criterion=nn.CrossEntropyLoss()\n",
    "EPOCH=2"
   ]
  },
  {
   "cell_type": "code",
   "execution_count": 39,
   "metadata": {},
   "outputs": [],
   "source": [
    "epoch_loss_dat=[]\n",
    "epoch_num_correct=[]"
   ]
  },
  {
   "cell_type": "markdown",
   "metadata": {},
   "source": [
    "# Training Loop\n",
    "\n",
    "## Optimizer-\n",
    "Adam- Combines advantages of Adaptive Gradient Algorithm and RMSProp\n",
    "\n",
    "## Loss Function-\n",
    "CrossEntropy loss with logsoftmax which is basically NLL Loss, which is on experimentation found to be better than BCE or BCEWithLogitsLoss\n",
    "\n",
    "### Num Corrects\n",
    "To better undertand the performance of model, I decided to print the number of correctly predicted Flairs with each epoch. \n",
    "\n",
    "## Embedding Weights\n",
    "The embedding layer's (nn.Embedding) were copieed from the weight matrix made using GloVe's and Corpus vocab. I decided to not freeze them as words like Coronavirus which were not included in GloVe, got a random distribution. These vectors need get updated.   "
   ]
  },
  {
   "cell_type": "code",
   "execution_count": 40,
   "metadata": {},
   "outputs": [],
   "source": [
    "def train(model,model_context,train_iter):\n",
    "    for epoch in range(1,20):\n",
    "        running_loss=0.0\n",
    "        running_corrects=0\n",
    "        model.train()\n",
    "        model_context.train()\n",
    "        epoch_lo=0\n",
    "        for x,x_context,x2,y in tqdm.tqdm(train_iter):\n",
    "            \n",
    "            x=torch.tensor(x).unsqueeze(0)\n",
    "            #print(x.shape)\n",
    "            x_context=torch.tensor(x_context).unsqueeze(0)\n",
    "            #print(x_context.shape)\n",
    "            x2=torch.tensor(x2).unsqueeze(0)\n",
    "            #print(x2.shape)\n",
    "            y=torch.tensor(y)\n",
    "            \n",
    "            optimizer.zero_grad()\n",
    "            optimizer_context.zero_grad()\n",
    "            \n",
    "            \n",
    "            context=model_context(x_context)\n",
    "            preds=model(data=x,num_data=x2.float(),context=context)\n",
    "            \n",
    "            \n",
    "            preds=preds.squeeze(0)\n",
    "            \n",
    "            #print(torch.max(y,0)[1].unsqueeze(0).shape)\n",
    "            #print(preds.shape)\n",
    "            \n",
    "            loss=criterion(preds.unsqueeze(0),torch.max(y,0)[1].unsqueeze(0))\n",
    "            \n",
    "            epoch_lo+=(torch.max(preds,0)[1]==torch.max(y,0)[1]).sum()\n",
    "            \n",
    "            loss.backward()\n",
    "            \n",
    "            optimizer.step()\n",
    "            optimizer_context.step()\n",
    "            running_loss+=loss.item()\n",
    "        epoch_loss=running_loss/train_data.shape[0]\n",
    "        epoch_num_correct.append(epoch_lo)\n",
    "        epoch_loss_dat.append(epoch_loss)\n",
    "        print(f'Epoch :{epoch}, Training Loss: {epoch_loss}, Num_Correct={epoch_lo}')"
   ]
  },
  {
   "cell_type": "code",
   "execution_count": 41,
   "metadata": {},
   "outputs": [
    {
     "name": "stderr",
     "output_type": "stream",
     "text": [
      "  0%|          | 0/473 [00:00<?, ?it/s]/home/ishan/anaconda3/lib/python3.7/site-packages/ipykernel_launcher.py:26: UserWarning: Implicit dimension choice for softmax has been deprecated. Change the call to include dim=X as an argument.\n",
      "/home/ishan/anaconda3/lib/python3.7/site-packages/ipykernel_launcher.py:51: UserWarning: Implicit dimension choice for softmax has been deprecated. Change the call to include dim=X as an argument.\n",
      "100%|██████████| 473/473 [00:33<00:00, 14.23it/s]\n",
      "  0%|          | 0/473 [00:00<?, ?it/s]"
     ]
    },
    {
     "name": "stdout",
     "output_type": "stream",
     "text": [
      "Epoch :1, Training Loss: 5.652279573692416, Num_Correct=147\n"
     ]
    },
    {
     "name": "stderr",
     "output_type": "stream",
     "text": [
      "100%|██████████| 473/473 [00:42<00:00, 11.09it/s]\n",
      "  0%|          | 1/473 [00:00<01:25,  5.52it/s]"
     ]
    },
    {
     "name": "stdout",
     "output_type": "stream",
     "text": [
      "Epoch :2, Training Loss: 4.928596152799018, Num_Correct=161\n"
     ]
    },
    {
     "name": "stderr",
     "output_type": "stream",
     "text": [
      "100%|██████████| 473/473 [00:35<00:00, 13.49it/s]\n",
      "  0%|          | 2/473 [00:00<00:30, 15.64it/s]"
     ]
    },
    {
     "name": "stdout",
     "output_type": "stream",
     "text": [
      "Epoch :3, Training Loss: 6.0283024719593525, Num_Correct=164\n"
     ]
    },
    {
     "name": "stderr",
     "output_type": "stream",
     "text": [
      "100%|██████████| 473/473 [00:35<00:00, 13.28it/s]\n",
      "  0%|          | 2/473 [00:00<00:33, 14.27it/s]"
     ]
    },
    {
     "name": "stdout",
     "output_type": "stream",
     "text": [
      "Epoch :4, Training Loss: 4.288272631326188, Num_Correct=194\n"
     ]
    },
    {
     "name": "stderr",
     "output_type": "stream",
     "text": [
      "100%|██████████| 473/473 [00:41<00:00, 11.34it/s]\n",
      "  0%|          | 1/473 [00:00<00:52,  9.03it/s]"
     ]
    },
    {
     "name": "stdout",
     "output_type": "stream",
     "text": [
      "Epoch :5, Training Loss: 5.642298669650331, Num_Correct=199\n"
     ]
    },
    {
     "name": "stderr",
     "output_type": "stream",
     "text": [
      "100%|██████████| 473/473 [00:32<00:00, 14.37it/s]\n",
      "  0%|          | 2/473 [00:00<00:37, 12.63it/s]"
     ]
    },
    {
     "name": "stdout",
     "output_type": "stream",
     "text": [
      "Epoch :6, Training Loss: 4.734444463455008, Num_Correct=239\n"
     ]
    },
    {
     "name": "stderr",
     "output_type": "stream",
     "text": [
      "100%|██████████| 473/473 [00:35<00:00, 13.15it/s]\n",
      "  0%|          | 2/473 [00:00<00:32, 14.42it/s]"
     ]
    },
    {
     "name": "stdout",
     "output_type": "stream",
     "text": [
      "Epoch :7, Training Loss: 5.091314905111122, Num_Correct=257\n"
     ]
    },
    {
     "name": "stderr",
     "output_type": "stream",
     "text": [
      "100%|██████████| 473/473 [00:34<00:00, 13.82it/s]\n",
      "  0%|          | 2/473 [00:00<00:39, 11.89it/s]"
     ]
    },
    {
     "name": "stdout",
     "output_type": "stream",
     "text": [
      "Epoch :8, Training Loss: 2.5777286233450267, Num_Correct=267\n"
     ]
    },
    {
     "name": "stderr",
     "output_type": "stream",
     "text": [
      "100%|██████████| 473/473 [00:34<00:00, 13.78it/s]\n",
      "  0%|          | 2/473 [00:00<00:31, 14.81it/s]"
     ]
    },
    {
     "name": "stdout",
     "output_type": "stream",
     "text": [
      "Epoch :9, Training Loss: 2.309064956252812, Num_Correct=315\n"
     ]
    },
    {
     "name": "stderr",
     "output_type": "stream",
     "text": [
      "100%|██████████| 473/473 [00:33<00:00, 14.05it/s]\n",
      "  0%|          | 2/473 [00:00<00:37, 12.57it/s]"
     ]
    },
    {
     "name": "stdout",
     "output_type": "stream",
     "text": [
      "Epoch :10, Training Loss: 6.256137743923786, Num_Correct=311\n"
     ]
    },
    {
     "name": "stderr",
     "output_type": "stream",
     "text": [
      "100%|██████████| 473/473 [00:35<00:00, 13.42it/s]\n",
      "  0%|          | 2/473 [00:00<00:30, 15.24it/s]"
     ]
    },
    {
     "name": "stdout",
     "output_type": "stream",
     "text": [
      "Epoch :11, Training Loss: 2.7453870658138313, Num_Correct=336\n"
     ]
    },
    {
     "name": "stderr",
     "output_type": "stream",
     "text": [
      "100%|██████████| 473/473 [00:36<00:00, 12.95it/s]\n",
      "  0%|          | 2/473 [00:00<00:34, 13.69it/s]"
     ]
    },
    {
     "name": "stdout",
     "output_type": "stream",
     "text": [
      "Epoch :12, Training Loss: 1.041091339735962, Num_Correct=365\n"
     ]
    },
    {
     "name": "stderr",
     "output_type": "stream",
     "text": [
      "100%|██████████| 473/473 [00:33<00:00, 14.18it/s]\n",
      "  0%|          | 2/473 [00:00<00:33, 14.11it/s]"
     ]
    },
    {
     "name": "stdout",
     "output_type": "stream",
     "text": [
      "Epoch :13, Training Loss: 1.3229086292583665, Num_Correct=376\n"
     ]
    },
    {
     "name": "stderr",
     "output_type": "stream",
     "text": [
      "100%|██████████| 473/473 [00:29<00:00, 16.02it/s]\n",
      "  0%|          | 2/473 [00:00<00:30, 15.31it/s]"
     ]
    },
    {
     "name": "stdout",
     "output_type": "stream",
     "text": [
      "Epoch :14, Training Loss: 2.0632292128472898, Num_Correct=378\n"
     ]
    },
    {
     "name": "stderr",
     "output_type": "stream",
     "text": [
      "100%|██████████| 473/473 [00:30<00:00, 15.50it/s]\n",
      "  0%|          | 2/473 [00:00<00:28, 16.42it/s]"
     ]
    },
    {
     "name": "stdout",
     "output_type": "stream",
     "text": [
      "Epoch :15, Training Loss: 1.848329278855734, Num_Correct=385\n"
     ]
    },
    {
     "name": "stderr",
     "output_type": "stream",
     "text": [
      "100%|██████████| 473/473 [00:31<00:00, 14.78it/s]\n",
      "  0%|          | 2/473 [00:00<00:40, 11.70it/s]"
     ]
    },
    {
     "name": "stdout",
     "output_type": "stream",
     "text": [
      "Epoch :16, Training Loss: 0.8578632393510907, Num_Correct=396\n"
     ]
    },
    {
     "name": "stderr",
     "output_type": "stream",
     "text": [
      "100%|██████████| 473/473 [00:30<00:00, 15.37it/s]\n",
      "  0%|          | 2/473 [00:00<00:28, 16.58it/s]"
     ]
    },
    {
     "name": "stdout",
     "output_type": "stream",
     "text": [
      "Epoch :17, Training Loss: 0.9890670783904653, Num_Correct=393\n"
     ]
    },
    {
     "name": "stderr",
     "output_type": "stream",
     "text": [
      "100%|██████████| 473/473 [00:30<00:00, 15.27it/s]\n",
      "  0%|          | 2/473 [00:00<00:30, 15.38it/s]"
     ]
    },
    {
     "name": "stdout",
     "output_type": "stream",
     "text": [
      "Epoch :18, Training Loss: 0.60289164460983, Num_Correct=396\n"
     ]
    },
    {
     "name": "stderr",
     "output_type": "stream",
     "text": [
      "100%|██████████| 473/473 [00:30<00:00, 15.44it/s]"
     ]
    },
    {
     "name": "stdout",
     "output_type": "stream",
     "text": [
      "Epoch :19, Training Loss: 0.4770013829976837, Num_Correct=408\n"
     ]
    },
    {
     "name": "stderr",
     "output_type": "stream",
     "text": [
      "\n"
     ]
    }
   ],
   "source": [
    "train(model,model_context,dataset)"
   ]
  },
  {
   "cell_type": "code",
   "execution_count": 42,
   "metadata": {
    "collapsed": true
   },
   "outputs": [
    {
     "data": {
      "image/png": "[encoded data removed]",
      "text/plain": [
       "<Figure size 1440x360 with 2 Axes>"
      ]
     },
     "metadata": {
      "needs_background": "light"
     },
     "output_type": "display_data"
    }
   ],
   "source": [
    "a=np.arange(19)\n",
    "b=np.ones(19)*473\n",
    "figs,axs=plt.subplots(1,2,figsize=(20,5))\n",
    "\n",
    "axs[0].title.set_text('Loss vs Epoch')\n",
    "axs[0].plot(a,epoch_loss_dat,color='g')\n",
    "\n",
    "plt.title('Number of Correct vs Epoch')\n",
    "axs[1].plot(a,b,epoch_num_correct,color='teal')\n",
    "plt.show()"
   ]
  },
  {
   "cell_type": "markdown",
   "metadata": {},
   "source": [
    "# Saving Models\n",
    "The models can be saved and loaded in PyTorch as follows\n",
    "- Save - save(model.state_dict(), 'PATH')\n",
    "\n",
    "- Load-load_state_dict(torch.load('.PATH'))"
   ]
  },
  {
   "cell_type": "code",
   "execution_count": 43,
   "metadata": {},
   "outputs": [],
   "source": [
    "torch.save(model.state_dict(), './MODEL_GD')\n",
    "#model.load_state_dict(torch.load('./MODEL_GD'))"
   ]
  },
  {
   "cell_type": "code",
   "execution_count": null,
   "metadata": {},
   "outputs": [],
   "source": [
    "torch.save(model_context.state_dict(),'./MODEL_CONTEXTGD')\n",
    "#model_context.load_state_dict(torch.load('./MODEL_CONTEXTGD'))"
   ]
  },
  {
   "cell_type": "markdown",
   "metadata": {},
   "source": [
    "# Validation Set"
   ]
  },
  {
   "cell_type": "code",
   "execution_count": 44,
   "metadata": {},
   "outputs": [],
   "source": [
    "val_data_pd=pd.read_csv('./dataset/Val_data')\n",
    "val_data_pd=val_data_pd.fillna(0)\n",
    "#val_data_pd=val_data_pd.sample(frac=1)"
   ]
  },
  {
   "cell_type": "code",
   "execution_count": 45,
   "metadata": {},
   "outputs": [
    {
     "data": {
      "text/html": [
       "<div>\n",
       "<style scoped>\n",
       "    .dataframe tbody tr th:only-of-type {\n",
       "        vertical-align: middle;\n",
       "    }\n",
       "\n",
       "    .dataframe tbody tr th {\n",
       "        vertical-align: top;\n",
       "    }\n",
       "\n",
       "    .dataframe thead th {\n",
       "        text-align: right;\n",
       "    }\n",
       "</style>\n",
       "<table border=\"1\" class=\"dataframe\">\n",
       "  <thead>\n",
       "    <tr style=\"text-align: right;\">\n",
       "      <th></th>\n",
       "      <th>Unnamed: 0</th>\n",
       "      <th>idx</th>\n",
       "      <th>Title</th>\n",
       "      <th>Score</th>\n",
       "      <th>ID</th>\n",
       "      <th>Image</th>\n",
       "      <th>Num_Comments</th>\n",
       "      <th>Created</th>\n",
       "      <th>Body</th>\n",
       "      <th>Label1Coronovirus</th>\n",
       "      <th>Label2Politics</th>\n",
       "      <th>Label3Non-Political</th>\n",
       "      <th>Label4Objects</th>\n",
       "      <th>Label5AskIndia</th>\n",
       "    </tr>\n",
       "  </thead>\n",
       "  <tbody>\n",
       "    <tr>\n",
       "      <th>0</th>\n",
       "      <td>0</td>\n",
       "      <td>0</td>\n",
       "      <td>Coronavirus (COVID-19) Megathread - News and U...</td>\n",
       "      <td>113</td>\n",
       "      <td>g1zi21</td>\n",
       "      <td>https://www.reddit.com/r/india/comments/g1zi21...</td>\n",
       "      <td>1214</td>\n",
       "      <td>1.587010e+09</td>\n",
       "      <td>###[Covid-19 Fundraisers &amp; Donation Links](htt...</td>\n",
       "      <td>1</td>\n",
       "      <td>0</td>\n",
       "      <td>0</td>\n",
       "      <td>0</td>\n",
       "      <td>0</td>\n",
       "    </tr>\n",
       "    <tr>\n",
       "      <th>1</th>\n",
       "      <td>1</td>\n",
       "      <td>1</td>\n",
       "      <td>Announcing r/IndiaMeme, our own sub for memes ...</td>\n",
       "      <td>282</td>\n",
       "      <td>fzub9j</td>\n",
       "      <td>https://www.reddit.com/r/india/comments/fzub9j...</td>\n",
       "      <td>86</td>\n",
       "      <td>1.586716e+09</td>\n",
       "      <td>HELLO YOU NICE PEOPLE. WE GOT REALLY TIRED OF ...</td>\n",
       "      <td>0</td>\n",
       "      <td>0</td>\n",
       "      <td>0</td>\n",
       "      <td>0</td>\n",
       "      <td>0</td>\n",
       "    </tr>\n",
       "    <tr>\n",
       "      <th>2</th>\n",
       "      <td>2</td>\n",
       "      <td>2</td>\n",
       "      <td>Different stages of hair loss in perfect order...</td>\n",
       "      <td>1674</td>\n",
       "      <td>g4200g</td>\n",
       "      <td>https://i.redd.it/ydbmwsa7jpt41.jpg</td>\n",
       "      <td>59</td>\n",
       "      <td>1.587302e+09</td>\n",
       "      <td>0</td>\n",
       "      <td>0</td>\n",
       "      <td>0</td>\n",
       "      <td>0</td>\n",
       "      <td>0</td>\n",
       "      <td>0</td>\n",
       "    </tr>\n",
       "    <tr>\n",
       "      <th>3</th>\n",
       "      <td>3</td>\n",
       "      <td>3</td>\n",
       "      <td>#OnThisDay in 1975, history was made when Indi...</td>\n",
       "      <td>1029</td>\n",
       "      <td>g437kh</td>\n",
       "      <td>https://i.redd.it/8guugveh2qt41.jpg</td>\n",
       "      <td>29</td>\n",
       "      <td>1.587308e+09</td>\n",
       "      <td>0</td>\n",
       "      <td>0</td>\n",
       "      <td>0</td>\n",
       "      <td>0</td>\n",
       "      <td>0</td>\n",
       "      <td>0</td>\n",
       "    </tr>\n",
       "    <tr>\n",
       "      <th>4</th>\n",
       "      <td>4</td>\n",
       "      <td>4</td>\n",
       "      <td>All the 186 COVID-19 positive cases that were ...</td>\n",
       "      <td>349</td>\n",
       "      <td>g433q6</td>\n",
       "      <td>https://twitter.com/ANI/status/125176181030855...</td>\n",
       "      <td>53</td>\n",
       "      <td>1.587307e+09</td>\n",
       "      <td>0</td>\n",
       "      <td>1</td>\n",
       "      <td>0</td>\n",
       "      <td>0</td>\n",
       "      <td>0</td>\n",
       "      <td>0</td>\n",
       "    </tr>\n",
       "  </tbody>\n",
       "</table>\n",
       "</div>"
      ],
      "text/plain": [
       "   Unnamed: 0  idx                                              Title  Score  \\\n",
       "0           0    0  Coronavirus (COVID-19) Megathread - News and U...    113   \n",
       "1           1    1  Announcing r/IndiaMeme, our own sub for memes ...    282   \n",
       "2           2    2  Different stages of hair loss in perfect order...   1674   \n",
       "3           3    3  #OnThisDay in 1975, history was made when Indi...   1029   \n",
       "4           4    4  All the 186 COVID-19 positive cases that were ...    349   \n",
       "\n",
       "       ID                                              Image  Num_Comments  \\\n",
       "0  g1zi21  https://www.reddit.com/r/india/comments/g1zi21...          1214   \n",
       "1  fzub9j  https://www.reddit.com/r/india/comments/fzub9j...            86   \n",
       "2  g4200g                https://i.redd.it/ydbmwsa7jpt41.jpg            59   \n",
       "3  g437kh                https://i.redd.it/8guugveh2qt41.jpg            29   \n",
       "4  g433q6  https://twitter.com/ANI/status/125176181030855...            53   \n",
       "\n",
       "        Created                                               Body  \\\n",
       "0  1.587010e+09  ###[Covid-19 Fundraisers & Donation Links](htt...   \n",
       "1  1.586716e+09  HELLO YOU NICE PEOPLE. WE GOT REALLY TIRED OF ...   \n",
       "2  1.587302e+09                                                  0   \n",
       "3  1.587308e+09                                                  0   \n",
       "4  1.587307e+09                                                  0   \n",
       "\n",
       "   Label1Coronovirus  Label2Politics  Label3Non-Political  Label4Objects  \\\n",
       "0                  1               0                    0              0   \n",
       "1                  0               0                    0              0   \n",
       "2                  0               0                    0              0   \n",
       "3                  0               0                    0              0   \n",
       "4                  1               0                    0              0   \n",
       "\n",
       "   Label5AskIndia  \n",
       "0               0  \n",
       "1               0  \n",
       "2               0  \n",
       "3               0  \n",
       "4               0  "
      ]
     },
     "execution_count": 45,
     "metadata": {},
     "output_type": "execute_result"
    }
   ],
   "source": [
    "val_data_pd.head()"
   ]
  },
  {
   "cell_type": "code",
   "execution_count": 46,
   "metadata": {},
   "outputs": [],
   "source": [
    "title=list(val_data_pd['Title'])\n",
    "body=list(val_data_pd['Body'])\n",
    "\n",
    "scores=[]\n",
    "labels=[]\n",
    "for i in range(val_data_pd.shape[0]):\n",
    "    scores.append((val_data_pd.loc[i,'Num_Comments'],val_data_pd.loc[i,'Score']))\n",
    "    labels.append([val_data_pd.loc[i,'Label1Coronovirus'],val_data_pd.loc[i,'Label2Politics'],val_data_pd.loc[i,'Label3Non-Political'],val_data_pd.loc[i,'Label4Objects'],val_data_pd.loc[i,'Label5AskIndia']])"
   ]
  },
  {
   "cell_type": "markdown",
   "metadata": {},
   "source": [
    "# Dataset Class\n",
    "The dataset class for validation is mostly same apart from the fact that here the pretrained vocab is used instead of fitting one from scratch. For normal vectors loading doesnt require statedict as in the case of model weights"
   ]
  },
  {
   "cell_type": "code",
   "execution_count": 47,
   "metadata": {},
   "outputs": [],
   "source": [
    "class Dataset(Dataset):\n",
    "    def __init__(self,data_title,data_context,data_score,labels):\n",
    "        \n",
    "        #self.vectorizer=CountVectorizer()\n",
    "        #self.vectorizer.fit_transform(data_context+data_title)\n",
    "        vocab=torch.load('./vocab')\n",
    "        self.token2idx=vocab\n",
    "        \n",
    "        self.sequences=[]\n",
    "        self.sequences_context=[]\n",
    "        for sent in data_title:\n",
    "            sent_brok=[]\n",
    "            \n",
    "            for word in sent.split():\n",
    "                try:\n",
    "                \n",
    "                    sent_brok.append(self.token2idx[word])\n",
    "                except KeyError:\n",
    "                    sent_brok.append('0')\n",
    "            self.sequences.append(sent_brok)\n",
    "        \n",
    "        \n",
    "        for sent in data_context:\n",
    "            sent_brok=[]\n",
    "            #print(sent)\n",
    "            \n",
    "            if sent==0:\n",
    "                self.sequences_context.append(0)\n",
    "                continue\n",
    "            \n",
    "            for word in sent.split():\n",
    "                try:\n",
    "                    sent_brok.append(self.token2idx[word])\n",
    "                except KeyError:\n",
    "                    sent_brok.append('0')\n",
    "            self.sequences_context.append(sent_brok)\n",
    "        #self.sequences_context=[self.token2idx[word] for word in data_context]\n",
    "        self.score=data_score\n",
    "        self.labels=labels\n",
    "        self.idx2token={idx:token for token,idx in self.token2idx.items()}\n",
    "        \n",
    "    def __getitem__(self,i):\n",
    "        return np.array(self.sequences[i],dtype=int),np.array(self.sequences_context[i],dtype=int),np.array(self.score[i],dtype=int),np.array(self.labels[i],dtype=int)\n",
    "    \n",
    "    def __len__(self):\n",
    "        return len(self.sequences)"
   ]
  },
  {
   "cell_type": "code",
   "execution_count": 48,
   "metadata": {},
   "outputs": [],
   "source": [
    "val_dataset=Dataset(data_title=title,data_context=body,data_score=scores,labels=labels)"
   ]
  },
  {
   "cell_type": "code",
   "execution_count": 49,
   "metadata": {},
   "outputs": [],
   "source": [
    "def evaluate(model,model_context,valid_iter,val_data_len):\n",
    "    running_loss=0.0\n",
    "    \n",
    "    model.eval()\n",
    "    model_context.eval()\n",
    "    epoch_lo=0\n",
    "    for x,x_context,x2,y in tqdm.tqdm(valid_iter):\n",
    "        \n",
    "        x=torch.tensor(x).unsqueeze(0)\n",
    "        x_context=torch.tensor(x_context).unsqueeze(0)\n",
    "        x2=torch.tensor(x2).unsqueeze(0)\n",
    "        y=torch.tensor(y)\n",
    "        if(len(x_context.shape)==1):\n",
    "            x_context=x_context.unsqueeze(0)\n",
    "            \n",
    "        context=model_context(x_context)\n",
    "        \n",
    "        \n",
    "        #print(x.shape,x_context.shape,x2.shape)\n",
    "        preds=model(data=x,num_data=x2.float(),context=context)\n",
    "        \n",
    "        preds=preds.squeeze(0)\n",
    "\n",
    "        \n",
    "        loss=criterion(preds.unsqueeze(0),torch.max(y,0)[1].unsqueeze(0))\n",
    "        \n",
    "        #print(torch.max(preds,0)[1])\n",
    "        #print((torch.max(preds,0)[1]==torch.max(y,0)[1]))\n",
    "        epoch_lo+=(torch.max(preds,0)[1]==torch.max(y,0)[1]).sum()\n",
    "        #print(epoch_lo)\n",
    "        running_loss+=loss.item()\n",
    "    \n",
    "    total_loss=running_loss/val_data_len\n",
    "    print(f'Validation Loss: {total_loss}, Num_Correct={epoch_lo}')"
   ]
  },
  {
   "cell_type": "code",
   "execution_count": 50,
   "metadata": {},
   "outputs": [
    {
     "name": "stderr",
     "output_type": "stream",
     "text": [
      "  0%|          | 0/623 [00:00<?, ?it/s]/home/ishan/anaconda3/lib/python3.7/site-packages/ipykernel_launcher.py:26: UserWarning: Implicit dimension choice for softmax has been deprecated. Change the call to include dim=X as an argument.\n",
      "/home/ishan/anaconda3/lib/python3.7/site-packages/ipykernel_launcher.py:51: UserWarning: Implicit dimension choice for softmax has been deprecated. Change the call to include dim=X as an argument.\n",
      "100%|██████████| 623/623 [00:07<00:00, 81.11it/s]"
     ]
    },
    {
     "name": "stdout",
     "output_type": "stream",
     "text": [
      "Validation Loss: 9.231143935326438, Num_Correct=98\n"
     ]
    },
    {
     "name": "stderr",
     "output_type": "stream",
     "text": [
      "\n"
     ]
    }
   ],
   "source": [
    "evaluate(model,model_context,val_dataset,623)"
   ]
  },
  {
   "cell_type": "code",
   "execution_count": null,
   "metadata": {},
   "outputs": [],
   "source": [
    "\"\"\"The embedding vector of covid before and after training\"\"\"\n",
    "\n",
    "print(TEXT.vocab.vectors[395])\n",
    "print(model.embedding.weight[395])"
   ]
  },
  {
   "cell_type": "code",
   "execution_count": 36,
   "metadata": {},
   "outputs": [
    {
     "data": {
      "text/plain": [
       "array([ 0.77868  ,  0.18398  , -0.43352  ,  0.95954  , -0.72738  ,\n",
       "       -0.9008   ,  0.32218  , -0.36436  ,  0.099159 ,  1.1266   ,\n",
       "        0.39165  , -0.24366  , -0.079436 , -0.60457  ,  0.22274  ,\n",
       "       -0.10854  , -0.84247  ,  0.96852  , -0.58184  , -0.45636  ,\n",
       "       -0.7763   , -0.41435  ,  0.27486  , -0.06471  , -1.0923   ,\n",
       "       -0.086898 , -0.0046549,  0.7083   , -0.56226  , -0.71986  ,\n",
       "       -0.029976 , -0.78408  , -0.81421  , -0.5188   ,  0.87906  ,\n",
       "       -0.68707  ,  0.23686  ,  0.27011  ,  0.48901  , -0.12128  ,\n",
       "       -0.28702  , -0.19488  , -0.038685 , -0.28341  ,  0.28282  ,\n",
       "        0.085235 ,  0.32122  , -1.3629   ,  0.054788 , -0.049236 ])"
      ]
     },
     "execution_count": 36,
     "metadata": {},
     "output_type": "execute_result"
    }
   ],
   "source": [
    "glove['corona']"
   ]
  },
  {
   "cell_type": "code",
   "execution_count": 37,
   "metadata": {},
   "outputs": [
    {
     "data": {
      "text/plain": [
       "1304"
      ]
     },
     "execution_count": 37,
     "metadata": {},
     "output_type": "execute_result"
    }
   ],
   "source": [
    "dataset.vectorizer.vocabulary_['corona']"
   ]
  },
  {
   "cell_type": "code",
   "execution_count": 38,
   "metadata": {},
   "outputs": [
    {
     "data": {
      "text/plain": [
       "array([ 0.59597  , -0.81011  , -0.18152  ,  0.54075  , -0.80682  ,\n",
       "        0.48645  , -0.19321  , -0.65757  , -0.36665  ,  0.16266  ,\n",
       "       -0.16876  ,  1.137    ,  0.16336  , -0.0070287,  0.042729 ,\n",
       "        0.034256 ,  0.065436 ,  0.25122  , -0.15997  , -0.25737  ,\n",
       "       -0.28178  ,  0.063979 ,  0.34702  ,  0.058471 ,  0.23484  ,\n",
       "        0.34877  , -0.60567  , -0.45478  ,  0.16202  , -0.92028  ,\n",
       "       -0.61519  , -0.51853  , -0.49749  ,  0.39104  ,  0.052879 ,\n",
       "        0.024537 , -0.5303   , -0.90986  , -0.21012  , -0.4909   ,\n",
       "       -0.046989 , -0.94025  ,  0.49622  ,  1.4761   ,  0.39893  ,\n",
       "        0.47693  ,  0.27395  , -0.70441  , -0.27737  , -1.2093   ])"
      ]
     },
     "execution_count": 38,
     "metadata": {},
     "output_type": "execute_result"
    }
   ],
   "source": [
    "weight_matrix[1304]"
   ]
  }
 ],
 "metadata": {
  "kernelspec": {
   "display_name": "Python 3",
   "language": "python",
   "name": "python3"
  },
  "language_info": {
   "codemirror_mode": {
    "name": "ipython",
    "version": 3
   },
   "file_extension": ".py",
   "mimetype": "text/x-python",
   "name": "python",
   "nbconvert_exporter": "python",
   "pygments_lexer": "ipython3",
   "version": "3.7.3"
  }
 },
 "nbformat": 4,
 "nbformat_minor": 2
}
