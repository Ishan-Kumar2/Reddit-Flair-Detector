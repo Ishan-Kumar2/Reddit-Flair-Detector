{
 "cells": [
  {
   "cell_type": "code",
   "execution_count": 1,
   "metadata": {},
   "outputs": [],
   "source": [
    "import pandas as pd\n",
    "import numpy as np\n",
    "import matplotlib.pyplot as plt\n"
   ]
  },
  {
   "cell_type": "code",
   "execution_count": 2,
   "metadata": {},
   "outputs": [],
   "source": [
    "train=pd.read_csv('Dataset.csv')"
   ]
  },
  {
   "cell_type": "code",
   "execution_count": 3,
   "metadata": {},
   "outputs": [],
   "source": [
    "train=train.rename(columns={\n",
    "    'Unnamed: 0':'idx', \n",
    "   \n",
    "    'NUM_Comments':'Num_Comments',\n",
    "    \n",
    "    'Coronavirus':'Label1Coronovirus', \n",
    "    'Politics':'Label2Politics', \n",
    "    'Non-Political':'Label3Non-Political',\n",
    "    'Unnamed: 11':'Label4None', \n",
    "    '| Repost |':'Label5Repost', \n",
    "    'Unverified':'Label6Unverified', \n",
    "    'Policy/Economy':'Label7Policy/Economy',\n",
    "    'Photography':'Label8Photography', \n",
    "    'Business/Finance':'Label9Buisness/Finance', \n",
    "    'AskIndia':'Label10AskIndia',\n",
    "    'Scheduled':'Label11Scheduled',\n",
    "    '| Stickied Topic |':'Label12Stickied-Topic', \n",
    "    '| Unverified Content / Disreputed Source |':'Label13Unverified-Content',\n",
    "    'Science/Technology':'Label14Science/Technology', \n",
    "    'Food':'Label15Food', \n",
    "    '| Not Original/Relevant Title |':'Label16Not Original',\n",
    "    '| Social Media Rules |':'Label17Social Media', \n",
    "    'CAA-NRC-NPR':'Label18CAA/NRC', \n",
    "    'Megathread':'Label19Megathread', \n",
    "    '🥳':'Label20Unk'})"
   ]
  },
  {
   "cell_type": "code",
   "execution_count": 4,
   "metadata": {},
   "outputs": [
    {
     "data": {
      "text/plain": [
       "Index(['idx', 'Title', 'Score', 'ID', 'Image', 'Num_Comments', 'Created',\n",
       "       'Body', 'Label1Coronovirus', 'Label2Politics', 'Label3Non-Political',\n",
       "       'Label4None', 'Label5Repost', 'Label6Unverified',\n",
       "       'Label7Policy/Economy', 'Label8Photography', 'Label9Buisness/Finance',\n",
       "       'Label10AskIndia', 'Label11Scheduled', 'Label12Stickied-Topic',\n",
       "       'Label13Unverified-Content', 'Label14Science/Technology', 'Label15Food',\n",
       "       'Label16Not Original', 'Label17Social Media', 'Label18CAA/NRC',\n",
       "       'Label19Megathread', 'Label20Unk'],\n",
       "      dtype='object')"
      ]
     },
     "execution_count": 4,
     "metadata": {},
     "output_type": "execute_result"
    }
   ],
   "source": [
    "train.columns"
   ]
  },
  {
   "cell_type": "code",
   "execution_count": 5,
   "metadata": {},
   "outputs": [
    {
     "data": {
      "text/plain": [
       "0    686\n",
       "1      6\n",
       "Name: Label4None, dtype: int64"
      ]
     },
     "execution_count": 5,
     "metadata": {},
     "output_type": "execute_result"
    }
   ],
   "source": [
    "train['Label4None'].value_counts()"
   ]
  },
  {
   "cell_type": "code",
   "execution_count": 6,
   "metadata": {},
   "outputs": [
    {
     "data": {
      "text/plain": [
       "0    386\n",
       "1    306\n",
       "Name: Label1Coronovirus, dtype: int64"
      ]
     },
     "execution_count": 6,
     "metadata": {},
     "output_type": "execute_result"
    }
   ],
   "source": [
    "train['Label1Coronovirus'].value_counts()"
   ]
  },
  {
   "cell_type": "code",
   "execution_count": 7,
   "metadata": {},
   "outputs": [
    {
     "data": {
      "text/plain": [
       "0    581\n",
       "1    111\n",
       "Name: Label2Politics, dtype: int64"
      ]
     },
     "execution_count": 7,
     "metadata": {},
     "output_type": "execute_result"
    }
   ],
   "source": [
    "train['Label2Politics'].value_counts()"
   ]
  },
  {
   "cell_type": "markdown",
   "metadata": {},
   "source": [
    "Potentional error is uneven dataset\n"
   ]
  },
  {
   "cell_type": "code",
   "execution_count": 14,
   "metadata": {},
   "outputs": [
    {
     "data": {
      "text/plain": [
       "['Coronavirus (COVID-19) Megathread - News and Updates - 3',\n",
       " 'Firozabad police fact-checking zee news (translation in comments)',\n",
       " 'Donald Trump talks of ‘retaliation’ if India turns down Covid drug request',\n",
       " 'Mom came up with this impressive idea to celebrate my bday amidst lockdown (choco pie & chena khir)',\n",
       " '9 PM 9 Minutes: House Catches Fire In Bihar; Grandmother, Two Girls Die',\n",
       " 'Cartoon by Pencilashan',\n",
       " \"Pandemic impact: Mukesh Ambani's net worth drops 28% to $48 billion in 2 months\",\n",
       " 'Symbiotic Relationship',\n",
       " 'Coronavirus: How Shashi Tharoor Spent His MP Funds Just Before Centre Scrapped It',\n",
       " 'Mainstream Indian media for you. Palestine is now in Africa.',\n",
       " \"Raipur AIIMS denies 'spitting, misbehaviour' by Tablighi Jamaat patient\",\n",
       " 'ICMR prepares plan to increase testing capacity to 100,000 a day',\n",
       " \"Viral audio: False conspiracy theory about Modi govt introducing 'vaccine' to kill Muslims - Alt News\",\n",
       " 'Explained: Sampling bias drove sensationalist reporting around Tablighi coronavirus cases',\n",
       " \"Kerala Develops India's First Walk-In Kiosk For Coronavirus Test | COVID-19 India\",\n",
       " 'Coronavirus & Hydroxychloroquine -- India Cuts Off U.S. from Nearly Half of Its Supply',\n",
       " 'Kamal Haasan Writes To Prime Minister Narendra Modi Criticizing The Way The Lockdown Was Implemented And He Does Bring Up A Few Valid Points',\n",
       " 'No ration cards, no food supplies. Hunger stalks rural India',\n",
       " 'Muslim woman in Bangalore attacked by goons for distributing ration',\n",
       " \"Jamia Professor, Suspended For 'Failing 15 Non-Muslim Students', Didn't Fail Even One\",\n",
       " 'Over 1,000 Attend Tribal Procession In Rajasthan Amid Lockdown',\n",
       " 'Medicines run dry as coronavirus lockdown hits Kashmir pharmacies',\n",
       " 'Govt is threatening and gagging Safdarjung Hospital Resident Doctors who are complaining about lack of PPE. Govt now ordered all doctors numbers to be given to police.',\n",
       " 'Covid-19 lockdown impact: Unemployment rate rises to 23.4%',\n",
       " 'Inspired By South Korea, Walk-In COVID-19 Test Kiosks Built In Kerala',\n",
       " 'Stones Thrown At Karnataka Cops For Stopping Prayer Meet During Lockdown',\n",
       " 'Insurers cannot decline death claim settlement in case of COVID-19: Life Insurance Council',\n",
       " 'Starry timelapse from my roof. 600 photos{f/3.5,100iso,13sec} , put up in premiere to get a timelapse. Shot on nikon d5600 with 18-55mm kit lens. NEW DELHI.',\n",
       " 'Coronavirus | ‘Don’t target doctors asking for protective equipment’',\n",
       " 'Coronavirus in India Live Updates: Govt lifts restrictions on export of 24 drugs amid threats from Trump - India Today',\n",
       " \"India's Power Grid Survived 'Diya Jalao' – but Only for Drastic Action Behind the Scenes\",\n",
       " \"Isn't it just fucking great how companies like Ola valued at around USD 10 Billion desperately needs donations from people like us to pay their drivers wages amounting to 30cr?\",\n",
       " 'COVID-19: Man posts ‘no ventilators in Ludhiana’ on Facebook, booked for sedition',\n",
       " 'What do you do when your own family subscribes to the ‘goli maaro’ ideology? [rant]',\n",
       " 'COVID-19: Muslims and Muslim volunteers heckled, harassed in Karnataka',\n",
       " 'India keeps its zoos, national parks and wildlife sanctuaries on highest alert as a tiger in New York zoo tested Covid-19 positive',\n",
       " 'Marriage and social issues',\n",
       " 'North eastern girl spat on in Mumbai: NCW',\n",
       " 'In Fatal Hand-To-Hand Combat, Special Forces Kill 5 Pak Terrorists',\n",
       " 'Is India Getting Better?',\n",
       " \"The genius in PM's speeches.\",\n",
       " \"Raipur AIIMS denies 'spitting, misbehaviour' by Tablighi Jamaat patient\",\n",
       " '#NewsAlert | WhatsApp to limit forwards to only one chat at a time to slow the spread of misinformation surrounding COVID-19',\n",
       " '‘Technology is Here to Stay’: SC Issues Guidelines for Hearings Through Video Conferencing Across Courts',\n",
       " 'India’s richest man lost $300 million a day in the past two months due to coronavirus',\n",
       " \"COVID-19: Government Threatens Kashmir Doctors With 'Strict Action' for Media Leaks\",\n",
       " 'Muslims Spitting on Food, Hiding in Mosques to Spread Coronavirus? Beware of These 8 Fake News Stories',\n",
       " 'For anyone needing to know about the number of tests performed each day check out here. The ICMR data which is released each day is updated to this repository.',\n",
       " 'Jamait Ulama-I-Hind Moves SC Seeking Action Against Media For Communalizing Nizamuddin Markaz Issue',\n",
       " 'I am an exmuslim. AMA!',\n",
       " 'Men who are 30+ and have decided not to get married, what is your plan for old age?',\n",
       " 'On losing hope and daydreaming about ceasing my existence',\n",
       " 'Lockdown silence reverberates with domestic squabbles: Angry husband slaps woman after she smashes his laptop',\n",
       " 'Random Daily Discussion Thread - April 07, 2020 at 09:15AM',\n",
       " 'How long do you think this coronavirus disaster is going to continue in India estimating from the current scenario?',\n",
       " 'Kerala-based business group announces salary hike for employees amid COVID-19 lockdown',\n",
       " 'Corona Negative - Young man commits suicide due to Social boycott',\n",
       " 'Will coronavirus lockdown cause food shortages in India?',\n",
       " 'American wondering how to tactfully refuse food',\n",
       " 'IIT Kanpur community kitchen feeding 800 street kids',\n",
       " \"Resident Doctors' Association at Safdarjung hospital in Delhi has put a plea for donations of PPE kits, N95 masks and Hand Sanitizers.\",\n",
       " 'Trump talks of ‘retaliation’ if India turns down anti-malarial drug request',\n",
       " \"India's media must promote science, not superstition, in COVID-19 fight\",\n",
       " 'Nine-month pregnant woman dies of COVID-19',\n",
       " 'Why do most desi advertisers \\\\ marketing teams use overwhelmingly white / non Indian models for their ads, OOP content, flyers & even mailers?!',\n",
       " 'Community transmission has begun in some areas: AIIMS director on coronavirus spread in India',\n",
       " 'Kerala HC Allows Plea Of Cat Owner Who Was Denied Pass To Buy Pet Food',\n",
       " 'Delhi: Outcry over lack of protective gear as 7 doctors test positive for Covid-19',\n",
       " 'COVID-19: One more tests positive in Assam, total reaches 27',\n",
       " 'Italy is testing for antibodies to see which people are immune. India needs to do this so as to replace the essential workers before easing the lockdown.',\n",
       " 'How the 2020 Stock Market Crash is Different from 2008',\n",
       " 'Medical workers being targeted for raising issues of protective gear, says AIIMS RDA',\n",
       " 'Doing Their Bit: The Extraordinary Men and Women of These Extraordinary Times',\n",
       " '[AskIndia] Did any police/traffic police personnel catch Corona?',\n",
       " \"Case filed against man in Imphal after purported audio clip of him urging people not to follow PM Narendra Modi's lights-out call went viral on social media: Police.\",\n",
       " 'Two-week extension of lockdown in Mumbai, Pune and wherever there are large number of #COVID19 cases may be needed: Maharashtra Health Minister, Rajesh Tope tells NDTV.',\n",
       " 'Dudhsagar Falls, Goa Karnataka Border, India [OC] [3000x4160]',\n",
       " 'Went out to get tire puncture fixed during an emergency. Got my RC taken away.',\n",
       " 'Coronavirus | Municipalities using Smart Cities’ command centres turn into war rooms',\n",
       " 'Vodafone is having a network outage',\n",
       " '17 new coronavirus cases reported in Jammu and Kashmir as of 9:00 AM - Apr 05',\n",
       " 'Surat doctor harassed by insensitive neighbours; files police complaint',\n",
       " \"BJP MLA lights torch, chants 'Chinese virus go back' to mark fight against Covid-19 in Hyderabad\",\n",
       " \"Donald Trump Hints At Retaliation If India Doesn't Send Hydroxychloroquine\",\n",
       " \"Muslim family attacked in Gurugram for responding to PM Modi's call to turn lights off\",\n",
       " 'As classes move online, IITs find 10% students can’t access lessons from home - The Indian Express',\n",
       " 'Truth behind NASA report on earthquake predicted in Delhi today',\n",
       " '\"Don\\'t target doctors\" - Indian medics say coronavirus critics being muzzled',\n",
       " \"DRDO Makes 'Bio Suit' For India's Medical Staff Fighting COVID-19, With 7,000 Suits Made Daily\",\n",
       " 'COVID19 Volunteer',\n",
       " 'As IIT, IIM students lose job offers, institutes appeal to recruiters to keep promises',\n",
       " \"After 26 Nurses, 3 Doctors Test Covid-19 Positive, Mumbai's Wockhardt Hospital Declared Containment Zone\",\n",
       " \"AIIMS RDA writes to PM Modi over 'targeting of doctors for raising genuine concerns related to Covid-19 preparedness'\",\n",
       " \"Uttar Pradesh: Lockdown Won't Be Lifted If A Single Case Of COVID-19 Is Left Says Official\",\n",
       " 'Survey shows 42% have no ration left for the day, let alone duration of lockdown',\n",
       " 'Our mothers & sisters gave their jewellery during wars in the past. The current situation is in no means less than a war. It is a war to save humanity. I appeal to every BJP worker to contribute to PM-CARES Fund & motivate 40 others for the same: Prime Minister Narendra Modi',\n",
       " \"India leaves behind local transmission phase, moves into 'large outbreaks amenable to containment' strategy\",\n",
       " 'Kudos to everyone, for making my family feel very safe in these times!',\n",
       " 'Government lifts ban on export of key APIs, vitamins',\n",
       " 'WhatsApp puts new limits on the forwarding of viral messages - The Verge',\n",
       " 'Medical workers being targeted for raising issues of protective gear, says AIIMS RDA',\n",
       " 'Indian food after Heart surgery/Angioplasty?',\n",
       " 'Arunachal Man Kidnapped By Chinese Army Yet To Be Traced: Police',\n",
       " 'Centre places restrictions on media in COVID press briefings; shifts focus to Tablighi Jamaat',\n",
       " \"Idea for PMCARES and Chief Minister’s fund: After lockdown, ask for donation to fund instead of 'bribes’?\",\n",
       " 'Quora is full of hate !!',\n",
       " 'Glimpse Of Actual Reality',\n",
       " 'TikTok Videos Aimed At Misleading Indian Muslims Over Coronavirus Precautions',\n",
       " 'How can an individual help healthcare workers get PPE / Masks in India?',\n",
       " 'Growing up in India with a Chinese mother hasn’t been easy, Covid makes it worse',\n",
       " 'Oil prices are low, print some money, don’t think of inflation, says Abhijit Banerjee',\n",
       " '12 staff members of Jaslok Hospital in Mumbai test COVID-19 positive.Swab test results of 300 staff & patients awaited.',\n",
       " 'Captured India with my phone.',\n",
       " 'Coronavirus: Two UAE-based Indians in trouble over Islamophobic messages',\n",
       " 'Open letter from Kamal Haasan to Prime Minister Narendra Modi',\n",
       " 'COVID-19: Trump Warns Of \"Retaliation\" If India Doesn\\'t Clear Key Drug Export',\n",
       " '40 Pune doctors in quarantine after Tablighi Jamaat meet attendee tests positive',\n",
       " 'Kabul gurdwara attack: Sikhs from Afghanistan write to Indian Embassy, Amit Shah, seek evacuation. According to both letters, at least 650 Sikhs from Afghanistan are seeking immediate evacuation, claiming they are still getting threat calls to either leave the country or face consequences.',\n",
       " 'Lockdown may continue in coronavirus hotspots, impact will be seen after April 14: AIIMS Director',\n",
       " 'Not allowed to deboard, 600 fishermen from Maharashtra say: worse than being afflicted by corona',\n",
       " '76 health officials of Bihar were found absent from their duties. Official proceedings intiated',\n",
       " 'I wrote a sarcastic email rant to Paisabazaar, should I send it?',\n",
       " \"Press Trust of India-Arunachal Pradesh Police confirms that 21-year-old man was abducted by China's People's Liberation Army on March 19 from Asapila sector near McMahon line in Upper Subansiri district. Whereabouts of the man is yet to be known\",\n",
       " \"I spoke to him (PM Modi), Sunday morning & I said we appreciate it that you are allowing our supply (of Hydroxychloroquine) to come out, if he doesn't allow it to come out, that would be okay, but of course, there may be retaliation, why wouldn't there be?: US Pres Donald Trump\",\n",
       " 'Is an IIM MBA degree worth it for a software engineer already earning 18 lpa?',\n",
       " \"Switch Off the Lights and You'll Be Marked, Warns Trinamool Congress Leader; BJP Demands Action\",\n",
       " 'Distance Program for Bachelors',\n",
       " \"Muslim Truckers 'Beaten Up' in Arunachal, Concern Over Supplies of Essential Items\",\n",
       " 'India facing greatest economic emergency since Independence: Raghuram Rajan - The Week',\n",
       " 'Rajasthan: 3-year-old girl found bleeding; was raped by 20-year-old youth in Bharatpur',\n",
       " 'During the Ongoing Lockdown the Jamaate Islami Hind, Maharashtra has provided ration kits amounting to 1 Cr 34 Lacs 76 Thousand 35 (1, 34, 76035) to the needy between 22 - 31 March. | Tweeted by official handle of JIHM @JIHMaharashtra',\n",
       " 'Ram Rajya at last! (a politoon from 1952)',\n",
       " 'Mumbai Man Claims Coronavirus a Govt Conspiracy in Facebook Post, Arrested',\n",
       " 'The test kits of the Ahmedabad firm CoSara, which was first in India to get licence to make Covid-19 testing kits, have failed validation carried out by ICMR.',\n",
       " \"I'm scared what's going to happen to India in the future\",\n",
       " 'India has closed its railways for the first time in 167 years. Now trains are being turned into hospitals',\n",
       " 'How Telangana is using ISRO’s spatial tech to deliver veggies at doorsteps',\n",
       " 'Tablighi Jamaat member sends legal notice to Bennett Coleman MD Vineet Kumar Jain for article alleging links with terror outfits',\n",
       " 'Old video of a delivery man stealing slices from bread packets is viral as “Thook Jehad”',\n",
       " '‘Scary scenario’: Coronavirus is breaking the back of India’s restaurant industry',\n",
       " \"Modi government unveils a containment plan for when lockdown ends & the Bhilwara Model it's based on\",\n",
       " 'Coronavirus Cases Doubling Every 4 Days, Set To Touch 17,000 In A Week',\n",
       " 'Kanika finally gets discharged after testing negative for COVID the sixth time',\n",
       " \"'Opposition sent them': BJP MLA distributes ration on birthday, social distancing goes for a toss\",\n",
       " \"Team of 'hoaxbusters' at work to debunk coronavirus myths in 15 languages | The Indian Scientists' Response to Covid-19 has released a set of 18 posters in 15 languages that debunk misinformation.\",\n",
       " 'The illumination of the Moon lights up #India, not to be outshined by the city lights from Ahmedabad to Mumbai along its northwest coast.',\n",
       " \"Mumbai Man Claims Coronavirus As Centre's Conspiracy, Arrested\",\n",
       " 'Company not paying salary since last 7 months, What can be done?',\n",
       " 'I don’t understand why my book is so popular in India. Maybe you can explain? And thanks to all the Indians for this!',\n",
       " '40 Kerala nurses in Mumbai tested positive for coronavirus',\n",
       " \"Area around CM Uddhav Thackeray's residence Matoshree sealed after nearby situated tea stall owner tests positive\",\n",
       " 'Lockdown: TCS offers free, 15-day digital certification programme',\n",
       " 'Prioritize spending on poor, Raghuram Rajan tells Modi',\n",
       " 'Indian PPE Maker Explains Why Docs Don’t Have Protective Equipment',\n",
       " 'Trump Warns Of \"Retaliation\" If India Doesn\\'t Clear Key Drug Export',\n",
       " 'PM-CARES fund is plain fraud at a time of national crisis',\n",
       " 'One Lakh Kits to Reach Tamil Nadu From China on Thursday to Aid Quick Screening: CM Palaniswami - News18',\n",
       " 'Prayagraj police debunking fake news peddled by sudarshan tv (translation in comments)',\n",
       " 'Tablighi chief ignored advice of clerics on cancelling meet| India News - Times of India',\n",
       " 'Late Night Random Discussion Thread !',\n",
       " 'Will you eat Corona Sandesh? Kolkata shop sells coronavirus-shaped sweets',\n",
       " 'Modi Denies India Is Targeting Muslims. We Found a Different Reality.',\n",
       " \"Here's my side of the story as a small businessman\",\n",
       " 'What happened to the 170k crore RBI injected into the economy last year? Where did it go?',\n",
       " \"Govt's decision to force RBI to open it's string and payout ₹1.76lakh Crores way back in 2019. What do you guys think about it now..?\",\n",
       " \"Don't shun science: Muslim leaders, clerics to Tablighi Jamaat workers\",\n",
       " '\"India partially lifts ban on export of hydroxychloroquine to help US, others fight Covid-19\" https://theprint.in/diplomacy/india-partially-lifts-ban-on-export-of-hydroxychloroquine-hours-after-trumps-threat/396792/?amp',\n",
       " 'Hydroxychloroquine and paracetamol Export to nations badly affected by covid-19 cleared. Many essential drugs on list as well including acyclovir, an antiviral.',\n",
       " 'Ordinance passed to cut salaries of MPs, ministers by 30% to fund Covid-19 battle - Hindustan Times',\n",
       " 'Three arrested for attacking policewoman on lockdown duty',\n",
       " 'I am in home quarantine. I am having severe pain in my stomach for past two days. Can I go to hospital?',\n",
       " 'Lockdown should be lifted only after cases start dropping: Experts',\n",
       " 'Karnataka may allow liquor sale for 3 hours if curbs extended',\n",
       " \"Anyone here who's applied for home loan and is currently paying back? How is the current situation? Is it a good choice to buy a house now?\",\n",
       " 'Mutual surveillance ?',\n",
       " 'Prepare 10 priority areas once lockdown ends, work out business continuity plan: PM Modi to central ministers | India News - Times of India',\n",
       " 'Corona Warriors: Cop on medical leave opens community kitchen in Lucknow',\n",
       " 'Did the Public Miss the Point of PM Modi’s #9pm9Minutes Call?',\n",
       " 'Why were coronavirus testing kit approvals hidden from public view?',\n",
       " 'There Are At Least 75,000 Coronavirus Infections In India TODAY: 21 Days Not Enough',\n",
       " 'Pink Moon in India',\n",
       " 'COVID-19: Aurangabad Doctors Stage Protest to Demand PPE, Masks',\n",
       " 'Madhya Pradesh: Police Allegedly Beat Adivasi Man to Death for Breaking Lockdown',\n",
       " 'New coronavirus testing kit gives results in just an hour',\n",
       " 'Risk of coronavirus from money.',\n",
       " 'COVID-19 - IIT Roorkee develops low-cost ventilator in collaboration with AIIMS',\n",
       " 'Questions regarding Indian income',\n",
       " 'Friends of decades have fallen for fake news and are actively demonizing the Muslim community. How did we come to this?',\n",
       " 'Hindu Makkal Katchi member detained under National Security Act',\n",
       " 'A Small Rant',\n",
       " 'There are 50 new COVID19 positive cases in Tamil Nadu today including 48 from Tablighi Jamaat; Total positive cases in the state is 621 including 570 Tablighi Jamaat returnees: Tamil Nadu Health Secretary Beela Rajesh',\n",
       " 'During #9PM9minute All India demand of electricity came down to 85 GW. A drop of whopping 32 GW. It was much beyond the expected drop of 12 GW. However a robust system, flawless planning by engineers & close monitoring by @MinOfPower ensured no disruption. | CEO Central Electricity Supply Utility o',\n",
       " \"Mamaji ( Deven Varma's) DD 90's Comedy Serial.\",\n",
       " 'A different argument on the Grandiose Gestures of our Honorable PM',\n",
       " 'Poll on sleeping 😴 hours',\n",
       " 'Coronavirus: Delhi BJP chief Manoj Tiwari launches campaign to collect donations for PM-CARES fund |',\n",
       " 'These Corona virus events are not the best way to judge Modi’s popularity. Hear me out.',\n",
       " 'India’s Covid-19 testing figures show a mysterious, recurring pattern',\n",
       " 'Why is it called \"PM-Cares\" fund?',\n",
       " 'Feeling inadequate',\n",
       " 'UP: Three people arrested for trying to spread fake news on coronavirus',\n",
       " 'Opinion: No Excuses, Please, For What Happened At Nizamuddin Markaz',\n",
       " 'India Faces Greatest Economic Emergency Since Independence, Says Raghuram Rajan',\n",
       " 'Recommend some Tamil Telugu movie',\n",
       " \"Made a comic from yesterday's events, about a dystopic India. Here is Monkey Island.\",\n",
       " 'Govt estimates: In next 2 months, need 27 million N95 masks, 50000 ventilators',\n",
       " 'Covid—19 Gujarat Updates',\n",
       " 'What is your opinion on Arundhati Roy when it comes to politics?',\n",
       " 'Pune woman’s death due to COVID-19 puzzles authorities.',\n",
       " 'More nurses found to be positive at Wockhardt:',\n",
       " 'Telangana students stuck in Maharashtra enjoy camp life during lockdown',\n",
       " 'Launching new dating advice subreddit for Indian Interracial couples',\n",
       " 'North Sentinel Island, India',\n",
       " 'Sirsa dera claims its chief had known about Covid-19 outbreak 8 years back',\n",
       " 'Stay at home - Ft. Amitabh, Rajinikanth, Chiranjeevi, Mammootty, Mohanlal, Ranbir and a lot more..',\n",
       " 'Prime minister hints at calibrated exit from lockdown.',\n",
       " 'Fuck this. Our country will never learn.',\n",
       " 'Lone House at Loktak Lake, Manipur [OC] [6000x4000]',\n",
       " 'Any good unconventional bollywood movies to watch during the lockdown?',\n",
       " 'Delhi: Mosque allegedly attacked in Alipur, minorities panel urges police to take proper action',\n",
       " 'Recipe request - Frooti milkshake',\n",
       " \"No, Maps dont show satellite view after Pm's 9 Pm call\",\n",
       " 'Outsourced supplies of PPEs begin landing in India',\n",
       " \"I'm an MBBS intern and I need some advice.\",\n",
       " 'SC judgment on RTI Act sets a dangerously low bar for what passes muster as law of land [NP]',\n",
       " \"BJP is true carrier of India's democracy, says Amit Shah\",\n",
       " 'Beyond the lockdown | The government is contemplating a partial lifting of the current lockdown on April 15 and imposing another one a month later',\n",
       " 'Noida Rape Case: Eight-year-old raped, smothered to death by cousin in Noida',\n",
       " 'Woman raped in Manipur, one arrested',\n",
       " \"Indian astronauts' training on hold in Russia due to COVID-19 lockdown\",\n",
       " 'Coronavirus lockdown: How to use Google Maps to help someone find the nearest food and night shelter',\n",
       " '#Family - A Made At Home Short Film',\n",
       " 'India’s Swiggy raises $43M to expand to new businesses',\n",
       " 'No answers, no access, no accountability: Journalists struggle to get information from the government as Covid-19 crisis worsens',\n",
       " 'IndiaSpend: Any person who tests positive for #COVID19 has to be tested at least thrice before they are declared recovered. Yet, the difference between the no. of samples & people tested in India stayed constant at 890. Why is this happening? Read our report',\n",
       " 'Central Government has removed restrictions on the export of 12 Active Pharmaceutical Ingredients (APIs) and 12 formulations made from these APIs, with immediate effect: Directorate General of Foreign Trade, Ministry of Commerce and Industry',\n",
       " 'Tracking COVID-19 in India: The BCG Hypothesis',\n",
       " 'Coronavirus cases cross 4,000 in India, 109 deaths. State-wise numbers here',\n",
       " 'Chances of government colleges opening after lockdown?',\n",
       " \"Coronavirus: Nurses move SC on 'extreme risks', seek more steps from Centre | Deccan Herald\",\n",
       " '[RANT] I want to become the Benjamin in this Animal Farm that India has become.',\n",
       " 'Clean air and peaceful - During Lockdown',\n",
       " 'Scientific temper vs Faith',\n",
       " 'Over 25,500 Tablighi Jamaat members quarantined in country till now; 5 Haryana villages sealed: MHA',\n",
       " \"On 20th February, when the #COVID19 situation was not as bad in India, I gave the slogan of 'go corona, corona go'. At that time people were saying, will this make corona go away? Now we are seeing this slogan all across the world: Union Minister Ramdas Athawale (5.04.20)\",\n",
       " 'Bank deducted EMI despite opting for RBI moratorium',\n",
       " \"India's growth may slip below 3% in FY21 if coronavirus proliferates: KPMG\",\n",
       " 'Carnegie Mellon Vs IIT/NIT',\n",
       " 'India cases in 4,288, death toll 117, says Worldometer',\n",
       " 'Wagle Ki Duniya',\n",
       " 'Suggest me few courses or certifications, that I can do in next 2 months, before i join a B-school in India',\n",
       " 'Does anyone remember the name of that one daily afternoon music show on Doordarshan?',\n",
       " 'India may need 27 million n95 masks and 15 million PPES by June:',\n",
       " 'UP man shot dead at tea shop for allegedly blaming Tablighi Jamaat for coronavirus spread',\n",
       " 'My internet service provider(Jio fibre) really worked hard and took a complaint seriously in such times',\n",
       " 'Poke fun at taali, thaali, diya and mombatti all you want. Modi couldn’t care less',\n",
       " \"My dear friends making the most of Modiji's request\",\n",
       " \"Now that Govt. recommends DIY Face Masks, here's my Qualitative Filter Face Mask\",\n",
       " 'No matter how much you hate Modi, you can’t deny that this guy has an unbelievable charm and knows how to command people.',\n",
       " 'Web developers of India, help?',\n",
       " \"FIR lodged for trying to 'sell' Statue of Unity for ₹30,000 cr on OLX\",\n",
       " 'Which Hill Station Has the Least Power Cuts?',\n",
       " 'Indian Doctors of Reddit, has India ramped up its CodVid-19 testing yet?',\n",
       " 'COVID-19: Website to be launched for volunteers with medical experience: Himanta Biswa',\n",
       " 'Sources: Pakistan tries to send COVID-19 infected people across LoC | Line of Control | Coronavirus',\n",
       " 'The Coronavirus Pandemic Has Strengthened Class Segregation in India [NP]',\n",
       " 'Will the coronavirus crisis inevitably result in an expansion of the surveillance state in India?',\n",
       " 'Anyone planning to get back to the gym after the lockdown?',\n",
       " 'Govt initiatives during Covid-19 pandemic',\n",
       " 'Govt Releases COVID19 Containment Plan for Post Lockdown',\n",
       " \"IT, ITeS companies sacking employees, cutting salary: Employees' Union\",\n",
       " '[Serious] My girlfriend feels pregnant.',\n",
       " '9 PM news on a Telugu news channel',\n",
       " 'I just got this message. What does it mean ?',\n",
       " 'Fight Against Coronavirus No Less Than War, Says PM Modi',\n",
       " 'Coronavirus: Shortage of PPE, masks easing, says govt | India News - Times of India',\n",
       " \"What's with the candles?\",\n",
       " \"St' Joseph's Higher secondary school, Thalassery, Kannur District, Kerala\",\n",
       " '[OC] [3464x4618] [Redmi Note 7 Pro] Vasco-Yeshwanthpur express stopped for crossing near Hassan, Karnataka.',\n",
       " 'A letter to Anand Teltumbde, on his way to jail',\n",
       " \"Don't let all the sh*t that's going around distract you from the fact that tomorrow is #Doraemonday\",\n",
       " 'Second things First.',\n",
       " 'Are We Hypocrite Inherently?',\n",
       " 'The lights-out from my window in Hiranandani Estate, Thane (West)',\n",
       " \"It's done guys we are at war with WhatsApp University and fake YouTube videos.\",\n",
       " 'Happy Mahavir jayanti everyone!',\n",
       " \"Odisha:Locals in Kesharpur,Cuttack pelted stones at police today.'Some ppl from Muslim community pelted stones at police while police personnel were patrolling the area during complete shutdown imposed in Cuttack till 8pm today. Case registered',says Cuttack DCP Akhileshvar Singh\",\n",
       " 'Are there any tutoring services one can register with to teach 11th and 12th grade students?',\n",
       " 'Lockdown special: Sarabhai Vs Sarabhai and Khichdi to air from Monday',\n",
       " 'Maharashtra BJP MLA defies lockdown, calls people for birthday | Deccan Herald',\n",
       " 'Saharanpur Police says no truth in Tablighi Jamaat people demanding non-veg food in quarantine, terms it fake news',\n",
       " 'Random Daily Discussion Thread - April 06, 2020 at 09:15AM',\n",
       " 'RANT : Some people need to be thrown into prison for spreading so much of venomous hatred and misinformation that fuels communal tensions.',\n",
       " 'Video: In Manchar (Maharashtra) police beats up young guy in an inhuman manner, who was just taking tiffin for his parents at the farm.',\n",
       " 'Tamil Nadu Man, Who Returned Home After Lockdown, Killed for Marrying Outside His Caste',\n",
       " 'Long war against coronavirus, have to emerge victorious: PM Modi',\n",
       " 'Anyone else in the group who is not in India and is freaking about their family back home?',\n",
       " \"How did NDTV published article saying 'India lights lamps without no major power outages or blackouts' exactly at 8:58pm?\",\n",
       " \"[Hear me out] Tabliki Jamat incident has screwed ordinary Indian Muslim's life for coming years\",\n",
       " \"[Academic] Research on tourist sentiments towards attraction tickets booking and Singapore's Sentosa online website (Indian tourists who have been to Singapore)\",\n",
       " 'India COVID-19 Data Archive: Case Numbers from Official Sources Only Like PIB and MoHFW',\n",
       " 'Pak-backed terror module in Afghanistan that targeted India busted, 37 arrested',\n",
       " 'Lockdown significantly improves water quality of ganga',\n",
       " \"Citizens should stop addressing the PM's theatrics and just come up with their own activites as an act of defiance.\",\n",
       " 'Coronavirus survival kit. World Vs. India.',\n",
       " 'Schematic Diagram of a mask for stitching?',\n",
       " 'No, US and UK have not selected PM Modi to lead a coronavirus task force',\n",
       " 'Taunted over coronavirus spread after Tablighi meet, Himachal man commits suicide',\n",
       " \"Delhi has not been given a single paisa from the ₹17,000 crore allocated to states. Here's why\",\n",
       " 'I just got this message. What does it mean ?',\n",
       " \"Fire in Singasandra, Bangalore during today's lamp lighting\",\n",
       " 'Coronavirus: 4 northeast states untouched by Covid-19, no cases in Lakshadweep - india news',\n",
       " 'Update on Feed the Daily Wager',\n",
       " 'Govt considering another package to minimize lockdown impact: Sources - Times of India',\n",
       " 'Missing Dr. Manmohan Singh 😞',\n",
       " '8 Malaysian Tablighis, trying to flee India, caught at airport',\n",
       " 'Can somebody explain to me why are we celebrating Diwali tonight?',\n",
       " '[OC] Search for the bride & Diwali shopping:',\n",
       " 'Some Questions!',\n",
       " \"This is what has been going on. People in the masses out in the street burning rockets and other firecrackers. It's a mess.\",\n",
       " 'Switch-off Bharat: Power distracts, absolute power distracts absolutely.',\n",
       " 'New Community for Indian Expats',\n",
       " 'Contribute to help provide PPE Kits to Doctors!',\n",
       " \"How do I get my boyfriend's parents to give me a chance?\",\n",
       " 'A 55-year-old man who suffered from blood pressure and diabetes passed away yesterday. His sample after death has tested positive for COVID19: District Magistrate, Varanasi',\n",
       " 'Grofers',\n",
       " \"Narendra Modi's Response to COVID-19 Is Like an Admonishing Parent, Not a Leader\",\n",
       " 'Guys, I have fucked up my work from home privilege and my reputation in the company',\n",
       " 'Ventilator numbers.',\n",
       " 'Fake PM CARES Links Being Used to Dupe People, Cyber Police Officials Say',\n",
       " 'Any whatsapp forwards of NASA light images of 9pm yet?',\n",
       " 'Why are people so stupid? They consider Modi the ultimate leader and still ignore instructions provided by him only',\n",
       " \"I don't know any place where I can buy sex toys in India. Can anyone help me?\",\n",
       " 'Okay, I prepared this a few days back. Rate it out of 10?',\n",
       " 'A small trial finds that hydroxychloroquine is not effective for treating coronavirus',\n",
       " 'Late Night Random Discussion Thread !',\n",
       " 'Why There is No Team Modi – Because There Can Only Be a Brand Modi [Ramachandra Guha]',\n",
       " 'Caption this',\n",
       " 'UK Officials Rubbish AYUSH Minister’s Ayurveda Claim on Prince Charles’ Recovery',\n",
       " 'I want to know basics & intermediate about drinking and smoking',\n",
       " 'Amid lockdown, two die in TN after consuming shaving lotion as an alcohol substitute',\n",
       " 'Assam: Earthquake tremors felt in Guwahati & other parts of the state.',\n",
       " \"Video of Muslim vendor's unhygienic handling of fruits falsely linked with spreading coronavirus - Alt News\",\n",
       " 'Coronavirus: VHP demands complete ban on Nizamuddin Markaz, Tablighi Jamaat | Deccan Herald',\n",
       " 'Himachal man commits suicide for social boycott over Jamaat links',\n",
       " \"Modi's appeal to light lamps turns into school-monitored activity, parents to fill 'forms'\",\n",
       " \"I've never felt so helpless, please help our family.\",\n",
       " 'Tablighi. Ankhon Dekhi.',\n",
       " 'Covinfo - Download app for Covid19 update and Spread awareness',\n",
       " 'How people purchased the crackers in lockdown?',\n",
       " 'College using our hostel rooms as isolation ward without any prior notice',\n",
       " 'Trump requests PM Modi to release Hydroxychloroquine ordered by U.S.:',\n",
       " 'A slideshow of colour photographs I made in Varanasi last year.',\n",
       " 'Drone shot from Agra people lighting crackers',\n",
       " \"My plan for 5th April, 9PM is to switch all lights on and play Bella Ciao song. What's your plan?\",\n",
       " 'We need a Git repository for emigration related guide',\n",
       " 'Today when the world sleeps India will wake stupid and dumb | Nuanced| Hindi Rap Battle',\n",
       " 'Grandmom stuck in Uttarakhand!',\n",
       " 'Two years after safeguard duty on solar cells and modules, domestic production has not picked up',\n",
       " \"[OC]Since everyone is uploading their Star Trail shots, here's mine. Foreground is The Gwalior Fort, Madhya Pradesh. 100 Exposures[Nikon D3100,4628x3092]\",\n",
       " 'Schools Claim MHRD Asks for Count of Students Lighting Diyas Today',\n",
       " 'Made this today. We don’t always agree ideologically with our government, but we all need a little light these days.',\n",
       " 'LPT: Keep your laptops, mobile phones, emergency lights, power banks fully charged, to be prepared for the worst case scenario today at 9 PM today..',\n",
       " 'Ramdas claims lighting candles will kill virus',\n",
       " 'In Search of the Goddess by Mallika Sarabhai',\n",
       " 'Contrasting Progression: In the heart of Jaipur City, barely a couple of kilometers apart, two murals yelling against one another.',\n",
       " 'Are we in lockdown or Diwali 2.0?',\n",
       " 'At Alipore zoo, Babu the chimp is unhappy with the lockdown | Kolkata News - Times of India',\n",
       " 'PM Modi speaks to Manmohan Singh, Sonia Gandhi & Pranab Mukherjee on Covid-19 concerns',\n",
       " 'Is BJP making Indians celebrate party’s founding day, Kumaraswamy asks PM Modi to explain 9 pm event',\n",
       " 'Assessing Healthcare Capacity in India',\n",
       " \"Over 26,000 in MP's Morena placed under home quarantine after 10 who attended Dubai-returned man's feast test positive\",\n",
       " 'How coronavirus disrupted Indian students’ study abroad dream.',\n",
       " \"what Amazon's vast new Hyderabad campus reveals about its plans |\",\n",
       " 'Industries shut, Ganga water quality improves',\n",
       " 'Important delivery to Kolkata (covid 19)',\n",
       " 'Tribal Beaten To Death In Madhya Pradesh, Claims Family; Police Deny',\n",
       " 'Get ready for a huge surge of Muslimophobia and Hindu nationalism after/during this lockdown',\n",
       " 'Oil prices are low, print some money, don’t think of inflation, says Abhijit Banerjee | ‘The conflict between life and livelihood is most troubling’',\n",
       " 'If you were the Indian prime minister and wanted to play a harmless prank on all 1.3 billion Indians what will you do?',\n",
       " 'Over 300 members of the Indian Institute of Management, Ahmedabad, signed a statement demanding Teltumbde’s acquittal',\n",
       " 'Allah is angry: Tablighi Jamaat Markaz chief blames sins of mankind for coronavirus',\n",
       " 'CM Uddhav Thackeray warns those trying to spark communal trouble',\n",
       " 'Why has India reacted to declining global crude prices by raising excise duties?',\n",
       " '8 Malaysians Linked To Delhi Mosque Event Caught Before Taking Special Flight',\n",
       " 'Volunteer work for charity.',\n",
       " 'Do every country have different names in their own languages?',\n",
       " 'Are there no tolerant voices among devout Hindus left anymore?',\n",
       " \"We might have entered the exponential growth stage of infection in India that is characteristic of the spread of Covid-19. Here's how.\",\n",
       " '\"We are facing a shortage of PPE kits. We have written to the Centre to supply the kits, essential for our doctors and nurses. But we haven\\'t received even one PPE kit from the Union government so far\": CM Arvind Kejriwal',\n",
       " 'Finance Ministry to issue fresh notice to NDTV following SC verdict',\n",
       " 'PM Modi,Trump Discuss Yoga And Ayurveda During Call On COVID-19',\n",
       " 'Mobile Internet To Remain At 2G Speed In J&K Till April 15 Amid COVID-19 Lockdown',\n",
       " \"Rajasthan: Doctor refuses to admit pregnant woman because she's Muslim, her child dies after delivery\",\n",
       " 'Actor Divya Bharti died at nineteen: 27 years later, her untimely death remains a mystery to many.',\n",
       " 'If you want to stay safe, donate!',\n",
       " 'T.N. man booked for making communal comments on YouTube',\n",
       " 'Taunted over coronavirus spread after Tablighi meet, Himachal man commits suicide',\n",
       " 'Do you think that once this thing is over Indians will finally learn about personal space and learn to maintain distance?',\n",
       " 'Never saw Yamuna so clean before’: Images of the river go viral amid lockdown | Trending News,The Indian Express',\n",
       " \"Why the f are banks asking me to support PM's candle lighting program?\",\n",
       " 'What will happen after April 14?',\n",
       " 'Indian COVID-19 patient zero',\n",
       " 'Man shot dead in Prayagraj for questioning Tablighi Jamaat gathering amid COVID-19 lockdown',\n",
       " 'Whats the situation in Indian IT Sector?',\n",
       " 'Made some NaMo fan art',\n",
       " \"9gag front page about PM's candle lighting initiative.\",\n",
       " \"I'm not sure if this has already been shared here as the post is almost 1.5 weeks old. But this shows what was the preparedness level two days before Janata Curfew and how authorities messed up at the IGI Airport, which probably have lead to local transmission of CoVID-19 there itself.\",\n",
       " 'Makeshift Market in Bajpe, Mangalore with social distancing.',\n",
       " 'Countries with compulsory TB vaccine BCG like India are showing fewer Covid-19 deaths',\n",
       " \"Centre's directive to schools sparks row in Tamil Nadu\",\n",
       " 'Covid-19: Dubai-returned man held feast for 1,500 in MP, now tests positive along with 11 relatives',\n",
       " \"New mysterious COVID-19 patient cluster from Delhi's Shahdara detected in Mysuru\",\n",
       " 'What is rapid antibody test for Corona that India has cleared & convalescent plasma therapy',\n",
       " '10 Islamophobic fake news articles that went viral this week',\n",
       " 'We Are Fighting Two Disasters: Covid-19 and the Indian State',\n",
       " 'Arogya Sanjeevani - Preexisting conditions/Application rejection',\n",
       " 'I took a picture of the moon this evening. [Kolkata] [Sony a6000+E55-210 f/4.5-6.3 lens] [ISO100, f/10, 1/40s, 1677x1121]',\n",
       " 'Covid-19: Govt to cut back containment ops only if no new case found for 4 weeks',\n",
       " 'India celebrating a new festival or it’s just a distraction?',\n",
       " 'Intelligence Bureau Jeopardizes Independence Of Judiciary',\n",
       " 'Our strategy is, instead of virus chasing us, we chase the virus: Health Ministry',\n",
       " 'We need to extend support and solidarity to minorities and marginalized sections of society rather than vilify them if we want them to keep coming forward to report coronavirus symptoms',\n",
       " 'Extension of lockdown beyond April 14th',\n",
       " 'Are you guys getting appraisal this year, how is your company performing?',\n",
       " 'PM Modi’s appeal on lighting lamps is BJP’s hidden agenda, says H.D. Kumaraswamy',\n",
       " \"Moody's downgrades rating outlook for ICICI, Axis and IDBI banks; puts IndusInd on watch\",\n",
       " 'Asking Help: Aggregate all help seeking tweets under common hashtags',\n",
       " 'What about the entrance exams scheduled in May?',\n",
       " 'How do i get this old and hacked FB account which belonged to my cousin down',\n",
       " 'Doubling rate of COVID- 19 infection is 4.1 days as of now',\n",
       " 'Amazon.in forcing users to setup UPI in order to donate to PMCARES and other NGOs',\n",
       " \"This Mumbai Watchman is Cycling 2,100 km to J&K's Rajouri to be With His Ailing Father\",\n",
       " \"Rant: I'm done with stupid Indians believing in everything thats said on the internet, but denying to believe factual evidence\",\n",
       " 'Confirmed COVID-19 cases in Maharashtra jump to 661',\n",
       " 'Must Read : The plight of the Indian Farmer',\n",
       " 'COVID-19: WhatsApp reduces Status video time limit to 15 seconds in India - The Hindu',\n",
       " 'Announcement for Indian Chefs',\n",
       " 'How do Poor People Deal with the Blood Sucking Terrorists Known as Mosquitos?',\n",
       " 'How well are people self isolating in your town/city/village?',\n",
       " \"Mumbai court rejects Yes Bank founder Rana Kapoor's interim bail plea\",\n",
       " \"Panchayat Review: It Takes A Village To Portray India's Flawed Governance Simply Yet Insightfully\",\n",
       " '‘Many, if not most, will eventually get infected’: Gagandeep Kang',\n",
       " 'Coronavirus: Man freed to reduce jail crowding in Maharashtra, kills woman',\n",
       " 'How to handle a national epidemic like Covid 19? India knows, says Shailaja Chandra',\n",
       " 'For 9-min lights-off today, power sector switched on high alert',\n",
       " 'Our nostalgic hero Shaktimaan Intro Animation Developed By Me (N.B. : Developed by HTML/CSS only - in case if you are a computer geek)',\n",
       " 'CoSara fails validation of Covid test kit',\n",
       " 'Freshly brewed',\n",
       " 'Shekhar Gupta: Modi and his politics of messaging',\n",
       " 'Random Daily Discussion Thread - April 05, 2020 at 09:15AM',\n",
       " 'This website shows progression of state-wise COVID-19 cases in India with time (Credits: https://livecovid.in)',\n",
       " 'People in tech, would you choose Noida or Bangalore for a job',\n",
       " \"PM Modi's 9 pm, 9 minute appeal || Drone view of Hyderabad.\",\n",
       " 'Indian parent',\n",
       " 'As someone who uses computer all the time, what chair do you use?',\n",
       " 'Bengal: One dead after two groups clash with crude bombs, guns over quarantine centre',\n",
       " \"Subramanium Swamy's Interpretation of Article 14 in the Constitution of India\",\n",
       " \"DG ICMRDELHI writes to Health Secretary requesting operationalization of 'Rapid Antibody' based blood test for COVID19, in clusters with containment zones and in large migration gatherings / evacuee centres.\",\n",
       " 'Actress Sharmila Mandre hurt as car crashes into Vasanthnagar railway bridge pillar',\n",
       " 'You are privileged if you think that the lockdown is great for the environment',\n",
       " 'The Recovered: Those who tested positive, yet battled coronavirus, and came out winning',\n",
       " \"No, the Grid won't collapse at 9 pm. Keep calm and stay safe\",\n",
       " 'Coronavirus India News Live Updates: 472 Coronavirus Cases In India, Trump Warns Americans Of Tough Week Ahead',\n",
       " \"Patient Dead as Health Staff Fail to Find Key to Locked ICU at Hospital in MP's Ujjain - News18\",\n",
       " \"[askindia] Are there any hikikomori in India? Are you one? Let's talk about this.\",\n",
       " 'My reality and the reality of a migrant worker is very different.',\n",
       " 'As coronavirus reaches rural India, three cases show the steep challenge ahead',\n",
       " 'Covid-19 update: New plan holds clues to unlocking country - india news',\n",
       " 'Is 2 years jail term enough for malignant act to spread life threatening disease? | India News - Times of India',\n",
       " 'Looking for advice !',\n",
       " 'Dear Indians please read this post about Harsh Mander, a retired civil servant, who is feeding thousands of people a day.',\n",
       " 'Coronavirus Lockdown: Odisha govt sanctions Rs 54 lakh to feed stray animals',\n",
       " 'Recruitment and sourcing in India. Need advise.',\n",
       " 'BESCOM (Bengaluru electricity) endorses 9pm 9min light out. Asserts grid is robust.',\n",
       " 'PCI advisory against AYUSH claims of curing COVID-19',\n",
       " 'Is there any decent place online to chat with random strangers from different parts of world?',\n",
       " 'BCG pre-immunity, early lockdown &amp; exposure to bacterial infections may slow Covid spread in India',\n",
       " 'Lighting lamps on Sunday will kill COVID-19 virus due to heat: Karnataka BJP MLA',\n",
       " 'It was 1974 total strike of Railways that first showed India what life was without trains',\n",
       " 'Milk Express running at 110 kmph to reach Delhi from Andhra tomorrow.',\n",
       " 'Indians are fighting against coronavirus and BJP IT cell is fighting against Indians',\n",
       " \"If all lights are switched off at once it might lead to failure of grid. All our emergency services will fail&it might take a week's time to restore power.I would appeal to the public to light candles&lamps without switching off lights:Nitin Raut,Maharashtra Energy Minister\",\n",
       " 'What can we do to put an end to Northeast Indian discrimination across India during COVID-19?',\n",
       " 'Serious question regarding Covid-19 plan of action and fund expenditure.',\n",
       " 'Shah Rukh Khan gives four-storied office space for quarantine purpose',\n",
       " 'How to handle a national epidemic like Covid 19? India knows, says Shailaja Chandra',\n",
       " 'Do the Opposite of what is asked and save the electric grid.',\n",
       " 'Pitting a community against a political party is fucking stupid.',\n",
       " 'Dharavi man who died hosted 10 Tablighi Jamaat members. The members are said to have left for Kerala; while a doctor tested positive in Dharavi, a Worli Koliwada activist died on Thursday night.',\n",
       " \"Delhi Police constable suspended for helping 8 Tablighi Jamati's cross border\",\n",
       " '‘Muslims Are Foreigners’: Inside India’s Campaign to Decide Who Is a Citizen',\n",
       " 'Donald Trump Requests PM Narendra Modi To Release Hydroxychloroquine Anti-Malarial Drug To Fight COVID-19',\n",
       " 'Delhi Dy CM Manish Sisodia demands funds from Centre to combat coronavirus outbreak',\n",
       " 'COVID-19: Orders for over 10 crore anti-malarial hydroxychloroquine tablets placed by Centre | India News - Times of India',\n",
       " 'The travails of those who ensure food reaches our tables in Covid-19 times',\n",
       " 'COVID -19 Testing, treatment now available for free under Ayushman Bharat Scheme',\n",
       " 'Star trailing, location - udaipur, iso - 1600 , shutter speed - 8, combination of 288 photos',\n",
       " 'Around 75% of Coronavirus Patients in India are in Working-age Population of 21-60 Years - News18',\n",
       " \"How India's fighting Covid-19 with low-cost ventilators, face shields\",\n",
       " 'India coronavirus response visible by google.',\n",
       " 'Don’t treat Tablighi Jamaat delegates, shoot them for defying lockdown: Raj Thackeray - The Week',\n",
       " 'Don’t use alcohol-based sanitisers before lighting lamps on Sunday, officials warn.',\n",
       " 'Maharashtra CM spotlights communal virus, then a warning on Covid-19 messages',\n",
       " 'NRO Kotak account and PayPayl.',\n",
       " 'Isolation and mental health: the psychological impact of lockdown',\n",
       " 'Modi’s Call to Switch Off Lights En Masse Set to Cause Blackouts',\n",
       " '\"Proud Of You\": Pakistan Air Traffic Controller To Air India\\'s COVID-19 Relief Flights',\n",
       " 'Cops attacked for objecting to mosque crowds in UP towns | Agra News - Times of India',\n",
       " 'A quick tip: Keep your phones/ laptops charged to 100 percent before 9 PM on Sunday.',\n",
       " 'How far away is India from the peak for Covid-19 cases and deaths based on the data being collected so far?',\n",
       " 'Data suggests that India may not lift Coronavirus lockdown restrictions until September',\n",
       " \"Doctors say India must prepare for an 'onslaught' as one of Asia's biggest slums reports first coronavirus death\",\n",
       " 'Do you know any Free E-book for Android APP development',\n",
       " \"Kanika Kapoor's latest test results for COVID-19 come negative but singer may not get home immediately\",\n",
       " 'Lockdown Badly Planned, Here’s What Migrant Workers Need: IIM Prof.',\n",
       " '83% of Covid-19 patients in India are aged below 60 yrs',\n",
       " 'Keep your lights on as civil disobedience on 5th April at 9pm',\n",
       " 'DC Design Reimagines Hindustan Ambassador As An Electric Vehicle',\n",
       " \"India's internet shutdown laws must be reformed!\",\n",
       " 'Found these gems from my childhood. Shout-out to Gotham Comics India for providing Marvel, DC and many more comics at such a cheap rate.',\n",
       " 'Madhya Pradesh Man Who Threw A Feast For 1,500 Tests Coronavirus+',\n",
       " 'Age and gender distribution statistics for COVID-19 patients in India',\n",
       " 'Video of Sufi ritual falsely viral as mass sneezing in Nizamuddin mosque to spread coronavirus infection - Alt News',\n",
       " 'No answers, no access, no accountability: Journalists struggle to get information from the government as Covid-19 crisis worsens',\n",
       " 'India Coronavirus cases: 1,023 Covid-19 cases with links to Tablighi Jamaat reported from 17 states: Govt | India News - Times of India',\n",
       " 'Global Implications Of COVID-19: Fareed Zakaria In Conversation With Rahul Kanwal | Newstrack',\n",
       " 'How Karnataka tackled a pandemic in the 19th century',\n",
       " 'Looking information about a caste or tribe ‘Changar’',\n",
       " \"Don't know if I want to move to India or not.\",\n",
       " \"Coronavirus: 'Why is the government so stingy?'\",\n",
       " 'Circular from Ministry regarding switching off lights.',\n",
       " 'Fears of grid failure due to Sunday blackout misplaced: Power ministry | India News - Times of India',\n",
       " '\"One More Thing PM Didn\\'t Think About,\" Shashi Tharoor Hits Out',\n",
       " 'This post is going viral to defend the government in not preparing us for the CoVID-19 situation. I thought I will respond to that with some facts.',\n",
       " 'Two without symptoms test positive for COVID-19 in Kerala',\n",
       " 'Poke fun at taali, thaali, diya and mombatti all you want. Modi couldn’t care less',\n",
       " 'I analyzed the COVID-19 data from India. Data source: Johns Hopkins University github repository. Look how scary the graph looks, and how well the existing data points fit on it!',\n",
       " 'Mumbai has most cases as we’ve tested 10,000; Kerala tested 8,000: BMC chief',\n",
       " '108 Staff Of Delhi Hospital Quarantined For Exposure To COVID-19 Patients',\n",
       " 'Gujarat sees increased demand for cow urine amid COVID-19 scare',\n",
       " 'Comic: Monkey wisdom COVID version',\n",
       " 'BJP chief Nadda cautions party leaders: Don’t give corona a communal twist',\n",
       " 'ICMR Testing Update - 4th April 9PM - 11,182 samples tested in the last 24 hours.',\n",
       " 'So this happened with my food delivery',\n",
       " \"Tablighi Jamaat has ruptured India's Coronavirus shield | India Coronavirus\",\n",
       " 'Testing Update 3rd April: 10,034 tests were day in 24 hours. Testing has finally been ramped up.',\n",
       " 'which mobile network is best in India?',\n",
       " 'Mobile phones to cost more as GST hiked to 18% from 12% earlier',\n",
       " 'Punjab Government announces Rs 50 lakh insurance cover for policemen and sanitation workers.',\n",
       " 'H1b petition to White House',\n",
       " 'IIT Hyderabad CfHE-Incubated Startup Develops Low-Cost Ventilator',\n",
       " 'I want to escape from home , what all should I take with me ?',\n",
       " 'Ruled by decree – Sankarshan Thakur',\n",
       " \"The Finance Ministry approves Rs 375 Crores for 'Mahakumbh' in Uttarakhand's Haridwar in 2021.\",\n",
       " 'Tablighi Jamaat versus Arnab Goswami: TV Newsance Episode 84',\n",
       " 'Late Night Random Discussion Thread !',\n",
       " 'Here are few digitized antique books from personal library of Attorney General K K Venugopal',\n",
       " 'Anxious',\n",
       " 'Look for content writers.',\n",
       " \"[Request] (New Delhi/NCR) What do you think of OLA/UBER companies and drivers? Perhaps you don't use them. Please take my short 3min survey for a girl in need of help in her research project!\",\n",
       " 'Trump requests PM Modi to release Hydroxychloroquine ordered by U.S.',\n",
       " 'Some positive news for you all (PM2.5 Data from the US Embassy at New Delhi).',\n",
       " \"Opinion: What's the point of being religious if it doesn't rid you of basic human vices?\",\n",
       " 'COVID-19 testing, treatment to be free of cost for Ayushman Bharat beneficiaries at pvt labs, empanelled hospitals: Govt',\n",
       " 'Coronavirus: Here’s how India is planning to unwind 21-day lockdown',\n",
       " \"As Chorus of 'Chinese Virus' Rings Loudly in India, Is the Stage Set For an Info-Ops Tussle?\",\n",
       " '54,000 residents placed under Home Quarantine in Surat after laundry service owner tests positive. The authorities have also sanitised the entire Rander zone in Surat, which includes 12 hospitals, 23 mosques, 22 main roads and 82 internal roads.',\n",
       " 'I made a command line app to get Covid-19 updates for India in your terminal.',\n",
       " 'We would have gone into a recession regardless of a virus (PART RANT)',\n",
       " \"India's first weekly newsletter on rural, environment, and health reportage.\",\n",
       " '‘It could be the greatest tragedy we have faced’ – India’s impending double catastrophe',\n",
       " \"US seeks India's help amid coronavirus outbreak | World News\",\n",
       " 'Punjab and Haryana stare at massive farm crisis as lockdown leads to labour shortage',\n",
       " \"SDRMF: Maharashtra Gets Lion's Share at Rs 1,611 crore, Kerala a Paltry Rs 157 Crore\",\n",
       " 'A Mother & Her Daughters Walk 475km to Their Home in Kanpur Amidst the Coronavirus Lockdown',\n",
       " \"I am Depressed , Helpless , dont know what to do please Guide me and give me some Advice's , Please Help Me !\",\n",
       " \"Apparently it's the traffic police's job to enforce Modiji's jingoism too\",\n",
       " 'India seeks $6 billion dollars of loans to fight COVID-19 | Deccan Herald',\n",
       " '‘We are fighting not only epidemic but also infodemic’',\n",
       " \"Isn't it actually possible that the fascists have an on-ground presence to specifically target houses that aren't taking part in the stupidity that starts in 5 minutes?\",\n",
       " 'People of r/India, what is the situation in your company regarding layoffs and salary cuts because of the pandemic?',\n",
       " 'Govt places order for 10 crore hydroxychloroquine tablets with Ipca labs and Zydus Cadila',\n",
       " 'How bout quad-nation aircraft carrier for IOC',\n",
       " '#docsneedgear Proposal for a Twitter storm tomorrow at 9pm',\n",
       " 'How good are the fire departments in India?',\n",
       " 'The Air Is So Clean Now That A Mountain Range In Himachal Pradesh Is Visible From Jalandhar',\n",
       " 'Same news different views.',\n",
       " 'Assam to treat serious COVID patients of Arunachal: Health Minister Alo Libang',\n",
       " 'My new quarantine recipe...',\n",
       " 'This video is perhaps the first investigative journalism-style video I\\'ve attempted. Titled \"PCOS, Sexual Diseases, Diabetes, and Thyroid Disorders: Role of Packet Milk Exposed\" the video critically examine the hidden link between consumption of milk in plastic polybags and development of PCOS',\n",
       " 'When you have to cook and clean all by yourself! (Peel Onions, make the dough, clean dishes)',\n",
       " 'I’m a citizen of the Republic of India, not a clown to perform to the tune of the ringmaster!',\n",
       " 'No, Ayurveda did not cure Prince Charles of Covid-19, office denies claims of AYUSH minister',\n",
       " 'Scenic Drone Shoot of Mumbai during Coronavirus Lockdown | Mumbai Live',\n",
       " 'Ex-IMA chief KK Aggarwal invokes pseudoscience to justify Narendra Modi’s call to light lamps',\n",
       " 'COVID-19 effect: Air India suspends contract of around 200 pilots',\n",
       " 'Dharavi’s Covid-19 Deceased Man Hosted 10 Tablighi Jamaat Members: Report',\n",
       " 'UP: 22-Year-Old Dies by Suicide After Being Thrashed by Cop for Violating Quarantine',\n",
       " \"Indian power grid operators scramble to prepare for Modi's 'lights off' plan\",\n",
       " 'Already rampant communal virus in India is gleefully piggy-back riding on coronavirus',\n",
       " 'Grettings from Sweden! Im looking for someone to translate a short audioclip in what i believe is Bengali',\n",
       " 'Good Samaritan: Coimbatore auto driver takes distressed for free ride',\n",
       " 'Is 10x academy coding boot camp reliable?',\n",
       " 'Have you ever met someone IRL who was completely different than what he/she is on social media?',\n",
       " 'Request / Need some help in Delhi - NCR with respect to traveling (Please read the entirety of the post)',\n",
       " 'Quarantined people in Karnataka must send hourly selfies to government through app',\n",
       " 'Tablighi Jamaat member dies in Villupuram hospital | Chennai News - Times of India',\n",
       " 'How are you guys dealing with the rent of your office/shop?',\n",
       " 'Once Lockdown gets over will you be comfortable going to a movie theater and other crowded place?',\n",
       " 'We are facing one of the most challenging times in human history. We are facing one of the most severe medical crises since WW1 which will have economic effects that may rival or exceed the great depression. In such a time there is global deffecit of leadership from Modi in India to Trump in America',\n",
       " 'Air india shuts booking for domestic and international flights till 30 april',\n",
       " 'Covid-19 lockdown | Rise in domestic violence, police apathy: NCW',\n",
       " \"Efforts began at Tablighi Jamaat event in Delhi to spread #coronavirus throughout the country. Most of the attendees of that event are untraceable. There seems to be 'corona Jihadi plan' behind that meeting: BJP MP Shobha Karandlaje in Chikmagalur, Karnataka\",\n",
       " 'Looking for a Music Cassette',\n",
       " 'Govt Steps Up Surveillance on Medical Workers',\n",
       " '16-year-old in Chhattisgarh tests positive for coronavirus, total tally at 10',\n",
       " 'How India can increase the production of Personal Protective Equipment(PPE) for doctors in this fight against Covid-19?',\n",
       " 'What If Everyone Turned off Their Lights at the Same Time?',\n",
       " \"Cyber chief's warning as hackers target PM's Covid fund\",\n",
       " 'IF gaumutra (cow piss) is said to be beneficial against several ailments caused by range of bacteria and viruses, how many medicines have been derived from it and approved anywhere in world?',\n",
       " \"Uttar Pradesh: Woman having extramarital affair with cousin slits husband's throat\",\n",
       " \"During lockdown, Uttarakhand CM (on Amit Shah's orders) arranged 28 buses to transport 1800 Gujarati devotees stranded in Haridwar back to Ahmedabad. Uttarakhand workers in Ahmedabad were then duped of Rs. 18000 and stranded midway when they tried to use these buses to return home.\",\n",
       " 'Project Janata Shield: community led initiative to provide protective equipment for all front-line workers having no equipment in the COVID-19 outbreak',\n",
       " 'MP: 26k in home quarantine in Morena after 12 COVID-19 cases',\n",
       " 'Do you think Lockdown will be open after April 15?',\n",
       " 'Kannur district in Kerala too tightens vigil along Kasargod borders',\n",
       " 'Banks are going to become a hotbed for Corona Virus Infection. Situation will be more fatal than that of any religious gatherings.',\n",
       " 'I repeat.',\n",
       " 'Google made a site with stored data of mobility changes in different regions,Here is the data of our country. Link to the official website:- https://www.google.com/covid19/mobility/',\n",
       " 'BMC in Mumbai has identified Containment Zones with Live Maps for Covid-19 affected Zones.',\n",
       " 'Covid19 Crisis: Govt Launches Arogya Setu App , Experts Flag Privacy Concerns',\n",
       " \"Found this while scrolling through book of 'You Said It by RK Laxman'\",\n",
       " 'Finance Ministry to issue fresh notice to NDTV following SC verdict',\n",
       " 'Did google translate well?',\n",
       " 'In Supreme Court, NDTV Wins Major Case That Alleged Money-Laundering',\n",
       " 'Tribal People Try Coffee For The First Time',\n",
       " 'A Cluster Of Coronavirus Cases Can Be Traced Back To A Single Mosque And Now 200 Million Muslims Are Being Vilified',\n",
       " 'Google Mobility Report on changes in human mobility patterns since the lockdown in India',\n",
       " 'Lifting of lockdown depends on compliance to norms: Maha CM | India News - Times of India',\n",
       " 'Misinformed Indians are abandoning their pets for fear of contracting coronavirus',\n",
       " 'Delhi hospital staff come in contact with 2 Covid-19 patients, 108 quarantined',\n",
       " \"India is on the same trajectory as some of the worst hit countries (US, UK, Spain, Italy, France). This isn't over yet. #staysafestayhome\",\n",
       " 'Thenks BigBasket.',\n",
       " 'Taali Bajao! Thaali Bajao! Diya Jalao! Torch lagao!',\n",
       " \"Why lighting up the candles is a bad idea and the harm it's going to cause\",\n",
       " 'Should Everyone Wear Face Mask',\n",
       " 'Why is there concern that the 9 pm lights-out could impact India’s electricity grid?',\n",
       " \"Because of Covid-19, alcohol isn't available. So, how do you deal with family members who are alcoholic?\",\n",
       " 'Coronavirus India lockdown Day 11 live updates | Over 3,100 confirmed cases reported as death toll touches 94:',\n",
       " 'Serious question. Is there any online store where I can get a new pair of underwear.',\n",
       " 'The world after Covid-19: Unless we are alert, the pandemic could become the last nail in individualism’s coffin',\n",
       " 'What has been you worst food/meal experience when travelling within India?',\n",
       " \"Tamil Nadu Records 102 New Coronavirus Cases, 100 of Them Took Part in Tablighi Jamaat's Delhi Meet\",\n",
       " 'Tablighi Jamaat members undergoing treatment not cooperating: Doctors to Delhi govt',\n",
       " 'International shipping of homepods',\n",
       " 'Call to consolidated action',\n",
       " 'CORONAVIRUS: India should Prepare for the Worst',\n",
       " 'Seriously? Aarogya Setu on Lineage(not rooted)',\n",
       " 'PM Modi’s 9 pm, 9 minute appeal: staggered load shedding in U.P. on April 5',\n",
       " 'We Lost 5 Weeks Due to Delayed Govt Response: PPE Manufacturers',\n",
       " 'Online repayment of Home loan for IDBI',\n",
       " \"India’s Mahindra scraps Korea's SsangYong investment plan due to COVID-19 crisis\",\n",
       " 'Could lockdown be lifted partially in certain states?',\n",
       " '‘Next we’ll have a rangoli contest’: Modi’s candle-lighting plan invites jokes and anger',\n",
       " \"Coronavirus India: Amid COVID-19 Worry, Government's DIY Steps For Homemade Masks For All\",\n",
       " 'Explained | Here’s how our power system will be managed during lights-out',\n",
       " 'Help in creating a treasure hunt/ crypt solve game online',\n",
       " 'HIV Researcher Gita Ramjee Dies of Complications Tied to COVID-19',\n",
       " 'Today is the 106th birth anniversary of The Man, The Myth, The Legend of Indian Military - Field Marshall Sam Maneskshaw',\n",
       " 'Why do stray dogs bark at pet dogs ?',\n",
       " 'Small Business Owbers & Shopkeepers of r/india: How are you guys coping the lockdown and have you made any arrangement with your landlord regarding the shop rent?',\n",
       " 'Taglibhi Jamat vs Angry Arnab : TV Newsance',\n",
       " 'Explained: Grid challenges to the Sunday night blackout plan',\n",
       " '‘Don’t be revolutionaries’: Doctors protesting coronavirus safety gear shortage warned by hospitals',\n",
       " 'green woven fabric walls?',\n",
       " \"The 9 P.M clapping isn't a mere display of histrionics. There's more to it.\",\n",
       " 'Aligarh: Stones pelted at police after they stop people from offering namaz in group at mosque',\n",
       " 'Prime Time, April 03, 2020 | Doctors From US, UK Speak To Ravish Kumar About COVID-19',\n",
       " 'Musings of a bored quarantined doctor.',\n",
       " 'Random Daily Discussion Thread - April 04, 2020 at 09:15AM',\n",
       " 'Just binge watched Panchayat series',\n",
       " 'Centre Backtracks, Amends Domicile Order to Reserve Govt Jobs in J&K for Residents',\n",
       " '1800 pilgrims from Gujarat stranded in Haridwar return in 28 luxury buses amid lockdown',\n",
       " 'Centre credits Rs 500 each to over 4.07 crore women Jan Dhan account holders',\n",
       " 'Shut Up Ya Kunal - Episode 17 : Tejasvi Surya',\n",
       " 'Subramanian Swamy at it again.',\n",
       " 'Now more work to Powermen. Due to PM Modi’s call for switching off of lights for 9 mins on April 5, load is expected to have a steep fall at 9 PM & a steep rise around 9.09 PM. To keep Power Grid safe, load shedding in staggered manner from 8-9 PM is advised. Men on standby.',\n",
       " 'Switching off lights might affect power grid, says Nitin Raut',\n",
       " 'Air India Stops Bookings Till April 30',\n",
       " 'Why twitter trendings are mostly spam work in India?',\n",
       " 'Centre’s new domicile rules give lie to its promise of restoring democratic processes in J&K']"
      ]
     },
     "execution_count": 14,
     "metadata": {},
     "output_type": "execute_result"
    }
   ],
   "source": [
    "title_sents=[]\n",
    "for i in range(train.shape[0]):\n",
    "    title_sents.append(train.loc[i,'Title'])\n",
    "    \n",
    "        \n",
    "title_sents"
   ]
  },
  {
   "cell_type": "code",
   "execution_count": 15,
   "metadata": {},
   "outputs": [],
   "source": [
    "import torch\n",
    "import torch.nn as nn\n",
    "import torch.optim as optim\n",
    "import torchtext\n",
    "\n",
    "import spacy"
   ]
  },
  {
   "cell_type": "code",
   "execution_count": 17,
   "metadata": {
    "scrolled": true
   },
   "outputs": [
    {
     "data": {
      "text/plain": [
       "['!',\n",
       " '\"',\n",
       " '#',\n",
       " '$',\n",
       " '%',\n",
       " '&',\n",
       " \"'\",\n",
       " '(',\n",
       " ')',\n",
       " '*',\n",
       " '+',\n",
       " ',',\n",
       " '-',\n",
       " '.',\n",
       " '/',\n",
       " ':',\n",
       " ';',\n",
       " '<',\n",
       " '=',\n",
       " '>',\n",
       " '@',\n",
       " '[',\n",
       " '\\\\',\n",
       " ']',\n",
       " '^',\n",
       " '_',\n",
       " '`',\n",
       " '{',\n",
       " '|',\n",
       " '}',\n",
       " '~']"
      ]
     },
     "execution_count": 17,
     "metadata": {},
     "output_type": "execute_result"
    }
   ],
   "source": [
    "##CustomPunctuation with ?\n",
    "import string\n",
    "k=string.punctuation\n",
    "\n",
    "punct=[]\n",
    "for i in range(len(k)):\n",
    "    if(k[i]=='?'):\n",
    "        continue\n",
    "    else: \n",
    "        punct.append(k[i])\n",
    "    \n",
    "punct"
   ]
  },
  {
   "cell_type": "code",
   "execution_count": 18,
   "metadata": {},
   "outputs": [],
   "source": [
    "##This is the final working Tokenizer\n",
    "\n",
    "spacy_eng=spacy.load('en')\n",
    "nlp=spacy.load(\"en_core_web_sm\")\n",
    "def tokenize_eng(text):\n",
    "    sent=[]\n",
    "    lema=nlp(text)\n",
    "    for tok in spacy_eng.tokenizer(text):\n",
    "        \n",
    "        word=tok.lemma_\n",
    "        #word=tok.text\n",
    "        \n",
    "        if word not in punct:\n",
    "            sent.append(word)\n",
    "    \n",
    "    return sent"
   ]
  },
  {
   "cell_type": "code",
   "execution_count": 20,
   "metadata": {},
   "outputs": [],
   "source": [
    "nlp=spacy.load(\"en_core_web_sm\")\n",
    "#text=nlp(sents[0])\n",
    "#print(sents)\n",
    "\n",
    "for sent in title_sents:\n",
    "    sent=tokenize_eng(sent)"
   ]
  },
  {
   "cell_type": "code",
   "execution_count": 24,
   "metadata": {},
   "outputs": [
    {
     "data": {
      "text/plain": [
       "'Coronavirus (COVID-19) Megathread - News and Updates - 3'"
      ]
     },
     "execution_count": 24,
     "metadata": {},
     "output_type": "execute_result"
    }
   ],
   "source": [
    "title_sents[0]"
   ]
  },
  {
   "cell_type": "code",
   "execution_count": 50,
   "metadata": {},
   "outputs": [],
   "source": [
    "from torchtext.data import Field\n",
    "\n",
    "\n",
    "TEXT=Field(sequential=True,tokenize=tokenize_eng,lower=True,batch_first=True)\n",
    "LABEL=Field(sequential=False,use_vocab=False,batch_first=True)"
   ]
  },
  {
   "cell_type": "code",
   "execution_count": 51,
   "metadata": {},
   "outputs": [],
   "source": [
    "from torchtext.data import TabularDataset\n",
    "\n",
    "tv_field=[\n",
    "         ('idx',None),\n",
    "         ('Title',TEXT),\n",
    "         ('Score',None),\n",
    "         ('ID',None),\n",
    "         ('Image',None),\n",
    "         ('Num_Comments',None),\n",
    "         ('Created',None),\n",
    "         ('Body',None),\n",
    "         ('Label1Coronovirus',LABEL),\n",
    "         ('Label2Politics',LABEL),\n",
    "         ('Label3Non-Political',LABEL),\n",
    "         ('Label4None',LABEL),\n",
    "         ('Label5Repost',LABEL),\n",
    "         ('Label6Unverified',LABEL),\n",
    "         ('Label6Policy/Economy',LABEL),\n",
    "         ('Label7Photography',LABEL),\n",
    "         ('Label8Buisness/Finance',LABEL),\n",
    "         ('Label9AskIndia',LABEL),\n",
    "         ('Label10Scheduled',LABEL),\n",
    "         ('Label11Stickied-Topic',LABEL),\n",
    "         ('Label12Unverified-Content',LABEL),\n",
    "         ('Label13Science/Technology',LABEL),\n",
    "         ('Label14Food',LABEL),\n",
    "         ('Label15Not Original',LABEL),\n",
    "         ('Label16Social Media',LABEL),\n",
    "         ('Label17CAA/NRC',LABEL),\n",
    "         ('Label18Megathread',LABEL),\n",
    "         ('Label19Unk',LABEL)]\n",
    "         "
   ]
  },
  {
   "cell_type": "code",
   "execution_count": 52,
   "metadata": {},
   "outputs": [],
   "source": [
    "train=TabularDataset(path='Dataset.csv',\n",
    "                    format='csv',\n",
    "                    skip_header=True,\n",
    "                    fields=tv_field)"
   ]
  },
  {
   "cell_type": "code",
   "execution_count": 53,
   "metadata": {},
   "outputs": [
    {
     "name": "stdout",
     "output_type": "stream",
     "text": [
      "dict_keys(['Title', 'Label1Coronovirus', 'Label2Politics', 'Label3Non-Political', 'Label4None', 'Label5Repost', 'Label6Unverified', 'Label6Policy/Economy', 'Label7Photography', 'Label8Buisness/Finance', 'Label9AskIndia', 'Label10Scheduled', 'Label11Stickied-Topic', 'Label12Unverified-Content', 'Label13Science/Technology', 'Label14Food', 'Label15Not Original', 'Label16Social Media', 'Label17CAA/NRC', 'Label18Megathread', 'Label19Unk'])\n"
     ]
    }
   ],
   "source": [
    "print(train[0].__dict__.keys())"
   ]
  },
  {
   "cell_type": "code",
   "execution_count": 54,
   "metadata": {},
   "outputs": [
    {
     "name": "stdout",
     "output_type": "stream",
     "text": [
      "1 0\n"
     ]
    }
   ],
   "source": [
    "train[0].Title\n",
    "print(train[0].Label1Coronovirus,train[0].Label2Politics)"
   ]
  },
  {
   "cell_type": "code",
   "execution_count": 55,
   "metadata": {},
   "outputs": [],
   "source": [
    "TEXT.build_vocab(train,min_freq=1)"
   ]
  },
  {
   "cell_type": "code",
   "execution_count": 56,
   "metadata": {},
   "outputs": [
    {
     "name": "stderr",
     "output_type": "stream",
     "text": [
      "The `device` argument should be set by using `torch.device` or passing a string as an argument. This behavior will be deprecated soon and currently defaults to cpu.\n"
     ]
    }
   ],
   "source": [
    "from torchtext.data import Iterator, BucketIterator\n",
    "\n",
    "train_iterator=BucketIterator(train,\n",
    "                             batch_size=32,\n",
    "                             device=-1,\n",
    "                             sort_key=lambda x:len(x.Title),\n",
    "                             sort_within_batch=False,\n",
    "                             repeat=False)\n",
    "\n"
   ]
  },
  {
   "cell_type": "code",
   "execution_count": 60,
   "metadata": {},
   "outputs": [
    {
     "name": "stdout",
     "output_type": "stream",
     "text": [
      "torch.Size([32, 43])\n",
      "torch.Size([32])\n"
     ]
    }
   ],
   "source": [
    "for example in enumerate(train_iterator):\n",
    "    print(example[1].Title.shape)\n",
    "    print(example[1].Label1Coronovirus.shape)\n",
    "    break"
   ]
  },
  {
   "cell_type": "code",
   "execution_count": 61,
   "metadata": {},
   "outputs": [
    {
     "data": {
      "text/plain": [
       "['medical',\n",
       " 'worker',\n",
       " 'be',\n",
       " 'target',\n",
       " 'for',\n",
       " 'raise',\n",
       " 'issue',\n",
       " 'of',\n",
       " 'protective',\n",
       " 'gear',\n",
       " 'say',\n",
       " 'aiims',\n",
       " 'rda']"
      ]
     },
     "execution_count": 61,
     "metadata": {},
     "output_type": "execute_result"
    }
   ],
   "source": [
    "train[100].Title"
   ]
  },
  {
   "cell_type": "code",
   "execution_count": 90,
   "metadata": {},
   "outputs": [
    {
     "name": "stdout",
     "output_type": "stream",
     "text": [
      "['Label1Coronovirus', 'Label2Politics', 'Label3Non-Political', 'Label4None', 'Label5Repost', 'Label6Unverified', 'Label6Policy/Economy', 'Label7Photography', 'Label8Buisness/Finance', 'Label9AskIndia', 'Label10Scheduled', 'Label11Stickied-Topic', 'Label12Unverified-Content', 'Label13Science/Technology', 'Label14Food', 'Label15Not Original', 'Label16Social Media', 'Label17CAA/NRC', 'Label18Megathread', 'Label19Unk']\n"
     ]
    }
   ],
   "source": [
    "a=list(train[0].__dict__.keys())\n",
    "labels=a[1:]\n",
    "print(labels)"
   ]
  },
  {
   "cell_type": "code",
   "execution_count": 98,
   "metadata": {},
   "outputs": [],
   "source": [
    "\n",
    "class BatchWrapper:\n",
    "    def __init__(self,dat,x_var,*y_vars):\n",
    "        self.dat=dat\n",
    "        self.x_vars=x_var\n",
    "        self.y_vars=y_vars\n",
    "        \n",
    "    def __iter__(self):\n",
    "        for batch in self.dat:\n",
    "            x=getattr(batch,self.x_vars)\n",
    "            y=torch.cat([getattr(batch,y).unsqueeze(1) for y in self.y_vars[0]],dim=1).float()\n",
    "            \n",
    "            yield(x,y)\n",
    "\n",
    "    def __len__(self):\n",
    "        return len(self.dat)\n",
    "        \n",
    "train_dat=BatchWrapper(train_iterator,'Title',labels)"
   ]
  },
  {
   "cell_type": "code",
   "execution_count": 99,
   "metadata": {
    "collapsed": true
   },
   "outputs": [
    {
     "data": {
      "text/plain": [
       "(tensor([[ 912, 1991,    3,  ...,    1,    1,    1],\n",
       "         [  57,  897,   13,  ...,    1,    1,    1],\n",
       "         [ 293,   25,   91,  ...,    1,    1,    1],\n",
       "         ...,\n",
       "         [ 500,    5,  596,  ...,    1,    1,    1],\n",
       "         [  26,    6, 1534,  ...,    1,    1,    1],\n",
       "         [1742,    4, 1215,  ...,    1,    1,    1]]),\n",
       " tensor([[1., 0., 0., 0., 0., 0., 0., 0., 0., 0., 0., 0., 0., 0., 0., 0., 0., 0.,\n",
       "          0., 0.],\n",
       "         [1., 0., 0., 0., 0., 0., 0., 0., 0., 0., 0., 0., 0., 0., 0., 0., 0., 0.,\n",
       "          0., 0.],\n",
       "         [1., 0., 0., 0., 0., 0., 0., 0., 0., 0., 0., 0., 0., 0., 0., 0., 0., 0.,\n",
       "          0., 0.],\n",
       "         [1., 0., 0., 0., 0., 0., 0., 0., 0., 0., 0., 0., 0., 0., 0., 0., 0., 0.,\n",
       "          0., 0.],\n",
       "         [0., 1., 0., 0., 0., 0., 0., 0., 0., 0., 0., 0., 0., 0., 0., 0., 0., 0.,\n",
       "          0., 0.],\n",
       "         [1., 0., 0., 0., 0., 0., 0., 0., 0., 0., 0., 0., 0., 0., 0., 0., 0., 0.,\n",
       "          0., 0.],\n",
       "         [0., 0., 0., 0., 0., 0., 0., 0., 0., 1., 0., 0., 0., 0., 0., 0., 0., 0.,\n",
       "          0., 0.],\n",
       "         [0., 0., 1., 0., 0., 0., 0., 0., 0., 0., 0., 0., 0., 0., 0., 0., 0., 0.,\n",
       "          0., 0.],\n",
       "         [1., 0., 0., 0., 0., 0., 0., 0., 0., 0., 0., 0., 0., 0., 0., 0., 0., 0.,\n",
       "          0., 0.],\n",
       "         [1., 0., 0., 0., 0., 0., 0., 0., 0., 0., 0., 0., 0., 0., 0., 0., 0., 0.,\n",
       "          0., 0.],\n",
       "         [0., 0., 0., 0., 0., 0., 0., 0., 0., 0., 0., 0., 0., 1., 0., 0., 0., 0.,\n",
       "          0., 0.],\n",
       "         [1., 0., 0., 0., 0., 0., 0., 0., 0., 0., 0., 0., 0., 0., 0., 0., 0., 0.,\n",
       "          0., 0.],\n",
       "         [0., 1., 0., 0., 0., 0., 0., 0., 0., 0., 0., 0., 0., 0., 0., 0., 0., 0.,\n",
       "          0., 0.],\n",
       "         [0., 0., 0., 0., 0., 0., 0., 0., 1., 0., 0., 0., 0., 0., 0., 0., 0., 0.,\n",
       "          0., 0.],\n",
       "         [1., 0., 0., 0., 0., 0., 0., 0., 0., 0., 0., 0., 0., 0., 0., 0., 0., 0.,\n",
       "          0., 0.],\n",
       "         [0., 1., 0., 0., 0., 0., 0., 0., 0., 0., 0., 0., 0., 0., 0., 0., 0., 0.,\n",
       "          0., 0.],\n",
       "         [0., 0., 0., 0., 0., 0., 0., 0., 0., 0., 0., 0., 0., 0., 1., 0., 0., 0.,\n",
       "          0., 0.],\n",
       "         [1., 0., 0., 0., 0., 0., 0., 0., 0., 0., 0., 0., 0., 0., 0., 0., 0., 0.,\n",
       "          0., 0.],\n",
       "         [1., 0., 0., 0., 0., 0., 0., 0., 0., 0., 0., 0., 0., 0., 0., 0., 0., 0.,\n",
       "          0., 0.],\n",
       "         [1., 0., 0., 0., 0., 0., 0., 0., 0., 0., 0., 0., 0., 0., 0., 0., 0., 0.,\n",
       "          0., 0.],\n",
       "         [1., 0., 0., 0., 0., 0., 0., 0., 0., 0., 0., 0., 0., 0., 0., 0., 0., 0.,\n",
       "          0., 0.],\n",
       "         [1., 0., 0., 0., 0., 0., 0., 0., 0., 0., 0., 0., 0., 0., 0., 0., 0., 0.,\n",
       "          0., 0.],\n",
       "         [0., 0., 0., 0., 0., 0., 0., 0., 0., 1., 0., 0., 0., 0., 0., 0., 0., 0.,\n",
       "          0., 0.],\n",
       "         [0., 0., 1., 0., 0., 0., 0., 0., 0., 0., 0., 0., 0., 0., 0., 0., 0., 0.,\n",
       "          0., 0.],\n",
       "         [0., 0., 1., 0., 0., 0., 0., 0., 0., 0., 0., 0., 0., 0., 0., 0., 0., 0.,\n",
       "          0., 0.],\n",
       "         [0., 0., 0., 0., 0., 0., 0., 1., 0., 0., 0., 0., 0., 0., 0., 0., 0., 0.,\n",
       "          0., 0.],\n",
       "         [1., 0., 0., 0., 0., 0., 0., 0., 0., 0., 0., 0., 0., 0., 0., 0., 0., 0.,\n",
       "          0., 0.],\n",
       "         [0., 0., 0., 0., 0., 0., 0., 0., 0., 1., 0., 0., 0., 0., 0., 0., 0., 0.,\n",
       "          0., 0.],\n",
       "         [0., 0., 0., 0., 0., 0., 1., 0., 0., 0., 0., 0., 0., 0., 0., 0., 0., 0.,\n",
       "          0., 0.],\n",
       "         [1., 0., 0., 0., 0., 0., 0., 0., 0., 0., 0., 0., 0., 0., 0., 0., 0., 0.,\n",
       "          0., 0.],\n",
       "         [0., 0., 0., 0., 0., 0., 0., 0., 0., 1., 0., 0., 0., 0., 0., 0., 0., 0.,\n",
       "          0., 0.],\n",
       "         [1., 0., 0., 0., 0., 0., 0., 0., 0., 0., 0., 0., 0., 0., 0., 0., 0., 0.,\n",
       "          0., 0.]]))"
      ]
     },
     "execution_count": 99,
     "metadata": {},
     "output_type": "execute_result"
    }
   ],
   "source": [
    "next(train_dat.__iter__())"
   ]
  },
  {
   "cell_type": "code",
   "execution_count": 104,
   "metadata": {},
   "outputs": [
    {
     "name": "stdout",
     "output_type": "stream",
     "text": [
      "torch.Size([32, 22])\n",
      "torch.Size([32, 20])\n",
      "0\n"
     ]
    }
   ],
   "source": [
    "for example in enumerate(train_dat):\n",
    "    print(example[1][0].shape)\n",
    "    print(example[1][1].shape)\n",
    "    print(example[0])\n",
    "    break\n",
    "    \n",
    "#The y is 20 dimensinal and x varies"
   ]
  },
  {
   "cell_type": "code",
   "execution_count": 219,
   "metadata": {},
   "outputs": [],
   "source": [
    "import torch.nn as nn\n",
    "import torch.nn.functional as F\n",
    "import torch.optim as optim\n",
    "from torch.autograd import Variable\n",
    "\n",
    "class Model(nn.Module):\n",
    "    def __init__(self,n_vocab,\n",
    "                batch_size=32,\n",
    "                embedding_dim=100,\n",
    "                hidden_dim=64,\n",
    "                num_layer=1,\n",
    "                 dropout=0.3,\n",
    "                bidirectional=False):\n",
    "        super(Model,self).__init__()\n",
    "        self.n_vocab=n_vocab\n",
    "        self.batch_size=batch_size\n",
    "        self.embedding_dim=embedding_dim\n",
    "        self.hidden_dim=hidden_dim\n",
    "        self.num_layer=num_layer\n",
    "        self.bidirectional=bidirectional\n",
    "        self.dropout=dropout\n",
    "        \n",
    "        \n",
    "        self.embedding=nn.Embedding(n_vocab,embedding_dim)\n",
    "        self.rnn=nn.RNN(self.embedding_dim, self.hidden_dim,\n",
    "                       num_layers=self.num_layer,\n",
    "                       batch_first=True)\n",
    "        self.fc1=nn.Linear(hidden_dim,20)\n",
    "        \n",
    "        self.dropout=nn.Dropout(dropout)\n",
    "        \n",
    "    def forward(self,data):\n",
    "        \n",
    "            \n",
    "        embedded=self.dropout(self.embedding(data))\n",
    "        output,hidden=self.rnn(embedded)\n",
    "        \n",
    "       # print(f\"Hidden Dim {hidden.size()}\")\n",
    "        output=F.sigmoid(self.fc1(hidden))\n",
    "        \n",
    "        return output"
   ]
  },
  {
   "cell_type": "code",
   "execution_count": 220,
   "metadata": {},
   "outputs": [
    {
     "name": "stdout",
     "output_type": "stream",
     "text": [
      "Model(\n",
      "  (embedding): Embedding(2734, 256)\n",
      "  (rnn): RNN(256, 512, batch_first=True)\n",
      "  (fc1): Linear(in_features=512, out_features=20, bias=True)\n",
      "  (dropout): Dropout(p=0.5, inplace=False)\n",
      ")\n"
     ]
    }
   ],
   "source": [
    "ENC_EMB_DIM=256\n",
    "DEC_EMB_DIM=256\n",
    "HID_DIM=512\n",
    "ENC_DROPOUT=0.5\n",
    "DEC_DROPOUT=0.5\n",
    "\n",
    "Input_Vocab=len(TEXT.vocab)\n",
    "\n",
    "model=Model(n_vocab=Input_Vocab,embedding_dim=ENC_EMB_DIM,hidden_dim=HID_DIM,\n",
    "           dropout=ENC_DROPOUT)\n",
    "\n",
    "print(model)"
   ]
  },
  {
   "cell_type": "code",
   "execution_count": 158,
   "metadata": {},
   "outputs": [
    {
     "data": {
      "text/plain": [
       "2734"
      ]
     },
     "execution_count": 158,
     "metadata": {},
     "output_type": "execute_result"
    }
   ],
   "source": [
    "len(TEXT.vocab)\n"
   ]
  },
  {
   "cell_type": "code",
   "execution_count": 221,
   "metadata": {},
   "outputs": [],
   "source": [
    "\n",
    "import tqdm\n",
    "import torch.optim as optim\n",
    "optimizer=optim.Adam(model.parameters())\n",
    "\n",
    "criterion=nn.BCEWithLogitsLoss()\n",
    "EPOCH=2"
   ]
  },
  {
   "cell_type": "code",
   "execution_count": 227,
   "metadata": {},
   "outputs": [
    {
     "name": "stderr",
     "output_type": "stream",
     "text": [
      "  0%|          | 0/22 [00:00<?, ?it/s]"
     ]
    },
    {
     "name": "stdout",
     "output_type": "stream",
     "text": [
      "torch.Size([32, 58])\n",
      "torch.Size([32, 20])\n"
     ]
    },
    {
     "name": "stderr",
     "output_type": "stream",
     "text": [
      "\n"
     ]
    }
   ],
   "source": [
    "for x,y in tqdm.tqdm(train_dat):\n",
    "    print(x.shape)\n",
    "    print(y.shape)\n",
    "    pred=model(x)\n",
    "    break\n",
    "    \n",
    "\n",
    "a=pred.squeeze(0)\n",
    "b=y"
   ]
  },
  {
   "cell_type": "code",
   "execution_count": 233,
   "metadata": {},
   "outputs": [
    {
     "data": {
      "text/plain": [
       "tensor([0.4690, 0.5022, 0.5425, 0.4864, 0.4850, 0.5229, 0.5825, 0.5364, 0.5220,\n",
       "        0.5827, 0.5796, 0.5110, 0.6235, 0.4443, 0.4291, 0.4913, 0.4087, 0.4288,\n",
       "        0.6781, 0.3700], grad_fn=<SelectBackward>)"
      ]
     },
     "execution_count": 233,
     "metadata": {},
     "output_type": "execute_result"
    }
   ],
   "source": [
    "a[31]"
   ]
  },
  {
   "cell_type": "code",
   "execution_count": 161,
   "metadata": {},
   "outputs": [
    {
     "ename": "TypeError",
     "evalue": "object of type 'function' has no len()",
     "output_type": "error",
     "traceback": [
      "\u001b[0;31m---------------------------------------------------------------------------\u001b[0m",
      "\u001b[0;31mTypeError\u001b[0m                                 Traceback (most recent call last)",
      "\u001b[0;32m<ipython-input-161-f3be6dc74c60>\u001b[0m in \u001b[0;36m<module>\u001b[0;34m\u001b[0m\n\u001b[1;32m      1\u001b[0m \u001b[0;31m#TEXT.vocab.itos[949],TEXT.vocab.itos[311],TEXT.vocab.itos[27],TEXT.vocab.itos[1854]\u001b[0m\u001b[0;34m\u001b[0m\u001b[0;34m\u001b[0m\u001b[0;34m\u001b[0m\u001b[0m\n\u001b[0;32m----> 2\u001b[0;31m \u001b[0mlen\u001b[0m\u001b[0;34m(\u001b[0m\u001b[0mtrain\u001b[0m\u001b[0;34m)\u001b[0m\u001b[0;34m\u001b[0m\u001b[0;34m\u001b[0m\u001b[0m\n\u001b[0m",
      "\u001b[0;31mTypeError\u001b[0m: object of type 'function' has no len()"
     ]
    }
   ],
   "source": [
    "#TEXT.vocab.itos[949],TEXT.vocab.itos[311],TEXT.vocab.itos[27],TEXT.vocab.itos[1854]\n",
    "len(train)"
   ]
  },
  {
   "cell_type": "code",
   "execution_count": 245,
   "metadata": {},
   "outputs": [],
   "source": [
    "def train(model,train_iter):\n",
    "    for epoch in range(1,20):\n",
    "        running_loss=0.0\n",
    "        running_corrects=0\n",
    "        model.train()\n",
    "        epoch_lo=0\n",
    "        for x,y in tqdm.tqdm(train_iter):\n",
    "            optimizer.zero_grad()\n",
    "            preds=model(x)\n",
    "            \n",
    "            #print(f\"y: {y.shape}\")\n",
    "            preds=preds.squeeze(0)\n",
    "            \n",
    "            \n",
    "            #print(f\"Hello {preds.shape}, {y.shape}\")\n",
    "            for i in range(len(preds)):\n",
    "                k=preds[i].detach().numpy()\n",
    "                d=y[i].detach().numpy()\n",
    "                if(np.argmax(k)==np.argmax(d)):\n",
    "                    epoch_lo+=1\n",
    "            #print(preds)\n",
    "            #print(preds.shape)\n",
    "            loss=criterion(y,preds)\n",
    "            loss.backward()\n",
    "            optimizer.step()\n",
    "            \n",
    "            running_loss+=loss.item()*x.size(0)\n",
    "        epoch_loss=running_loss/692\n",
    "        print(f'Epoch :{epoch}, Training Loss: {epoch_loss}, Num_Correct={epoch_lo}')"
   ]
  },
  {
   "cell_type": "code",
   "execution_count": 246,
   "metadata": {},
   "outputs": [
    {
     "name": "stderr",
     "output_type": "stream",
     "text": [
      "100%|██████████| 22/22 [00:01<00:00, 13.42it/s]\n",
      "  5%|▍         | 1/22 [00:00<00:02,  8.66it/s]"
     ]
    },
    {
     "name": "stdout",
     "output_type": "stream",
     "text": [
      "Epoch :1, Training Loss: 0.674722561257423, Num_Correct=294\n"
     ]
    },
    {
     "name": "stderr",
     "output_type": "stream",
     "text": [
      "100%|██████████| 22/22 [00:01<00:00, 13.93it/s]\n",
      "  9%|▉         | 2/22 [00:00<00:01, 11.50it/s]"
     ]
    },
    {
     "name": "stdout",
     "output_type": "stream",
     "text": [
      "Epoch :2, Training Loss: 0.6749637171712225, Num_Correct=292\n"
     ]
    },
    {
     "name": "stderr",
     "output_type": "stream",
     "text": [
      "100%|██████████| 22/22 [00:01<00:00, 13.41it/s]\n",
      "  9%|▉         | 2/22 [00:00<00:01, 14.95it/s]"
     ]
    },
    {
     "name": "stdout",
     "output_type": "stream",
     "text": [
      "Epoch :3, Training Loss: 0.6751047576093949, Num_Correct=288\n"
     ]
    },
    {
     "name": "stderr",
     "output_type": "stream",
     "text": [
      "100%|██████████| 22/22 [00:01<00:00, 15.28it/s]\n",
      "  9%|▉         | 2/22 [00:00<00:01, 14.43it/s]"
     ]
    },
    {
     "name": "stdout",
     "output_type": "stream",
     "text": [
      "Epoch :4, Training Loss: 0.6748676648029702, Num_Correct=287\n"
     ]
    },
    {
     "name": "stderr",
     "output_type": "stream",
     "text": [
      "100%|██████████| 22/22 [00:01<00:00, 14.89it/s]\n",
      "  9%|▉         | 2/22 [00:00<00:01, 16.20it/s]"
     ]
    },
    {
     "name": "stdout",
     "output_type": "stream",
     "text": [
      "Epoch :5, Training Loss: 0.6749071289349153, Num_Correct=286\n"
     ]
    },
    {
     "name": "stderr",
     "output_type": "stream",
     "text": [
      "100%|██████████| 22/22 [00:01<00:00, 12.56it/s]\n",
      "  9%|▉         | 2/22 [00:00<00:01, 15.50it/s]"
     ]
    },
    {
     "name": "stdout",
     "output_type": "stream",
     "text": [
      "Epoch :6, Training Loss: 0.674762858476253, Num_Correct=294\n"
     ]
    },
    {
     "name": "stderr",
     "output_type": "stream",
     "text": [
      "100%|██████████| 22/22 [00:01<00:00, 14.76it/s]\n",
      "  9%|▉         | 2/22 [00:00<00:01, 13.19it/s]"
     ]
    },
    {
     "name": "stdout",
     "output_type": "stream",
     "text": [
      "Epoch :7, Training Loss: 0.6751424236104667, Num_Correct=294\n"
     ]
    },
    {
     "name": "stderr",
     "output_type": "stream",
     "text": [
      "100%|██████████| 22/22 [00:01<00:00, 13.05it/s]\n",
      "  9%|▉         | 2/22 [00:00<00:01, 15.71it/s]"
     ]
    },
    {
     "name": "stdout",
     "output_type": "stream",
     "text": [
      "Epoch :8, Training Loss: 0.6751101223719602, Num_Correct=293\n"
     ]
    },
    {
     "name": "stderr",
     "output_type": "stream",
     "text": [
      "100%|██████████| 22/22 [00:01<00:00, 14.29it/s]\n",
      "  5%|▍         | 1/22 [00:00<00:02,  8.30it/s]"
     ]
    },
    {
     "name": "stdout",
     "output_type": "stream",
     "text": [
      "Epoch :9, Training Loss: 0.6749025218059562, Num_Correct=295\n"
     ]
    },
    {
     "name": "stderr",
     "output_type": "stream",
     "text": [
      "100%|██████████| 22/22 [00:01<00:00, 14.48it/s]\n",
      "  9%|▉         | 2/22 [00:00<00:01, 11.20it/s]"
     ]
    },
    {
     "name": "stdout",
     "output_type": "stream",
     "text": [
      "Epoch :10, Training Loss: 0.6748577459699157, Num_Correct=296\n"
     ]
    },
    {
     "name": "stderr",
     "output_type": "stream",
     "text": [
      "100%|██████████| 22/22 [00:01<00:00, 11.32it/s]\n",
      "  9%|▉         | 2/22 [00:00<00:01, 11.49it/s]"
     ]
    },
    {
     "name": "stdout",
     "output_type": "stream",
     "text": [
      "Epoch :11, Training Loss: 0.6747717095937343, Num_Correct=296\n"
     ]
    },
    {
     "name": "stderr",
     "output_type": "stream",
     "text": [
      "100%|██████████| 22/22 [00:01<00:00, 12.47it/s]\n",
      "  9%|▉         | 2/22 [00:00<00:01, 14.29it/s]"
     ]
    },
    {
     "name": "stdout",
     "output_type": "stream",
     "text": [
      "Epoch :12, Training Loss: 0.6749344902231514, Num_Correct=296\n"
     ]
    },
    {
     "name": "stderr",
     "output_type": "stream",
     "text": [
      "100%|██████████| 22/22 [00:01<00:00, 13.08it/s]\n",
      "  9%|▉         | 2/22 [00:00<00:01, 12.76it/s]"
     ]
    },
    {
     "name": "stdout",
     "output_type": "stream",
     "text": [
      "Epoch :13, Training Loss: 0.675115642175509, Num_Correct=284\n"
     ]
    },
    {
     "name": "stderr",
     "output_type": "stream",
     "text": [
      "100%|██████████| 22/22 [00:01<00:00, 11.57it/s]\n",
      "  5%|▍         | 1/22 [00:00<00:02,  9.41it/s]"
     ]
    },
    {
     "name": "stdout",
     "output_type": "stream",
     "text": [
      "Epoch :14, Training Loss: 0.6750798335654198, Num_Correct=255\n"
     ]
    },
    {
     "name": "stderr",
     "output_type": "stream",
     "text": [
      "100%|██████████| 22/22 [00:01<00:00, 12.59it/s]\n",
      "  5%|▍         | 1/22 [00:00<00:02,  8.93it/s]"
     ]
    },
    {
     "name": "stdout",
     "output_type": "stream",
     "text": [
      "Epoch :15, Training Loss: 0.675048992812978, Num_Correct=230\n"
     ]
    },
    {
     "name": "stderr",
     "output_type": "stream",
     "text": [
      "100%|██████████| 22/22 [00:01<00:00, 11.69it/s]\n",
      "  9%|▉         | 2/22 [00:00<00:01, 14.43it/s]"
     ]
    },
    {
     "name": "stdout",
     "output_type": "stream",
     "text": [
      "Epoch :16, Training Loss: 0.674796946131425, Num_Correct=185\n"
     ]
    },
    {
     "name": "stderr",
     "output_type": "stream",
     "text": [
      "100%|██████████| 22/22 [00:01<00:00, 12.53it/s]\n",
      "  5%|▍         | 1/22 [00:00<00:02,  8.47it/s]"
     ]
    },
    {
     "name": "stdout",
     "output_type": "stream",
     "text": [
      "Epoch :17, Training Loss: 0.6750787544801745, Num_Correct=221\n"
     ]
    },
    {
     "name": "stderr",
     "output_type": "stream",
     "text": [
      "100%|██████████| 22/22 [00:01<00:00, 12.16it/s]\n",
      "  5%|▍         | 1/22 [00:00<00:02,  8.30it/s]"
     ]
    },
    {
     "name": "stdout",
     "output_type": "stream",
     "text": [
      "Epoch :18, Training Loss: 0.6750709996747144, Num_Correct=278\n"
     ]
    },
    {
     "name": "stderr",
     "output_type": "stream",
     "text": [
      "100%|██████████| 22/22 [00:01<00:00, 13.63it/s]"
     ]
    },
    {
     "name": "stdout",
     "output_type": "stream",
     "text": [
      "Epoch :19, Training Loss: 0.6748671262939542, Num_Correct=280\n"
     ]
    },
    {
     "name": "stderr",
     "output_type": "stream",
     "text": [
      "\n"
     ]
    }
   ],
   "source": [
    "train(model,train_dat)"
   ]
  },
  {
   "cell_type": "code",
   "execution_count": 201,
   "metadata": {},
   "outputs": [
    {
     "name": "stdout",
     "output_type": "stream",
     "text": [
      "tensor([[0., 0., 0., 0., 0., 1., 0., 0., 0., 0.],\n",
      "        [0., 0., 0., 0., 0., 0., 1., 0., 0., 0.]], grad_fn=<CopySlices>) tensor([[3.9022e-01, 7.3591e-01, 2.4129e-01, 3.9507e-01, 2.3940e-02, 1.0000e+01,\n",
      "         9.0931e-02, 8.5006e-01, 4.3227e-01, 9.6372e-01],\n",
      "        [6.5665e-01, 4.4008e-03, 4.4291e-01, 8.9158e-01, 4.6105e-01, 3.9616e-01,\n",
      "         1.0000e+01, 2.0257e-01, 7.8120e-01, 2.8559e-01]])\n",
      "6\n",
      "6\n",
      "tensor([[0., 0., 0., 0., 0., 1., 0., 0., 0., 0.],\n",
      "        [0., 0., 0., 0., 0., 0., 1., 0., 0., 0.]], grad_fn=<CopySlices>)\n"
     ]
    }
   ],
   "source": [
    "a=torch.zeros((2,10),requires_grad=True)\n",
    "b=torch.rand((2,10))\n",
    "a[0,5]=1\n",
    "a[1,6]=1\n",
    "\n",
    "b[0,5]=10\n",
    "b[1,6]=10\n",
    "print(a,b)\n",
    "\n",
    "k=a[1].detach().numpy()\n",
    "d=b[1].detach().numpy()\n",
    "import numpy\n",
    "print(np.argmax(k))\n",
    "print(np.argmax(d))\n",
    "print(a)"
   ]
  },
  {
   "cell_type": "code",
   "execution_count": 244,
   "metadata": {},
   "outputs": [
    {
     "data": {
      "text/plain": [
       "20"
      ]
     },
     "execution_count": 244,
     "metadata": {},
     "output_type": "execute_result"
    }
   ],
   "source": [
    "692%32"
   ]
  },
  {
   "cell_type": "code",
   "execution_count": 247,
   "metadata": {},
   "outputs": [],
   "source": [
    "a=\"Is coronavirus killed by mosquitos?\"\n",
    "a=tokenize_eng(a)"
   ]
  },
  {
   "cell_type": "code",
   "execution_count": 249,
   "metadata": {},
   "outputs": [],
   "source": [
    "se=[]\n",
    "for word in a:\n",
    "    se.append(TEXT.vocab.stoi[word])"
   ]
  },
  {
   "cell_type": "code",
   "execution_count": 255,
   "metadata": {},
   "outputs": [
    {
     "name": "stderr",
     "output_type": "stream",
     "text": [
      "/home/ishan/anaconda3/lib/python3.7/site-packages/ipykernel_launcher.py:1: UserWarning: To copy construct from a tensor, it is recommended to use sourceTensor.clone().detach() or sourceTensor.clone().detach().requires_grad_(True), rather than torch.tensor(sourceTensor).\n",
      "  \"\"\"Entry point for launching an IPython kernel.\n"
     ]
    },
    {
     "data": {
      "text/plain": [
       "torch.Size([1, 6])"
      ]
     },
     "execution_count": 255,
     "metadata": {},
     "output_type": "execute_result"
    }
   ],
   "source": [
    "se=torch.tensor(se)\n",
    "se=se.unsqueeze(0)\n",
    "se.shape"
   ]
  },
  {
   "cell_type": "code",
   "execution_count": 256,
   "metadata": {},
   "outputs": [],
   "source": [
    "output=model(se)"
   ]
  },
  {
   "cell_type": "code",
   "execution_count": 257,
   "metadata": {},
   "outputs": [
    {
     "data": {
      "text/plain": [
       "tensor([[[0.9998, 0.9999, 0.9982, 0.9993, 0.9997, 0.9810, 0.1274, 0.9993,\n",
       "          0.9966, 0.9999, 0.9994, 0.9986, 0.9917, 0.9978, 0.9710, 0.9999,\n",
       "          0.9999, 0.9968, 0.9998, 0.9960]]], grad_fn=<SigmoidBackward>)"
      ]
     },
     "execution_count": 257,
     "metadata": {},
     "output_type": "execute_result"
    }
   ],
   "source": [
    "output"
   ]
  },
  {
   "cell_type": "code",
   "execution_count": 263,
   "metadata": {},
   "outputs": [
    {
     "data": {
      "text/plain": [
       "tensor(1)"
      ]
     },
     "execution_count": 263,
     "metadata": {},
     "output_type": "execute_result"
    }
   ],
   "source": [
    "np.argmax(output[0][0].detach())"
   ]
  },
  {
   "cell_type": "code",
   "execution_count": null,
   "metadata": {},
   "outputs": [],
   "source": []
  }
 ],
 "metadata": {
  "kernelspec": {
   "display_name": "Python 3",
   "language": "python",
   "name": "python3"
  },
  "language_info": {
   "codemirror_mode": {
    "name": "ipython",
    "version": 3
   },
   "file_extension": ".py",
   "mimetype": "text/x-python",
   "name": "python",
   "nbconvert_exporter": "python",
   "pygments_lexer": "ipython3",
   "version": "3.7.3"
  }
 },
 "nbformat": 4,
 "nbformat_minor": 2
}
